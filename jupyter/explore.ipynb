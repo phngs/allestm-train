{
 "cells": [
  {
   "cell_type": "code",
   "execution_count": 8,
   "metadata": {},
   "outputs": [
    {
     "name": "stdout",
     "output_type": "stream",
     "text": [
      "The autoreload extension is already loaded. To reload it, use:\n",
      "  %reload_ext autoreload\n"
     ]
    }
   ],
   "source": [
    "%matplotlib inline\n",
    "%load_ext autoreload\n",
    "%autoreload 2\n",
    "import matplotlib.pyplot as plt\n",
    "import sqlite3\n",
    "import pandas as pd\n",
    "import sys\n",
    "sys.path.append(\"/Users/peter/PycharmProjects/depth/\")"
   ]
  },
  {
   "cell_type": "code",
   "execution_count": 9,
   "metadata": {},
   "outputs": [],
   "source": [
    "conn = sqlite3.connect(\"../data.db\")\n",
    "cur = conn.cursor()"
   ]
  },
  {
   "cell_type": "code",
   "execution_count": 10,
   "metadata": {},
   "outputs": [],
   "source": [
    "protein_df_all = pd.read_sql_query(\"select * from proteins\", conn)"
   ]
  },
  {
   "cell_type": "code",
   "execution_count": 11,
   "metadata": {},
   "outputs": [],
   "source": [
    "protein_df = protein_df_all[(protein_df_all.method.str.match(\"x-ray\")) & (protein_df_all.cov_trimmed == 100) & (protein_df_all.cov_total >= 80) & (protein_df_all.resolution <= 3.5) & (protein_df_all.length >= 30)]"
   ]
  },
  {
   "cell_type": "code",
   "execution_count": 12,
   "metadata": {},
   "outputs": [],
   "source": [
    "ds_df = pd.read_sql_query(\"select * from (select distinct id from datasets) a join proteins using (id)\", conn)"
   ]
  },
  {
   "cell_type": "code",
   "execution_count": 29,
   "metadata": {},
   "outputs": [],
   "source": [
    "from sklearn.pipeline import Pipeline\n",
    "from sklearn.preprocessing import FunctionTransformer\n",
    "import numpy as np\n",
    "from numpy import vectorize\n",
    "import math\n",
    "from time import time"
   ]
  },
  {
   "cell_type": "code",
   "execution_count": 31,
   "metadata": {},
   "outputs": [],
   "source": [
    "from mllib.retrievers import SQLRetriever\n",
    "from mllib.features.binary import Bfactors\n",
    "import io\n",
    "from Bio import AlignIO\n",
    "\n",
    "tf = Bfactors()\n",
    "sql_retriever = SQLRetriever(conn, tf.query)"
   ]
  },
  {
   "cell_type": "code",
   "execution_count": 32,
   "metadata": {},
   "outputs": [
    {
     "data": {
      "text/plain": [
       "array([[39.49],\n",
       "       [34.57],\n",
       "       [26.44],\n",
       "       [23.22],\n",
       "       [17.75],\n",
       "       [25.37],\n",
       "       [21.06],\n",
       "       [20.82],\n",
       "       [19.79],\n",
       "       [27.47]])"
      ]
     },
     "execution_count": 32,
     "metadata": {},
     "output_type": "execute_result"
    }
   ],
   "source": [
    "r = sql_retriever.transform(\"4qnd_A\")\n",
    "r[:10]"
   ]
  },
  {
   "cell_type": "code",
   "execution_count": 25,
   "metadata": {},
   "outputs": [
    {
     "data": {
      "text/plain": [
       "array([[1.],\n",
       "       [1.],\n",
       "       [1.],\n",
       "       [1.],\n",
       "       [0.],\n",
       "       [1.],\n",
       "       [0.],\n",
       "       [0.],\n",
       "       [0.],\n",
       "       [1.]])"
      ]
     },
     "execution_count": 25,
     "metadata": {},
     "output_type": "execute_result"
    }
   ],
   "source": [
    "s = tf.fit(r).transform(r)\n",
    "s[:10]"
   ]
  },
  {
   "cell_type": "code",
   "execution_count": 26,
   "metadata": {},
   "outputs": [
    {
     "ename": "AttributeError",
     "evalue": "'BfactorsBinary' object has no attribute 'inverse_transform'",
     "output_type": "error",
     "traceback": [
      "\u001b[0;31m---------------------------------------------------------------------------\u001b[0m",
      "\u001b[0;31mAttributeError\u001b[0m                            Traceback (most recent call last)",
      "\u001b[0;32m<ipython-input-26-25108945ceed>\u001b[0m in \u001b[0;36m<module>\u001b[0;34m()\u001b[0m\n\u001b[0;32m----> 1\u001b[0;31m \u001b[0mi\u001b[0m \u001b[0;34m=\u001b[0m \u001b[0mtf\u001b[0m\u001b[0;34m.\u001b[0m\u001b[0minverse_transform\u001b[0m\u001b[0;34m(\u001b[0m\u001b[0ms\u001b[0m\u001b[0;34m)\u001b[0m\u001b[0;34m\u001b[0m\u001b[0m\n\u001b[0m\u001b[1;32m      2\u001b[0m \u001b[0mi\u001b[0m\u001b[0;34m[\u001b[0m\u001b[0;34m:\u001b[0m\u001b[0;36m10\u001b[0m\u001b[0;34m]\u001b[0m\u001b[0;34m\u001b[0m\u001b[0m\n",
      "\u001b[0;31mAttributeError\u001b[0m: 'BfactorsBinary' object has no attribute 'inverse_transform'"
     ]
    }
   ],
   "source": [
    "i = tf.inverse_transform(s)\n",
    "i[:10]"
   ]
  },
  {
   "cell_type": "code",
   "execution_count": 27,
   "metadata": {},
   "outputs": [
    {
     "data": {
      "text/plain": [
       "id             252\n",
       "pdb_id         252\n",
       "chain          252\n",
       "sequence       252\n",
       "length         252\n",
       "thickness      252\n",
       "method         252\n",
       "resolution     252\n",
       "cov_total      252\n",
       "cov_trimmed    252\n",
       "dtype: int64"
      ]
     },
     "execution_count": 27,
     "metadata": {},
     "output_type": "execute_result"
    }
   ],
   "source": [
    "ds_df.count()"
   ]
  },
  {
   "cell_type": "code",
   "execution_count": 28,
   "metadata": {},
   "outputs": [
    {
     "name": "stdout",
     "output_type": "stream",
     "text": [
      "15.130753968253968 0.9547827953200508\n"
     ]
    }
   ],
   "source": [
    "print(ds_df.thickness.mean(), ds_df.thickness.std())"
   ]
  },
  {
   "cell_type": "code",
   "execution_count": 33,
   "metadata": {},
   "outputs": [
    {
     "name": "stdout",
     "output_type": "stream",
     "text": [
      "           length   thickness  resolution   cov_total  cov_trimmed\n",
      "count   252.00000  252.000000  252.000000  252.000000        252.0\n",
      "mean    262.47619   15.130754    2.709762   96.348191        100.0\n",
      "std     188.72703    0.954783    0.520341    4.432093          0.0\n",
      "min      30.00000   11.500000    1.150000   80.000000        100.0\n",
      "25%      94.75000   14.675000    2.300000   94.642714        100.0\n",
      "50%     250.50000   15.000000    2.800000   97.797980        100.0\n",
      "75%     388.50000   15.700000    3.100000  100.000000        100.0\n",
      "max    1046.00000   19.900000    3.500000  100.000000        100.0\n"
     ]
    }
   ],
   "source": [
    "print(ds_df.describe())"
   ]
  },
  {
   "cell_type": "code",
   "execution_count": null,
   "metadata": {},
   "outputs": [],
   "source": []
  }
 ],
 "metadata": {
  "kernelspec": {
   "display_name": "Python [default]",
   "language": "python",
   "name": "python3"
  },
  "language_info": {
   "codemirror_mode": {
    "name": "ipython",
    "version": 3
   },
   "file_extension": ".py",
   "mimetype": "text/x-python",
   "name": "python",
   "nbconvert_exporter": "python",
   "pygments_lexer": "ipython3",
   "version": "3.6.5"
  }
 },
 "nbformat": 4,
 "nbformat_minor": 1
}
