{
 "cells": [
  {
   "cell_type": "code",
   "execution_count": 313,
   "metadata": {},
   "outputs": [
    {
     "name": "stdout",
     "output_type": "stream",
     "text": [
      "/home/peter/proj/allestm-train/jupyter\n"
     ]
    }
   ],
   "source": [
    "!pwd"
   ]
  },
  {
   "cell_type": "code",
   "execution_count": 314,
   "metadata": {
    "nbpresent": {
     "id": "75276eb9-7821-451e-b596-e69ea9049bbe"
    }
   },
   "outputs": [
    {
     "name": "stdout",
     "output_type": "stream",
     "text": [
      "The autoreload extension is already loaded. To reload it, use:\n",
      "  %reload_ext autoreload\n"
     ]
    }
   ],
   "source": [
    "%load_ext autoreload\n",
    "%autoreload 2\n",
    "%matplotlib inline\n",
    "import matplotlib as mpl\n",
    "import matplotlib.pyplot as plt\n",
    "import seaborn as sns\n",
    "import sqlite3\n",
    "import numpy as np\n",
    "import pandas as pd\n",
    "import json\n",
    "import pathlib\n",
    "import math\n",
    "\n",
    "from scipy.stats import pearsonr, spearmanr\n",
    "from sklearn.metrics import mean_absolute_error, mean_squared_error\n",
    "from sklearn.metrics import accuracy_score, precision_score, recall_score, f1_score, matthews_corrcoef, roc_auc_score\n",
    "from sklearn.metrics import precision_recall_curve, roc_curve\n",
    "\n",
    "#mpl.rcParams['figure.dpi'] = 300\n",
    "#sns.set_style(\"ticks\")\n",
    "\n",
    "sns.set()\n",
    "sns.set_style('whitegrid')\n",
    "sns.set_context('paper')\n",
    "sns.set_palette('Paired', 13)"
   ]
  },
  {
   "cell_type": "code",
   "execution_count": 315,
   "metadata": {},
   "outputs": [
    {
     "data": {
      "image/png": "[encoded data removed]",
      "text/plain": [
       "<Figure size 936x72 with 1 Axes>"
      ]
     },
     "metadata": {},
     "output_type": "display_data"
    }
   ],
   "source": [
    "current_palette = sns.color_palette()\n",
    "sns.palplot(current_palette)"
   ]
  },
  {
   "cell_type": "markdown",
   "metadata": {},
   "source": [
    "# Config"
   ]
  },
  {
   "cell_type": "code",
   "execution_count": 316,
   "metadata": {},
   "outputs": [],
   "source": [
    "dataset_name = 'depth'\n",
    "kind = 'test'#'test' / 'independent_test'\n",
    "plot_dir = pathlib.Path('../plots/')\n",
    "file_format = 'png'\n",
    "savefig_args = {'dpi': 300, 'bbox_inches':'tight'}\n",
    "two_col_fig_width = 7.5\n",
    "one_col_fig_width = 3.5\n",
    "\n",
    "method_mapping = [\n",
    "    ['observed', 'Observed'],\n",
    "    ['rf_', 'RF'],\n",
    "    ['xgb_', 'GBM'],\n",
    "    ['cnn_', 'conv'],\n",
    "    ['dcnn_', 'dconv'],\n",
    "    ['lstm_', 'LSTM'],\n",
    "    ['blending', 'AllesTM'],\n",
    "    ['profbval', 'PROFbval'],\n",
    "    ['spinex', 'SPINE X'],\n",
    "    ['anglor', 'ANGLOR'],\n",
    "    ['predyflexy', 'PredyFlexy'],\n",
    "    ['memsat', 'MEMSAT-SVM'],\n",
    "    ['polyphobius', 'PolyPhobius'],\n",
    "    ['prof', 'PROFphd'],\n",
    "    ['psipred', 'PSIPRED']\n",
    "]"
   ]
  },
  {
   "cell_type": "markdown",
   "metadata": {
    "nbpresent": {
     "id": "b2f87d09-d830-4fb4-bb59-f1df835cba2d"
    }
   },
   "source": [
    "# Raw data"
   ]
  },
  {
   "cell_type": "code",
   "execution_count": 317,
   "metadata": {
    "nbpresent": {
     "id": "2d516de6-dbe7-4d27-b40d-e4dd6198b2e7"
    }
   },
   "outputs": [],
   "source": [
    "conn = sqlite3.connect(\"../data.db\")"
   ]
  },
  {
   "cell_type": "code",
   "execution_count": 318,
   "metadata": {
    "nbpresent": {
     "id": "39c0d823-bf0a-4b7f-be47-417b9730c246"
    }
   },
   "outputs": [],
   "source": [
    "raw_df = pd.read_sql_query(f\"select * from raw_data join (select distinct id from datasets where name='{dataset_name}' and kind='{kind}') a using (id) join proteins using (id)\", conn)"
   ]
  },
  {
   "cell_type": "code",
   "execution_count": 319,
   "metadata": {
    "nbpresent": {
     "id": "d8cffd14-b91e-414b-ab29-a902729fe53a"
    }
   },
   "outputs": [
    {
     "data": {
      "text/html": [
       "<div>\n",
       "<style scoped>\n",
       "    .dataframe tbody tr th:only-of-type {\n",
       "        vertical-align: middle;\n",
       "    }\n",
       "\n",
       "    .dataframe tbody tr th {\n",
       "        vertical-align: top;\n",
       "    }\n",
       "\n",
       "    .dataframe thead th {\n",
       "        text-align: right;\n",
       "    }\n",
       "</style>\n",
       "<table border=\"1\" class=\"dataframe\">\n",
       "  <thead>\n",
       "    <tr style=\"text-align: right;\">\n",
       "      <th></th>\n",
       "      <th>resi</th>\n",
       "      <th>bfactor</th>\n",
       "      <th>phi</th>\n",
       "      <th>psi</th>\n",
       "      <th>acc_chain</th>\n",
       "      <th>acc_complex</th>\n",
       "      <th>tms_nr</th>\n",
       "      <th>re_nr</th>\n",
       "      <th>n_x</th>\n",
       "      <th>n_y</th>\n",
       "      <th>...</th>\n",
       "      <th>c_x</th>\n",
       "      <th>c_y</th>\n",
       "      <th>c_z</th>\n",
       "      <th>length</th>\n",
       "      <th>thickness</th>\n",
       "      <th>resolution</th>\n",
       "      <th>cov_total</th>\n",
       "      <th>cov_trimmed</th>\n",
       "      <th>num_tms</th>\n",
       "      <th>num_res</th>\n",
       "    </tr>\n",
       "  </thead>\n",
       "  <tbody>\n",
       "    <tr>\n",
       "      <td>count</td>\n",
       "      <td>56089.000000</td>\n",
       "      <td>56089.000000</td>\n",
       "      <td>56089.000000</td>\n",
       "      <td>56089.000000</td>\n",
       "      <td>56089.000000</td>\n",
       "      <td>56089.000000</td>\n",
       "      <td>56089.000000</td>\n",
       "      <td>56089.00000</td>\n",
       "      <td>56089.000000</td>\n",
       "      <td>56089.000000</td>\n",
       "      <td>...</td>\n",
       "      <td>56089.000000</td>\n",
       "      <td>56089.000000</td>\n",
       "      <td>56089.000000</td>\n",
       "      <td>56089.000000</td>\n",
       "      <td>56089.000000</td>\n",
       "      <td>56089.000000</td>\n",
       "      <td>56089.000000</td>\n",
       "      <td>56089.0</td>\n",
       "      <td>56089.000000</td>\n",
       "      <td>56089.000000</td>\n",
       "    </tr>\n",
       "    <tr>\n",
       "      <td>mean</td>\n",
       "      <td>208.356237</td>\n",
       "      <td>76.658649</td>\n",
       "      <td>-1.200025</td>\n",
       "      <td>-0.004692</td>\n",
       "      <td>0.321574</td>\n",
       "      <td>0.268685</td>\n",
       "      <td>0.933427</td>\n",
       "      <td>-0.95500</td>\n",
       "      <td>1.141074</td>\n",
       "      <td>1.450618</td>\n",
       "      <td>...</td>\n",
       "      <td>1.129061</td>\n",
       "      <td>1.455702</td>\n",
       "      <td>-4.084774</td>\n",
       "      <td>417.712475</td>\n",
       "      <td>15.109460</td>\n",
       "      <td>2.777858</td>\n",
       "      <td>96.845847</td>\n",
       "      <td>100.0</td>\n",
       "      <td>7.265471</td>\n",
       "      <td>0.867710</td>\n",
       "    </tr>\n",
       "    <tr>\n",
       "      <td>std</td>\n",
       "      <td>175.068148</td>\n",
       "      <td>47.247210</td>\n",
       "      <td>0.729823</td>\n",
       "      <td>1.316982</td>\n",
       "      <td>0.265701</td>\n",
       "      <td>0.251495</td>\n",
       "      <td>3.104775</td>\n",
       "      <td>0.31908</td>\n",
       "      <td>19.701444</td>\n",
       "      <td>17.020057</td>\n",
       "      <td>...</td>\n",
       "      <td>19.710211</td>\n",
       "      <td>17.016847</td>\n",
       "      <td>28.809420</td>\n",
       "      <td>219.829738</td>\n",
       "      <td>0.818853</td>\n",
       "      <td>0.527638</td>\n",
       "      <td>3.505943</td>\n",
       "      <td>0.0</td>\n",
       "      <td>4.145765</td>\n",
       "      <td>1.126726</td>\n",
       "    </tr>\n",
       "    <tr>\n",
       "      <td>min</td>\n",
       "      <td>0.000000</td>\n",
       "      <td>-4.780000</td>\n",
       "      <td>-3.137710</td>\n",
       "      <td>-3.141232</td>\n",
       "      <td>0.000000</td>\n",
       "      <td>0.000000</td>\n",
       "      <td>-1.000000</td>\n",
       "      <td>-1.00000</td>\n",
       "      <td>-73.666000</td>\n",
       "      <td>-75.028999</td>\n",
       "      <td>...</td>\n",
       "      <td>-74.065002</td>\n",
       "      <td>-74.397003</td>\n",
       "      <td>-122.847000</td>\n",
       "      <td>37.000000</td>\n",
       "      <td>11.500000</td>\n",
       "      <td>1.150000</td>\n",
       "      <td>81.382979</td>\n",
       "      <td>100.0</td>\n",
       "      <td>1.000000</td>\n",
       "      <td>0.000000</td>\n",
       "    </tr>\n",
       "    <tr>\n",
       "      <td>25%</td>\n",
       "      <td>79.000000</td>\n",
       "      <td>41.810000</td>\n",
       "      <td>-1.428136</td>\n",
       "      <td>-0.783649</td>\n",
       "      <td>0.070423</td>\n",
       "      <td>0.038462</td>\n",
       "      <td>-1.000000</td>\n",
       "      <td>-1.00000</td>\n",
       "      <td>-11.711000</td>\n",
       "      <td>-9.046000</td>\n",
       "      <td>...</td>\n",
       "      <td>-11.735000</td>\n",
       "      <td>-9.034000</td>\n",
       "      <td>-19.430000</td>\n",
       "      <td>269.000000</td>\n",
       "      <td>14.700000</td>\n",
       "      <td>2.400000</td>\n",
       "      <td>95.112782</td>\n",
       "      <td>100.0</td>\n",
       "      <td>4.000000</td>\n",
       "      <td>0.000000</td>\n",
       "    </tr>\n",
       "    <tr>\n",
       "      <td>50%</td>\n",
       "      <td>166.000000</td>\n",
       "      <td>65.930000</td>\n",
       "      <td>-1.156551</td>\n",
       "      <td>-0.611555</td>\n",
       "      <td>0.285714</td>\n",
       "      <td>0.201220</td>\n",
       "      <td>-1.000000</td>\n",
       "      <td>-1.00000</td>\n",
       "      <td>0.891000</td>\n",
       "      <td>0.548000</td>\n",
       "      <td>...</td>\n",
       "      <td>0.905000</td>\n",
       "      <td>0.541000</td>\n",
       "      <td>-2.973000</td>\n",
       "      <td>366.000000</td>\n",
       "      <td>15.100000</td>\n",
       "      <td>2.850000</td>\n",
       "      <td>97.959184</td>\n",
       "      <td>100.0</td>\n",
       "      <td>7.000000</td>\n",
       "      <td>0.000000</td>\n",
       "    </tr>\n",
       "    <tr>\n",
       "      <td>75%</td>\n",
       "      <td>287.000000</td>\n",
       "      <td>100.440000</td>\n",
       "      <td>-1.037116</td>\n",
       "      <td>0.247370</td>\n",
       "      <td>0.526627</td>\n",
       "      <td>0.452381</td>\n",
       "      <td>2.000000</td>\n",
       "      <td>-1.00000</td>\n",
       "      <td>13.242000</td>\n",
       "      <td>10.547000</td>\n",
       "      <td>...</td>\n",
       "      <td>13.205000</td>\n",
       "      <td>10.568000</td>\n",
       "      <td>13.888000</td>\n",
       "      <td>506.000000</td>\n",
       "      <td>15.500000</td>\n",
       "      <td>3.200000</td>\n",
       "      <td>99.713467</td>\n",
       "      <td>100.0</td>\n",
       "      <td>11.000000</td>\n",
       "      <td>1.000000</td>\n",
       "    </tr>\n",
       "    <tr>\n",
       "      <td>max</td>\n",
       "      <td>1045.000000</td>\n",
       "      <td>409.280000</td>\n",
       "      <td>3.133032</td>\n",
       "      <td>3.140863</td>\n",
       "      <td>1.000000</td>\n",
       "      <td>1.000000</td>\n",
       "      <td>15.000000</td>\n",
       "      <td>3.00000</td>\n",
       "      <td>82.933998</td>\n",
       "      <td>95.122002</td>\n",
       "      <td>...</td>\n",
       "      <td>83.083000</td>\n",
       "      <td>95.275002</td>\n",
       "      <td>96.942001</td>\n",
       "      <td>1046.000000</td>\n",
       "      <td>17.800000</td>\n",
       "      <td>3.500000</td>\n",
       "      <td>100.000000</td>\n",
       "      <td>100.0</td>\n",
       "      <td>16.000000</td>\n",
       "      <td>4.000000</td>\n",
       "    </tr>\n",
       "  </tbody>\n",
       "</table>\n",
       "<p>8 rows × 24 columns</p>\n",
       "</div>"
      ],
      "text/plain": [
       "               resi       bfactor           phi           psi     acc_chain  \\\n",
       "count  56089.000000  56089.000000  56089.000000  56089.000000  56089.000000   \n",
       "mean     208.356237     76.658649     -1.200025     -0.004692      0.321574   \n",
       "std      175.068148     47.247210      0.729823      1.316982      0.265701   \n",
       "min        0.000000     -4.780000     -3.137710     -3.141232      0.000000   \n",
       "25%       79.000000     41.810000     -1.428136     -0.783649      0.070423   \n",
       "50%      166.000000     65.930000     -1.156551     -0.611555      0.285714   \n",
       "75%      287.000000    100.440000     -1.037116      0.247370      0.526627   \n",
       "max     1045.000000    409.280000      3.133032      3.140863      1.000000   \n",
       "\n",
       "        acc_complex        tms_nr        re_nr           n_x           n_y  \\\n",
       "count  56089.000000  56089.000000  56089.00000  56089.000000  56089.000000   \n",
       "mean       0.268685      0.933427     -0.95500      1.141074      1.450618   \n",
       "std        0.251495      3.104775      0.31908     19.701444     17.020057   \n",
       "min        0.000000     -1.000000     -1.00000    -73.666000    -75.028999   \n",
       "25%        0.038462     -1.000000     -1.00000    -11.711000     -9.046000   \n",
       "50%        0.201220     -1.000000     -1.00000      0.891000      0.548000   \n",
       "75%        0.452381      2.000000     -1.00000     13.242000     10.547000   \n",
       "max        1.000000     15.000000      3.00000     82.933998     95.122002   \n",
       "\n",
       "       ...           c_x           c_y           c_z        length  \\\n",
       "count  ...  56089.000000  56089.000000  56089.000000  56089.000000   \n",
       "mean   ...      1.129061      1.455702     -4.084774    417.712475   \n",
       "std    ...     19.710211     17.016847     28.809420    219.829738   \n",
       "min    ...    -74.065002    -74.397003   -122.847000     37.000000   \n",
       "25%    ...    -11.735000     -9.034000    -19.430000    269.000000   \n",
       "50%    ...      0.905000      0.541000     -2.973000    366.000000   \n",
       "75%    ...     13.205000     10.568000     13.888000    506.000000   \n",
       "max    ...     83.083000     95.275002     96.942001   1046.000000   \n",
       "\n",
       "          thickness    resolution     cov_total  cov_trimmed       num_tms  \\\n",
       "count  56089.000000  56089.000000  56089.000000      56089.0  56089.000000   \n",
       "mean      15.109460      2.777858     96.845847        100.0      7.265471   \n",
       "std        0.818853      0.527638      3.505943          0.0      4.145765   \n",
       "min       11.500000      1.150000     81.382979        100.0      1.000000   \n",
       "25%       14.700000      2.400000     95.112782        100.0      4.000000   \n",
       "50%       15.100000      2.850000     97.959184        100.0      7.000000   \n",
       "75%       15.500000      3.200000     99.713467        100.0     11.000000   \n",
       "max       17.800000      3.500000    100.000000        100.0     16.000000   \n",
       "\n",
       "            num_res  \n",
       "count  56089.000000  \n",
       "mean       0.867710  \n",
       "std        1.126726  \n",
       "min        0.000000  \n",
       "25%        0.000000  \n",
       "50%        0.000000  \n",
       "75%        1.000000  \n",
       "max        4.000000  \n",
       "\n",
       "[8 rows x 24 columns]"
      ]
     },
     "execution_count": 319,
     "metadata": {},
     "output_type": "execute_result"
    }
   ],
   "source": [
    "raw_df.describe()"
   ]
  },
  {
   "cell_type": "code",
   "execution_count": 320,
   "metadata": {},
   "outputs": [],
   "source": [
    "proteins_df = pd.read_sql_query(f\"select * from (select distinct id from datasets where name='{dataset_name}' and kind='{kind}') a join proteins using (id)\", conn)"
   ]
  },
  {
   "cell_type": "code",
   "execution_count": 321,
   "metadata": {},
   "outputs": [
    {
     "data": {
      "text/html": [
       "<div>\n",
       "<style scoped>\n",
       "    .dataframe tbody tr th:only-of-type {\n",
       "        vertical-align: middle;\n",
       "    }\n",
       "\n",
       "    .dataframe tbody tr th {\n",
       "        vertical-align: top;\n",
       "    }\n",
       "\n",
       "    .dataframe thead th {\n",
       "        text-align: right;\n",
       "    }\n",
       "</style>\n",
       "<table border=\"1\" class=\"dataframe\">\n",
       "  <thead>\n",
       "    <tr style=\"text-align: right;\">\n",
       "      <th></th>\n",
       "      <th>length</th>\n",
       "      <th>thickness</th>\n",
       "      <th>resolution</th>\n",
       "      <th>cov_total</th>\n",
       "      <th>cov_trimmed</th>\n",
       "      <th>num_tms</th>\n",
       "      <th>num_res</th>\n",
       "    </tr>\n",
       "  </thead>\n",
       "  <tbody>\n",
       "    <tr>\n",
       "      <td>count</td>\n",
       "      <td>178.000000</td>\n",
       "      <td>178.000000</td>\n",
       "      <td>178.000000</td>\n",
       "      <td>178.000000</td>\n",
       "      <td>178.0</td>\n",
       "      <td>178.000000</td>\n",
       "      <td>178.000000</td>\n",
       "    </tr>\n",
       "    <tr>\n",
       "      <td>mean</td>\n",
       "      <td>315.106742</td>\n",
       "      <td>15.083989</td>\n",
       "      <td>2.724888</td>\n",
       "      <td>96.485166</td>\n",
       "      <td>100.0</td>\n",
       "      <td>5.870787</td>\n",
       "      <td>0.752809</td>\n",
       "    </tr>\n",
       "    <tr>\n",
       "      <td>std</td>\n",
       "      <td>180.317563</td>\n",
       "      <td>0.880475</td>\n",
       "      <td>0.526556</td>\n",
       "      <td>3.948667</td>\n",
       "      <td>0.0</td>\n",
       "      <td>3.954564</td>\n",
       "      <td>1.065970</td>\n",
       "    </tr>\n",
       "    <tr>\n",
       "      <td>min</td>\n",
       "      <td>37.000000</td>\n",
       "      <td>11.500000</td>\n",
       "      <td>1.150000</td>\n",
       "      <td>81.382979</td>\n",
       "      <td>100.0</td>\n",
       "      <td>1.000000</td>\n",
       "      <td>0.000000</td>\n",
       "    </tr>\n",
       "    <tr>\n",
       "      <td>25%</td>\n",
       "      <td>194.500000</td>\n",
       "      <td>14.700000</td>\n",
       "      <td>2.352500</td>\n",
       "      <td>94.896081</td>\n",
       "      <td>100.0</td>\n",
       "      <td>2.000000</td>\n",
       "      <td>0.000000</td>\n",
       "    </tr>\n",
       "    <tr>\n",
       "      <td>50%</td>\n",
       "      <td>282.500000</td>\n",
       "      <td>15.000000</td>\n",
       "      <td>2.800000</td>\n",
       "      <td>97.777869</td>\n",
       "      <td>100.0</td>\n",
       "      <td>5.500000</td>\n",
       "      <td>0.000000</td>\n",
       "    </tr>\n",
       "    <tr>\n",
       "      <td>75%</td>\n",
       "      <td>419.750000</td>\n",
       "      <td>15.575000</td>\n",
       "      <td>3.182500</td>\n",
       "      <td>99.713877</td>\n",
       "      <td>100.0</td>\n",
       "      <td>8.000000</td>\n",
       "      <td>1.000000</td>\n",
       "    </tr>\n",
       "    <tr>\n",
       "      <td>max</td>\n",
       "      <td>1046.000000</td>\n",
       "      <td>17.800000</td>\n",
       "      <td>3.500000</td>\n",
       "      <td>100.000000</td>\n",
       "      <td>100.0</td>\n",
       "      <td>16.000000</td>\n",
       "      <td>4.000000</td>\n",
       "    </tr>\n",
       "  </tbody>\n",
       "</table>\n",
       "</div>"
      ],
      "text/plain": [
       "            length   thickness  resolution   cov_total  cov_trimmed  \\\n",
       "count   178.000000  178.000000  178.000000  178.000000        178.0   \n",
       "mean    315.106742   15.083989    2.724888   96.485166        100.0   \n",
       "std     180.317563    0.880475    0.526556    3.948667          0.0   \n",
       "min      37.000000   11.500000    1.150000   81.382979        100.0   \n",
       "25%     194.500000   14.700000    2.352500   94.896081        100.0   \n",
       "50%     282.500000   15.000000    2.800000   97.777869        100.0   \n",
       "75%     419.750000   15.575000    3.182500   99.713877        100.0   \n",
       "max    1046.000000   17.800000    3.500000  100.000000        100.0   \n",
       "\n",
       "          num_tms     num_res  \n",
       "count  178.000000  178.000000  \n",
       "mean     5.870787    0.752809  \n",
       "std      3.954564    1.065970  \n",
       "min      1.000000    0.000000  \n",
       "25%      2.000000    0.000000  \n",
       "50%      5.500000    0.000000  \n",
       "75%      8.000000    1.000000  \n",
       "max     16.000000    4.000000  "
      ]
     },
     "execution_count": 321,
     "metadata": {},
     "output_type": "execute_result"
    }
   ],
   "source": [
    "proteins_df.describe()"
   ]
  },
  {
   "cell_type": "code",
   "execution_count": 322,
   "metadata": {},
   "outputs": [
    {
     "data": {
      "text/plain": [
       "<matplotlib.legend.Legend at 0x7ff8c04b4b10>"
      ]
     },
     "execution_count": 322,
     "metadata": {},
     "output_type": "execute_result"
    },
    {
     "data": {
      "image/png": "[encoded data removed]",
      "text/plain": [
       "<Figure size 432x288 with 1 Axes>"
      ]
     },
     "metadata": {},
     "output_type": "display_data"
    }
   ],
   "source": [
    "sns.distplot(proteins_df.length, kde=False, rug=True, bins=30, label=\"Reduced data\")\n",
    "#sns.distplot(pd.read_sql_query(\"select * from proteins\", conn).length, kde=True, label=\"Original data\")\n",
    "plt.legend()"
   ]
  },
  {
   "cell_type": "markdown",
   "metadata": {
    "nbpresent": {
     "id": "50ecf46a-7d96-438d-9c11-b36b0b7ef55f"
    }
   },
   "source": [
    "# Benchmark helper functions"
   ]
  },
  {
   "cell_type": "markdown",
   "metadata": {},
   "source": [
    "## Measures"
   ]
  },
  {
   "cell_type": "code",
   "execution_count": 323,
   "metadata": {},
   "outputs": [],
   "source": [
    "def exp2name(exp):\n",
    "    for m, name in method_mapping:\n",
    "        if exp.lower().startswith(m):\n",
    "            return name\n",
    "    return f'MISSING {exp}'\n",
    "\n",
    "def exp2order(exp):\n",
    "    for i, (m, name) in enumerate(method_mapping):\n",
    "        if exp.lower().startswith(m):\n",
    "            return i\n",
    "    return f'MISSING {exp}'"
   ]
  },
  {
   "cell_type": "code",
   "execution_count": 324,
   "metadata": {},
   "outputs": [],
   "source": [
    "def measures_cont(df, filename=None):\n",
    "    measures = [pearsonr, mean_absolute_error, mean_squared_error, lambda x, y: math.sqrt(mean_squared_error(x, y))]\n",
    "    measure_names = ['r', 'MAE', 'MSE', 'RMSE']\n",
    "    obs = df[df.experiment == \"observed\"].val_0\n",
    "    benchmarks = {}\n",
    "    experiments = df[df.experiment != \"observed\"].experiment.unique()\n",
    "    for experiment in sorted(experiments, key=exp2order):\n",
    "        pred = df[df.experiment == experiment].val_0\n",
    "        for i, measure in enumerate(measures):\n",
    "            result = measure(obs, pred)\n",
    "            if isinstance(result, list) or isinstance(result, tuple):\n",
    "               \n",
    "                if not measure_names[i] in benchmarks:\n",
    "                    benchmarks[measure_names[i]] = []\n",
    "                benchmarks[measure_names[i]].append(round(result[i], 2))\n",
    "                #for i in range(len(result)):\n",
    "                #    if not \"{}_{}\".format(measure.__name__, i) in benchmarks:\n",
    "                #        benchmarks[\"{}_{}\".format(measure.__name__, i)] = []\n",
    "                #    benchmarks[\"{}_{}\".format(measure.__name__, i)].append(round(result[i], 3))\n",
    "            else:\n",
    "                if not measure_names[i] in benchmarks:\n",
    "                    benchmarks[measure_names[i]] = []\n",
    "                benchmarks[measure_names[i]].append(round(result, 2))\n",
    "    \n",
    "    result = pd.DataFrame(benchmarks, index=[exp2name(x) for x in sorted(experiments, key=exp2order)])\n",
    "    if filename is not None:\n",
    "        result.to_csv(plot_dir / f'{dataset_name}_{kind}_{filename}.csv')\n",
    "    return result.style.highlight_min(axis=0, color=\"yellow\").highlight_max(axis=0, color=\"orange\")\n",
    "    #return pd.DataFrame(benchmarks, index=[exp2name(x) for x in experiments]).sort_values(by=\"MAE\").style.highlight_min(axis=0, color=\"yellow\").highlight_max(axis=0, color=\"orange\")"
   ]
  },
  {
   "cell_type": "code",
   "execution_count": 325,
   "metadata": {
    "nbpresent": {
     "id": "24ca9772-2fc6-4c39-8617-6bcc1468f405"
    }
   },
   "outputs": [],
   "source": [
    "def measures_bin(df, filename=None):\n",
    "    measures = [accuracy_score, precision_score, recall_score, f1_score, roc_auc_score, matthews_corrcoef]\n",
    "    measure_names = ['ACC', 'P', 'R', 'F1', 'AUC', 'MCC']\n",
    "    obs = df[df.experiment == \"observed\"].val_0\n",
    "    benchmarks = {measure: [] for measure in measure_names}\n",
    "    experiments = df[df.experiment != \"observed\"].experiment.unique()\n",
    "    for experiment in sorted(experiments, key=exp2order):\n",
    "        pred = df[df.experiment == experiment].val_0.round()\n",
    "        for i, measure in enumerate(measures):\n",
    "            benchmarks[measure_names[i]].append(round(measure(obs, pred), 2))\n",
    "    result = pd.DataFrame(benchmarks, index=[exp2name(x) for x in sorted(experiments, key=exp2order)])\n",
    "    if filename is not None:\n",
    "        result.to_csv(plot_dir / f'{dataset_name}_{kind}_{filename}.csv')\n",
    "    return result.style.highlight_min(axis=0, color=\"yellow\").highlight_max(axis=0, color=\"orange\")\n",
    "    #return pd.DataFrame(benchmarks, index=[exp2name(x) for x in experiments]).sort_values(by=\"ACC\", ascending=False).style.highlight_min(axis=0, color=\"yellow\").highlight_max(axis=0, color=\"orange\")"
   ]
  },
  {
   "cell_type": "code",
   "execution_count": 326,
   "metadata": {},
   "outputs": [],
   "source": [
    "def measures_cat(df, num_classes=3, class_names=None, filename=None):\n",
    "    if class_names is None:\n",
    "        class_names = [i for i in range(num_classes)]\n",
    "        \n",
    "    measures_all = [accuracy_score]\n",
    "    measures_class = [precision_score, recall_score, f1_score, roc_auc_score, matthews_corrcoef]\n",
    "    measure_all_names = ['ACC']\n",
    "    measure_names = ['P', 'R', 'F1', 'AUC', 'MCC']\n",
    "    \n",
    "    obs = df[df.experiment == \"observed\"][[\"val_{}\".format(x) for x in range(num_classes)]]\n",
    "    \n",
    "    #benchmarks = {measure.__name__: [] for measure in measures_all + measures_class}\n",
    "    benchmarks = {measure: [] for measure in measure_all_names}\n",
    "    experiments = df[df.experiment != \"observed\"].experiment.unique()\n",
    "    for experiment in sorted(experiments, key=exp2order):\n",
    "        pred = df[df.experiment == experiment][[\"val_{}\".format(x) for x in range(num_classes)]]\n",
    "        pred_argmax = np.array(pred).argmax(axis=1)\n",
    "        for i, measure in enumerate(measures_all):\n",
    "            benchmarks[measure_all_names[i]].append(round(measure(np.array(obs).argmax(axis=1), pred_argmax), 2))\n",
    "        \n",
    "        obs_rounded = np.array(obs)\n",
    "        pred_rounded = np.zeros(pred.shape)\n",
    "        for i, argmax in enumerate(pred_argmax):\n",
    "            pred_rounded[i, argmax] = 1\n",
    "           \n",
    "        \n",
    "            \n",
    "            #class_results = []\n",
    "        for i in range(num_classes):\n",
    "            for m, measure in enumerate(measures_class):\n",
    "                if not \"{} ({})\".format(class_names[i], measure_names[m]) in benchmarks:\n",
    "                    benchmarks[\"{} ({})\".format(class_names[i], measure_names[m])] = []\n",
    "                benchmarks[\"{} ({})\".format(class_names[i], measure_names[m])].append(round(measure(obs_rounded[:, i], pred_rounded[:, i]), 2))\n",
    "                #class_results.append(round(measure(obs_rounded[:, i], pred_rounded[:, i]), 3))\n",
    "            #benchmarks[measure.__name__].append(class_results)\n",
    "        \n",
    "    result = pd.DataFrame(benchmarks, index=[exp2name(x) for x in sorted(experiments, key=exp2order)])\n",
    "    if filename is not None:\n",
    "        result.to_csv(plot_dir / f'{dataset_name}_{kind}_{filename}.csv')\n",
    "    return result.style.highlight_min(axis=0, color=\"yellow\").highlight_max(axis=0, color=\"orange\")\n",
    "    #return pd.DataFrame(benchmarks, index=[exp2name(x) for x in experiments]).sort_values(by=\"ACC\", ascending=False).style.highlight_min(axis=0, color=\"yellow\").highlight_max(axis=0, color=\"orange\")"
   ]
  },
  {
   "cell_type": "markdown",
   "metadata": {},
   "source": [
    "<h2>Plots</h2>"
   ]
  },
  {
   "cell_type": "code",
   "execution_count": 327,
   "metadata": {},
   "outputs": [],
   "source": [
    "def plots_cont(df, xlab, ylab, filename=None, hist=False, kde=True):\n",
    "    fig, ax = plt.subplots(1, 1, figsize=(one_col_fig_width, one_col_fig_width))\n",
    "    #min_val = df.val_0.min()\n",
    "    #max_val = df.val_0.max()\n",
    "    #axs[1].set(xlim=(min_val, max_val), ylim=(min_val, max_val))\n",
    "    for experiment in sorted(df.experiment.unique(), key=exp2order):\n",
    "        kde_kws = {}\n",
    "        color = None\n",
    "        if experiment == \"observed\":\n",
    "            #hist = True\n",
    "            color='black'\n",
    "            kde_kws[\"lw\"] = 4\n",
    "        else:\n",
    "            pass\n",
    "            #sns.kdeplot(df[df.experiment == 'observed'].val_0, df[df.experiment == experiment].val_0, label=experiment, ax=axs[1])\n",
    "            #sns.regplot(df[df.experiment == 'observed'].val_0, df[df.experiment == experiment].val_0, label=experiment, ax=axs[1], scatter=False)\n",
    "        sns.distplot(df[df.experiment == experiment].val_0, label=exp2name(experiment), hist=hist, kde=kde, color=color, ax=ax, kde_kws=kde_kws)\n",
    "    ax.set(xlabel=xlab, ylabel=ylab)\n",
    "    ax.legend(frameon=True, facecolor='white', framealpha=0.8)\n",
    "    #axs[1].set(xlabel='Observed', ylabel='Predicted')\n",
    "    #axs[1].legend()\n",
    "    if filename is not None:\n",
    "        fig.savefig(plot_dir / f'{dataset_name}_{kind}_{filename}.{file_format}', **savefig_args)"
   ]
  },
  {
   "cell_type": "code",
   "execution_count": 328,
   "metadata": {},
   "outputs": [],
   "source": [
    "def plots_bin(obs_df, dfs, filename=None):\n",
    "    fig, ax = plt.subplots(1, 2)\n",
    "    fig.set_size_inches(two_col_fig_width, two_col_fig_width/2)\n",
    "    for a in ax:\n",
    "        a.set_xlim([0, 1])\n",
    "        a.set_ylim([0, 1])\n",
    "    \n",
    "    obs = obs_df[obs_df.experiment == \"observed\"].val_0\n",
    "    \n",
    "    for name, df in dfs.items():\n",
    "        for experiment in sorted(df[df.experiment != \"observed\"].experiment.unique(), key=exp2order):\n",
    "            pr = precision_recall_curve(obs, df[df.experiment == experiment].val_0)\n",
    "            ax[0].plot(pr[1], pr[0], label=exp2name(experiment))\n",
    "\n",
    "            roc = roc_curve(obs, df[df.experiment == experiment].val_0)\n",
    "            ax[1].plot(roc[0], roc[1], label=exp2name(experiment))\n",
    "\n",
    "    ax[0].set(xlabel=\"Recall\", ylabel=\"Precision\")\n",
    "    #ax[0].legend()\n",
    "    ax[1].set(xlabel=\"FPR or (1 - specificity)\", ylabel=\"TPR or sensitivity\")\n",
    "    ax[1].legend(frameon=True, facecolor='white', framealpha=0.8)\n",
    "    if filename is not None:\n",
    "        fig.savefig(plot_dir / f'{dataset_name}_{kind}_{filename}.{file_format}', **savefig_args)"
   ]
  },
  {
   "cell_type": "code",
   "execution_count": 329,
   "metadata": {},
   "outputs": [],
   "source": [
    "def plots_cat(obs_df, dfs, num_classes=3, filename=None, class_names=None):\n",
    "    fig, ax = plt.subplots(num_classes, 2)\n",
    "    fig.set_size_inches(two_col_fig_width, two_col_fig_width / 2 * num_classes)\n",
    "    for a in ax:\n",
    "        for b in a:\n",
    "            b.set_xlim([0, 1])\n",
    "            b.set_ylim([0, 1])\n",
    "            \n",
    "    if class_names is None:\n",
    "        class_names = [str(i) for i in range(num_classes)]\n",
    "    \n",
    "    obs_rounded = obs_df[obs_df.experiment == \"observed\"][[\"val_{}\".format(x) for x in range(num_classes)]].values\n",
    "    \n",
    "    for name, df in dfs.items():\n",
    "        for experiment in sorted(df[df.experiment != \"observed\"].experiment.unique(), key=exp2order):\n",
    "            pred = df[df.experiment == experiment][[\"val_{}\".format(x) for x in range(num_classes)]]\n",
    "            pred_argmax = np.array(pred).argmax(axis=1)\n",
    "            \n",
    "            pred_rounded = pred.values\n",
    "            #pred_rounded = np.zeros(pred.shape)\n",
    "            #for i, argmax in enumerate(pred_argmax):\n",
    "            #    pred_rounded[i, argmax] = 1\n",
    "                \n",
    "            for i in range(num_classes):\n",
    "                pr = precision_recall_curve(obs_rounded[:, i], pred_rounded[:, i])\n",
    "                ax[i][0].plot(pr[1], pr[0], label=exp2name(experiment))\n",
    "\n",
    "                roc = roc_curve(obs_rounded[:, i], pred_rounded[:, i])\n",
    "                ax[i][1].plot(roc[0], roc[1], label=exp2name(experiment))\n",
    "\n",
    "                ax[i][0].set(xlabel=\"Recall\", ylabel=\"Precision\")\n",
    "                ax[i][1].set(xlabel=\"FPR or (1 - specificity)\", ylabel=\"TPR or sensitivity\")\n",
    "                #ax[i][0].legend()\n",
    "                if i == 0:\n",
    "                    ax[i][1].legend(frameon=True, facecolor='white', framealpha=0.8)\n",
    "                    \n",
    "                ax[i][0].annotate(class_names[i], (0.1, 0.1), horizontalalignment='center', verticalalignment='center', fontsize='xx-large')\n",
    "                \n",
    "    if filename is not None:\n",
    "        fig.savefig(plot_dir / f'{dataset_name}_{kind}_{filename}.{file_format}', **savefig_args)"
   ]
  },
  {
   "cell_type": "markdown",
   "metadata": {},
   "source": [
    "<h1>Bfactors</h1>"
   ]
  },
  {
   "cell_type": "markdown",
   "metadata": {
    "nbpresent": {
     "id": "191d0287-c838-4dd6-a018-576850087ed8"
    }
   },
   "source": [
    "<h2>Bfactors continuous</h2>"
   ]
  },
  {
   "cell_type": "code",
   "execution_count": null,
   "metadata": {
    "nbpresent": {
     "id": "a0121d52-6424-4a32-ac1f-8453f5a2e70d"
    }
   },
   "outputs": [],
   "source": [
    "bfactors_cont = pd.read_sql_query(f\"select * from mllib_features_continuous_bfactors join (select distinct id from datasets where name='{dataset_name}' and kind='{kind}') a using (id) where experiment not like '%_VALID_%' and experiment not like '%_IND_TEST_%' order by experiment, id, resi\", conn)"
   ]
  },
  {
   "cell_type": "markdown",
   "metadata": {},
   "source": [
    "<h3>Data description</h3>"
   ]
  },
  {
   "cell_type": "code",
   "execution_count": null,
   "metadata": {
    "nbpresent": {
     "id": "e3c9555d-565d-4415-9820-9d712e6958a8"
    }
   },
   "outputs": [],
   "source": [
    "bfactors_cont.groupby(\"experiment\").describe()"
   ]
  },
  {
   "cell_type": "markdown",
   "metadata": {
    "nbpresent": {
     "id": "38d711b5-274f-4245-8470-641e2a9e49c8"
    }
   },
   "source": [
    "<h3>Benchmark measures</h3>"
   ]
  },
  {
   "cell_type": "code",
   "execution_count": null,
   "metadata": {
    "nbpresent": {
     "id": "feac0c2f-3894-40ec-b6e1-df21556d9926"
    }
   },
   "outputs": [],
   "source": [
    "measures_cont(bfactors_cont, filename='bfactors_cont')"
   ]
  },
  {
   "cell_type": "markdown",
   "metadata": {},
   "source": [
    "<h3>Benchmark plots</h3>"
   ]
  },
  {
   "cell_type": "code",
   "execution_count": null,
   "metadata": {},
   "outputs": [],
   "source": [
    "plots_cont(bfactors_cont, \"Normalized B-factors\", \"Density\", filename='bfactors_cont')\n",
    "\n",
    "fig, ax = plt.subplots()\n",
    "#fig.set_size_inches(11.7, 8.27)\n",
    "sns.distplot(raw_df.bfactor, ax=ax)\n",
    "ax.set(xlabel=\"Raw B-factors\", ylabel=\"Density\")\n",
    "ax.legend()"
   ]
  },
  {
   "cell_type": "markdown",
   "metadata": {
    "nbpresent": {
     "id": "ce639023-5d83-4188-a229-b97cd51d16d5"
    }
   },
   "source": [
    "<h2>Bfactors binary</h2>"
   ]
  },
  {
   "cell_type": "code",
   "execution_count": null,
   "metadata": {
    "nbpresent": {
     "id": "e1543a96-eda8-4f1e-9197-92d221f4c8ba"
    }
   },
   "outputs": [],
   "source": [
    "bfactors_bin = pd.read_sql_query(f\"select * from mllib_features_binary_bfactors join (select distinct id from datasets where name='{dataset_name}' and kind='{kind}') a using (id) where experiment not like '%_VALID_%' and experiment not like '%_IND_TEST_%' order by experiment, id, resi\", conn)"
   ]
  },
  {
   "cell_type": "markdown",
   "metadata": {},
   "source": [
    "<h3>Data description</h3>"
   ]
  },
  {
   "cell_type": "code",
   "execution_count": null,
   "metadata": {
    "nbpresent": {
     "id": "c5b7ec8a-0589-47a4-bb6d-59937e83dc3e"
    }
   },
   "outputs": [],
   "source": [
    "bfactors_bin.groupby(\"experiment\").describe()"
   ]
  },
  {
   "cell_type": "markdown",
   "metadata": {
    "nbpresent": {
     "id": "eecf83b2-a59c-41bb-95af-b8c0a5752ed9"
    }
   },
   "source": [
    "<h3>Benchmark measures</h3>"
   ]
  },
  {
   "cell_type": "code",
   "execution_count": null,
   "metadata": {
    "nbpresent": {
     "id": "65667dc9-c0e5-4233-a00c-758dafc80c54"
    }
   },
   "outputs": [],
   "source": [
    "measures_bin(bfactors_bin, filename='bfactors_bin')"
   ]
  },
  {
   "cell_type": "markdown",
   "metadata": {},
   "source": [
    "<h3>Benchmark curves</h3>"
   ]
  },
  {
   "cell_type": "code",
   "execution_count": null,
   "metadata": {},
   "outputs": [],
   "source": [
    "plots_bin(bfactors_bin, {\"bin\": bfactors_bin}, filename='bfactors_bin')"
   ]
  },
  {
   "cell_type": "markdown",
   "metadata": {},
   "source": [
    "# Bfactors - TMS"
   ]
  },
  {
   "cell_type": "markdown",
   "metadata": {},
   "source": [
    "<h2>Bfactors continuous</h2>"
   ]
  },
  {
   "cell_type": "code",
   "execution_count": null,
   "metadata": {},
   "outputs": [],
   "source": [
    "bfactors_cont_tms = pd.read_sql_query(f\"select p.experiment, p.id, p.resi, p.val_0 from mllib_features_continuous_bfactors as p join raw_data using (id, resi) join (select distinct id from datasets where name='{dataset_name}' and kind='{kind}') a using (id) where topo='T' and experiment not like '%_VALID_%' and experiment not like '%_IND_TEST_%' order by experiment, id, resi\", conn)"
   ]
  },
  {
   "cell_type": "markdown",
   "metadata": {},
   "source": [
    "<h3>Data description</h3>"
   ]
  },
  {
   "cell_type": "code",
   "execution_count": null,
   "metadata": {},
   "outputs": [],
   "source": [
    "bfactors_cont_tms.groupby(\"experiment\").describe()"
   ]
  },
  {
   "cell_type": "markdown",
   "metadata": {},
   "source": [
    "<h3>Benchmark measures</h3>"
   ]
  },
  {
   "cell_type": "code",
   "execution_count": null,
   "metadata": {},
   "outputs": [],
   "source": [
    "measures_cont(bfactors_cont_tms, filename='bfactors_cont_tms')"
   ]
  },
  {
   "cell_type": "markdown",
   "metadata": {},
   "source": [
    "<h3>Benchmark plots</h3>"
   ]
  },
  {
   "cell_type": "code",
   "execution_count": null,
   "metadata": {},
   "outputs": [],
   "source": [
    "plots_cont(bfactors_cont_tms, \"Normalized B-factors\", \"Density\", filename='bfactors_cont_tms')\n",
    "\n",
    "fig, ax = plt.subplots()\n",
    "#fig.set_size_inches(11.7, 8.27)\n",
    "sns.distplot(raw_df.bfactor, ax=ax)\n",
    "ax.set(xlabel=\"Raw Bfactors\", ylabel=\"Density\")\n",
    "ax.legend()"
   ]
  },
  {
   "cell_type": "markdown",
   "metadata": {},
   "source": [
    "<h2>Bfactors binary</h2>"
   ]
  },
  {
   "cell_type": "code",
   "execution_count": null,
   "metadata": {},
   "outputs": [],
   "source": [
    "bfactors_bin_tms = pd.read_sql_query(f\"select p.experiment, p.id, p.resi, p.val_0 from mllib_features_binary_bfactors as p join raw_data using (id, resi) join (select distinct id from datasets where name='{dataset_name}' and kind='{kind}') a using (id) where topo='T' and experiment not like '%_VALID_%' and experiment not like '%_IND_TEST_%' order by experiment, id, resi\", conn)"
   ]
  },
  {
   "cell_type": "markdown",
   "metadata": {},
   "source": [
    "<h3>Data description</h3>"
   ]
  },
  {
   "cell_type": "code",
   "execution_count": null,
   "metadata": {},
   "outputs": [],
   "source": [
    "bfactors_bin_tms.groupby(\"experiment\").describe()"
   ]
  },
  {
   "cell_type": "markdown",
   "metadata": {},
   "source": [
    "<h3>Benchmark measures</h3>"
   ]
  },
  {
   "cell_type": "code",
   "execution_count": null,
   "metadata": {},
   "outputs": [],
   "source": [
    "measures_bin(bfactors_bin_tms, filename='bfactors_bin_tms')"
   ]
  },
  {
   "cell_type": "markdown",
   "metadata": {},
   "source": [
    "<h3>Benchmark curves</h3>"
   ]
  },
  {
   "cell_type": "code",
   "execution_count": null,
   "metadata": {
    "scrolled": true
   },
   "outputs": [],
   "source": [
    "plots_bin(bfactors_bin_tms, {\"bin\": bfactors_bin_tms}, filename='bfactors_bin_tms')"
   ]
  },
  {
   "cell_type": "markdown",
   "metadata": {
    "nbpresent": {
     "id": "26b8a350-6247-447a-a0fb-cad3cce696e8"
    }
   },
   "source": [
    "<h1>Z-coordinates</h1>"
   ]
  },
  {
   "cell_type": "markdown",
   "metadata": {},
   "source": [
    "<h2>Z-coordinates continuous</h2>"
   ]
  },
  {
   "cell_type": "code",
   "execution_count": null,
   "metadata": {
    "nbpresent": {
     "id": "5720a90f-1a8d-407c-8d39-46afb4f3bb2d"
    }
   },
   "outputs": [],
   "source": [
    "zcoords_cont = pd.read_sql_query(f\"select * from mllib_features_continuous_ZCoordinates join (select distinct id from datasets where name='{dataset_name}' and kind='{kind}') a using (id) where experiment not like '%_VALID_%' and experiment not like '%_IND_TEST_%' order by experiment, id, resi\", conn)"
   ]
  },
  {
   "cell_type": "markdown",
   "metadata": {},
   "source": [
    "<h3>Data description</h3>"
   ]
  },
  {
   "cell_type": "code",
   "execution_count": null,
   "metadata": {
    "nbpresent": {
     "id": "cb136611-9986-4395-b39f-25bcd658b567"
    }
   },
   "outputs": [],
   "source": [
    "zcoords_cont.groupby(\"experiment\").describe()"
   ]
  },
  {
   "cell_type": "markdown",
   "metadata": {
    "nbpresent": {
     "id": "f7684801-1414-482e-a58e-990a772fff17"
    }
   },
   "source": [
    "<h3>Benchmark measures</h3>"
   ]
  },
  {
   "cell_type": "code",
   "execution_count": null,
   "metadata": {
    "nbpresent": {
     "id": "bd6aa16f-2068-4d5c-b127-751894174107"
    }
   },
   "outputs": [],
   "source": [
    "measures_cont(zcoords_cont, filename='zcoords_cont')"
   ]
  },
  {
   "cell_type": "markdown",
   "metadata": {},
   "source": [
    "<h3>Benchmark plots</h3>"
   ]
  },
  {
   "cell_type": "code",
   "execution_count": null,
   "metadata": {},
   "outputs": [],
   "source": [
    "plots_cont(zcoords_cont, \"Z-coordinate\", \"Density\", filename='zcoords_cont')"
   ]
  },
  {
   "cell_type": "code",
   "execution_count": null,
   "metadata": {},
   "outputs": [],
   "source": [
    "plots_cont(zcoords_cont, \"Z-coordinate\", \"Density\", filename='hist_zcoords_cont', hist=True, kde=False)"
   ]
  },
  {
   "cell_type": "markdown",
   "metadata": {},
   "source": [
    "# Topology"
   ]
  },
  {
   "cell_type": "code",
   "execution_count": null,
   "metadata": {},
   "outputs": [],
   "source": [
    "zcoords_cat = pd.read_sql_query(f\"select * from mllib_features_categorical_Topology join (select distinct id from datasets where name='{dataset_name}' and kind='{kind}') a using (id) where experiment not like '%_VALID_%' and experiment not like '%_IND_TEST_%' order by experiment, id, resi\", conn)"
   ]
  },
  {
   "cell_type": "markdown",
   "metadata": {},
   "source": [
    "<h3>Data description</h3>"
   ]
  },
  {
   "cell_type": "code",
   "execution_count": null,
   "metadata": {},
   "outputs": [],
   "source": [
    "zcoords_cat.groupby(\"experiment\").describe()"
   ]
  },
  {
   "cell_type": "markdown",
   "metadata": {},
   "source": [
    "<h3>Benchmark measures</h3>"
   ]
  },
  {
   "cell_type": "code",
   "execution_count": null,
   "metadata": {},
   "outputs": [],
   "source": [
    "measures_cat(zcoords_cat, 4, class_names=['In', 'TMS', 'Out', 'RER'], filename='zcoords_cat')"
   ]
  },
  {
   "cell_type": "markdown",
   "metadata": {},
   "source": [
    "<h3>Benchmark plots</h3>"
   ]
  },
  {
   "cell_type": "code",
   "execution_count": null,
   "metadata": {},
   "outputs": [],
   "source": [
    " plots_cat(zcoords_cat, {\"cat\": zcoords_cat}, num_classes=4, filename='zcoords_cat', class_names=['In', 'TMS', 'Out', 'RER'])"
   ]
  },
  {
   "cell_type": "markdown",
   "metadata": {
    "nbpresent": {
     "id": "2af959ab-3ca7-48ca-b8ef-d407086f3307"
    }
   },
   "source": [
    "<h1>Phi angles</h2>"
   ]
  },
  {
   "cell_type": "markdown",
   "metadata": {},
   "source": [
    "<h2>Phi angles continuous</h2>"
   ]
  },
  {
   "cell_type": "code",
   "execution_count": null,
   "metadata": {
    "nbpresent": {
     "id": "f7e10643-3218-49c7-8a96-3f1656f3028a"
    }
   },
   "outputs": [],
   "source": [
    "phi_cont = pd.read_sql_query(f\"select * from mllib_features_continuous_PhiAngles join (select distinct id from datasets where name='{dataset_name}' and kind='{kind}') a using (id) where experiment not like '%_VALID_%' and experiment not like '%_IND_TEST_%' order by experiment, id, resi\", conn)"
   ]
  },
  {
   "cell_type": "markdown",
   "metadata": {},
   "source": [
    "<h3>Data description</h3>"
   ]
  },
  {
   "cell_type": "code",
   "execution_count": null,
   "metadata": {
    "nbpresent": {
     "id": "60452357-fa76-446d-852e-bc5cc24e5216"
    }
   },
   "outputs": [],
   "source": [
    "phi_cont.groupby(\"experiment\").describe()"
   ]
  },
  {
   "cell_type": "markdown",
   "metadata": {
    "nbpresent": {
     "id": "3f2673ba-1aff-4e34-8115-9ea947f1b296"
    }
   },
   "source": [
    "<h3>Benchmark measures</h3>"
   ]
  },
  {
   "cell_type": "code",
   "execution_count": null,
   "metadata": {
    "nbpresent": {
     "id": "8e4b6b70-846d-4c96-9da1-4ca51f3b7a07"
    }
   },
   "outputs": [],
   "source": [
    "measures_cont(phi_cont, filename='phi_cont')"
   ]
  },
  {
   "cell_type": "markdown",
   "metadata": {},
   "source": [
    "<h3>Benchmark plots</h3>"
   ]
  },
  {
   "cell_type": "code",
   "execution_count": null,
   "metadata": {},
   "outputs": [],
   "source": [
    "plots_cont(phi_cont, \"Phi angle\", \"Density\", filename='phi_cont')"
   ]
  },
  {
   "cell_type": "markdown",
   "metadata": {},
   "source": [
    "<h1>Psi angles</h2>"
   ]
  },
  {
   "cell_type": "markdown",
   "metadata": {},
   "source": [
    "<h2>Psi angles continuous</h2>"
   ]
  },
  {
   "cell_type": "code",
   "execution_count": null,
   "metadata": {},
   "outputs": [],
   "source": [
    "psi_cont = pd.read_sql_query(f\"select * from mllib_features_continuous_PsiAngles join (select distinct id from datasets where name='{dataset_name}' and kind='{kind}') a using (id) where experiment not like '%_VALID_%' and experiment not like '%_IND_TEST_%' order by experiment, id, resi\", conn)"
   ]
  },
  {
   "cell_type": "markdown",
   "metadata": {},
   "source": [
    "<h3>Data description</h3>"
   ]
  },
  {
   "cell_type": "code",
   "execution_count": null,
   "metadata": {},
   "outputs": [],
   "source": [
    "psi_cont.groupby(\"experiment\").describe()"
   ]
  },
  {
   "cell_type": "markdown",
   "metadata": {},
   "source": [
    "<h3>Benchmark measures</h3>"
   ]
  },
  {
   "cell_type": "code",
   "execution_count": null,
   "metadata": {},
   "outputs": [],
   "source": [
    "measures_cont(psi_cont, filename='psi_cont')"
   ]
  },
  {
   "cell_type": "markdown",
   "metadata": {},
   "source": [
    "<h3>Benchmark plots</h3>"
   ]
  },
  {
   "cell_type": "code",
   "execution_count": null,
   "metadata": {},
   "outputs": [],
   "source": [
    "plots_cont(psi_cont, \"Psi angle\", \"Density\", filename='psi_cont')"
   ]
  },
  {
   "cell_type": "code",
   "execution_count": null,
   "metadata": {},
   "outputs": [],
   "source": [
    "#sns.kdeplot(phi_cont[phi_cont.experiment == 'observed'].val_0.values, psi_cont[psi_cont.experiment == 'observed'].val_0.values)"
   ]
  },
  {
   "cell_type": "markdown",
   "metadata": {},
   "source": [
    "# Secondary structure"
   ]
  },
  {
   "cell_type": "code",
   "execution_count": null,
   "metadata": {},
   "outputs": [],
   "source": [
    "sec_cat = pd.read_sql_query(f\"select * from mllib_features_categorical_SecStruc join (select distinct id from datasets where name='{dataset_name}' and kind='{kind}') a using (id) where experiment not like '%_VALID_%' and experiment not like '%_IND_TEST_%' order by experiment, id, resi\", conn)"
   ]
  },
  {
   "cell_type": "markdown",
   "metadata": {},
   "source": [
    "<h3>Data description</h3>"
   ]
  },
  {
   "cell_type": "code",
   "execution_count": null,
   "metadata": {},
   "outputs": [],
   "source": [
    "sec_cat.groupby(\"experiment\").describe()"
   ]
  },
  {
   "cell_type": "markdown",
   "metadata": {},
   "source": [
    "<h3>Benchmark measures</h3>"
   ]
  },
  {
   "cell_type": "code",
   "execution_count": null,
   "metadata": {},
   "outputs": [],
   "source": [
    "measures_cat(sec_cat, 3, class_names=['H', 'E', 'C'], filename='sec_cat')"
   ]
  },
  {
   "cell_type": "markdown",
   "metadata": {},
   "source": [
    "<h3>Benchmark plots</h3>"
   ]
  },
  {
   "cell_type": "code",
   "execution_count": null,
   "metadata": {},
   "outputs": [],
   "source": [
    " plots_cat(sec_cat, {\"cat\": sec_cat}, filename='sec_cat', class_names=['H', 'E', 'C'])"
   ]
  },
  {
   "cell_type": "markdown",
   "metadata": {},
   "source": [
    "# Secondary structure WITHOUT TMS"
   ]
  },
  {
   "cell_type": "code",
   "execution_count": null,
   "metadata": {},
   "outputs": [],
   "source": [
    "sec_cat_notms = pd.read_sql_query(f\"select p.experiment, p.resi, p.val_0, p.val_1, p.val_2 from mllib_features_categorical_SecStruc as p join raw_data using (id, resi) join (select distinct id from datasets where name='{dataset_name}' and kind='{kind}') a using (id) where topo!='T' and topo !='R' and experiment not like '%_VALID_%' and experiment not like '%_IND_TEST_%' order by experiment, id, resi\", conn)\n"
   ]
  },
  {
   "cell_type": "markdown",
   "metadata": {},
   "source": [
    "<h3>Data description</h3>"
   ]
  },
  {
   "cell_type": "code",
   "execution_count": null,
   "metadata": {},
   "outputs": [],
   "source": [
    "sec_cat_notms.groupby(\"experiment\").describe()"
   ]
  },
  {
   "cell_type": "markdown",
   "metadata": {},
   "source": [
    "<h3>Benchmark measures</h3>"
   ]
  },
  {
   "cell_type": "code",
   "execution_count": null,
   "metadata": {},
   "outputs": [],
   "source": [
    "measures_cat(sec_cat_notms, 3, class_names=['H', 'E', 'C'], filename='sec_cat_notms')"
   ]
  },
  {
   "cell_type": "markdown",
   "metadata": {},
   "source": [
    "<h3>Benchmark plots</h3>"
   ]
  },
  {
   "cell_type": "code",
   "execution_count": null,
   "metadata": {},
   "outputs": [],
   "source": [
    " plots_cat(sec_cat_notms, {\"cat\": sec_cat_notms}, filename='sec_cat_notms', class_names=['H', 'E', 'C'])"
   ]
  },
  {
   "cell_type": "markdown",
   "metadata": {
    "nbpresent": {
     "id": "2af959ab-3ca7-48ca-b8ef-d407086f3307"
    }
   },
   "source": [
    "# RSA"
   ]
  },
  {
   "cell_type": "markdown",
   "metadata": {},
   "source": [
    "<h2>RSA complex</h2>"
   ]
  },
  {
   "cell_type": "code",
   "execution_count": null,
   "metadata": {},
   "outputs": [],
   "source": [
    "rsa_comp_cont = pd.read_sql_query(f\"select * from mllib_features_continuous_RsaComplex join (select distinct id from datasets where name='{dataset_name}' and kind='{kind}') a using (id) where experiment not like '%_VALID_%' and experiment not like '%_IND_TEST_%' order by experiment, id, resi\", conn)"
   ]
  },
  {
   "cell_type": "markdown",
   "metadata": {},
   "source": [
    "<h3>Data description</h3>"
   ]
  },
  {
   "cell_type": "code",
   "execution_count": null,
   "metadata": {
    "nbpresent": {
     "id": "60452357-fa76-446d-852e-bc5cc24e5216"
    }
   },
   "outputs": [],
   "source": [
    "rsa_comp_cont.groupby(\"experiment\").describe()"
   ]
  },
  {
   "cell_type": "markdown",
   "metadata": {
    "nbpresent": {
     "id": "3f2673ba-1aff-4e34-8115-9ea947f1b296"
    }
   },
   "source": [
    "<h3>Benchmark measures</h3>"
   ]
  },
  {
   "cell_type": "code",
   "execution_count": null,
   "metadata": {
    "nbpresent": {
     "id": "8e4b6b70-846d-4c96-9da1-4ca51f3b7a07"
    }
   },
   "outputs": [],
   "source": [
    "measures_cont(rsa_comp_cont, filename='rsa_comp_cont')"
   ]
  },
  {
   "cell_type": "markdown",
   "metadata": {},
   "source": [
    "<h3>Benchmark plots</h3>"
   ]
  },
  {
   "cell_type": "code",
   "execution_count": null,
   "metadata": {},
   "outputs": [],
   "source": [
    "plots_cont(rsa_comp_cont, \"RSA complex\", \"Density\", filename='rsa_comp_cont')"
   ]
  },
  {
   "cell_type": "markdown",
   "metadata": {},
   "source": [
    "# RSA chain"
   ]
  },
  {
   "cell_type": "code",
   "execution_count": null,
   "metadata": {},
   "outputs": [],
   "source": [
    "rsa_chain_cont = pd.read_sql_query(f\"select * from mllib_features_continuous_RsaChain join (select distinct id from datasets where name='{dataset_name}' and kind='{kind}') a using (id) where experiment not like '%_VALID_%' and experiment not like '%_IND_TEST_%' order by experiment, id, resi\", conn)"
   ]
  },
  {
   "cell_type": "markdown",
   "metadata": {},
   "source": [
    "<h3>Data description</h3>"
   ]
  },
  {
   "cell_type": "code",
   "execution_count": null,
   "metadata": {
    "nbpresent": {
     "id": "60452357-fa76-446d-852e-bc5cc24e5216"
    }
   },
   "outputs": [],
   "source": [
    "rsa_chain_cont.groupby(\"experiment\").describe()"
   ]
  },
  {
   "cell_type": "markdown",
   "metadata": {
    "nbpresent": {
     "id": "3f2673ba-1aff-4e34-8115-9ea947f1b296"
    }
   },
   "source": [
    "<h3>Benchmark measures</h3>"
   ]
  },
  {
   "cell_type": "code",
   "execution_count": null,
   "metadata": {
    "nbpresent": {
     "id": "8e4b6b70-846d-4c96-9da1-4ca51f3b7a07"
    }
   },
   "outputs": [],
   "source": [
    "measures_cont(rsa_chain_cont, filename='rsa_chain_cont')"
   ]
  },
  {
   "cell_type": "markdown",
   "metadata": {},
   "source": [
    "<h3>Benchmark plots</h3>"
   ]
  },
  {
   "cell_type": "code",
   "execution_count": null,
   "metadata": {},
   "outputs": [],
   "source": [
    "plots_cont(rsa_chain_cont, \"RSA monomer\", \"Density\", filename='rsa_chain_cont')"
   ]
  },
  {
   "cell_type": "markdown",
   "metadata": {},
   "source": [
    "# RSA diff"
   ]
  },
  {
   "cell_type": "code",
   "execution_count": null,
   "metadata": {},
   "outputs": [],
   "source": [
    "rsa_diff_cont = pd.read_sql_query(f\"select * from mllib_features_continuous_RsaDiff join (select distinct id from datasets where name='{dataset_name}' and kind='{kind}') a using (id) where experiment not like '%_VALID_%' and experiment not like '%_IND_TEST_%' order by experiment, id, resi\", conn)"
   ]
  },
  {
   "cell_type": "markdown",
   "metadata": {},
   "source": [
    "<h3>Data description</h3>"
   ]
  },
  {
   "cell_type": "code",
   "execution_count": null,
   "metadata": {
    "nbpresent": {
     "id": "60452357-fa76-446d-852e-bc5cc24e5216"
    }
   },
   "outputs": [],
   "source": [
    "rsa_diff_cont.groupby(\"experiment\").describe()"
   ]
  },
  {
   "cell_type": "markdown",
   "metadata": {
    "nbpresent": {
     "id": "3f2673ba-1aff-4e34-8115-9ea947f1b296"
    }
   },
   "source": [
    "<h3>Benchmark measures</h3>"
   ]
  },
  {
   "cell_type": "code",
   "execution_count": null,
   "metadata": {
    "nbpresent": {
     "id": "8e4b6b70-846d-4c96-9da1-4ca51f3b7a07"
    }
   },
   "outputs": [],
   "source": [
    "measures_cont(rsa_diff_cont, filename='rsa_diff_cont')"
   ]
  },
  {
   "cell_type": "markdown",
   "metadata": {},
   "source": [
    "<h3>Benchmark plots</h3>"
   ]
  },
  {
   "cell_type": "code",
   "execution_count": null,
   "metadata": {},
   "outputs": [],
   "source": [
    "plots_cont(rsa_diff_cont, \"RSA change\", \"Density\", filename='rsa_diff_cont')"
   ]
  },
  {
   "cell_type": "markdown",
   "metadata": {},
   "source": [
    "# Others"
   ]
  },
  {
   "cell_type": "code",
   "execution_count": null,
   "metadata": {},
   "outputs": [],
   "source": [
    "history = json.loads(conn.cursor().execute('select history from experiments where experiment=\"keras_all_targets\" and fold=0').fetchone()[0])\n",
    "history.keys()"
   ]
  },
  {
   "cell_type": "code",
   "execution_count": null,
   "metadata": {},
   "outputs": [],
   "source": [
    "plt.plot(range(len(history['loss'])), history['loss'])\n",
    "plt.plot(range(len(history['val_loss'])), history['val_loss'])\n",
    "plt.plot(range(len(history['lr'])), np.log(history['lr']) - np.min(np.log(history['lr'])))"
   ]
  },
  {
   "cell_type": "code",
   "execution_count": null,
   "metadata": {},
   "outputs": [],
   "source": [
    "import sys\n",
    "sys.path.append('..')"
   ]
  },
  {
   "cell_type": "code",
   "execution_count": null,
   "metadata": {},
   "outputs": [],
   "source": [
    "from mllib.features.continuous import Pssm, Pssm2\n",
    "from mllib.retrievers import SQLRetriever"
   ]
  },
  {
   "cell_type": "code",
   "execution_count": null,
   "metadata": {},
   "outputs": [],
   "source": [
    "vals = []\n",
    "vals2 = []\n",
    "for idx in conn.cursor().execute('select id from alignments limit 20'):\n",
    "    print(idx)\n",
    "    #vals.extend(Pssm().transform(SQLRetriever(conn, Pssm.query).transform(idx[0])).flatten())\n",
    "    #vals2.extend(Pssm2().transform(SQLRetriever(conn, Pssm.query).transform(idx[0])).flatten())\n",
    "    \n",
    "#msa = SQLRetriever(conn, Pssm.query).transform('1kpl_B')\n",
    "#%time Pssm().transform(msa)"
   ]
  },
  {
   "cell_type": "code",
   "execution_count": null,
   "metadata": {},
   "outputs": [],
   "source": [
    "len(vals), len(vals2)"
   ]
  },
  {
   "cell_type": "code",
   "execution_count": null,
   "metadata": {},
   "outputs": [],
   "source": [
    "vals = np.array(vals)\n",
    "vals2 = np.array(vals2)"
   ]
  },
  {
   "cell_type": "code",
   "execution_count": null,
   "metadata": {},
   "outputs": [],
   "source": [
    "def normalize(xs):\n",
    "    return list(map(lambda x: 1 / (1 + np.exp(-1 * x)), xs))\n",
    "                \n",
    "hist = True\n",
    "kde = False\n",
    "fig, axs = plt.subplots(1, 2, figsize=(10, 5))\n",
    "sns.distplot(vals / 2 + 0.5, label='pssm', hist=hist, kde=kde, ax=axs[0])\n",
    "sns.distplot(vals2, label='pssm2', hist=hist, kde=kde, ax=axs[1])\n",
    "plt.legend()"
   ]
  },
  {
   "cell_type": "code",
   "execution_count": null,
   "metadata": {},
   "outputs": [],
   "source": [
    "xxx = pd.read_sql_query('select phi, psi from raw_data', conn)"
   ]
  },
  {
   "cell_type": "code",
   "execution_count": null,
   "metadata": {},
   "outputs": [],
   "source": [
    "xxx.describe()"
   ]
  },
  {
   "cell_type": "code",
   "execution_count": null,
   "metadata": {},
   "outputs": [],
   "source": [
    "print(math.pi)"
   ]
  },
  {
   "cell_type": "code",
   "execution_count": null,
   "metadata": {},
   "outputs": [],
   "source": []
  }
 ],
 "metadata": {
  "kernelspec": {
   "display_name": "Python 3",
   "language": "python",
   "name": "python3"
  },
  "language_info": {
   "codemirror_mode": {
    "name": "ipython",
    "version": 3
   },
   "file_extension": ".py",
   "mimetype": "text/x-python",
   "name": "python",
   "nbconvert_exporter": "python",
   "pygments_lexer": "ipython3",
   "version": "3.7.4"
  },
  "nbpresent": {
   "slides": {
    "00ca083b-7d18-44f1-b516-f0be95142f5b": {
     "id": "00ca083b-7d18-44f1-b516-f0be95142f5b",
     "prev": "d5807003-28f8-41d1-aa6b-7ce42e057790",
     "regions": {
      "5d64b25f-0eb6-4413-8751-bc82b68f7e9a": {
       "attrs": {
        "height": 0.8,
        "width": 0.8,
        "x": 0.1,
        "y": 0.1
       },
       "content": {
        "cell": "775a941c-4733-4974-afea-1f80fc56f6b5",
        "part": "whole"
       },
       "id": "5d64b25f-0eb6-4413-8751-bc82b68f7e9a"
      }
     }
    },
    "0239dd70-736b-49e5-b882-719737e6d8e6": {
     "id": "0239dd70-736b-49e5-b882-719737e6d8e6",
     "prev": "976438a8-b380-4c4f-ba43-5129ce4351f7",
     "regions": {
      "83ac6b72-0144-4508-b00e-9bcf74a39124": {
       "attrs": {
        "height": 0.8,
        "width": 0.8,
        "x": 0.1,
        "y": 0.1
       },
       "content": {
        "cell": "50ecf46a-7d96-438d-9c11-b36b0b7ef55f",
        "part": "whole"
       },
       "id": "83ac6b72-0144-4508-b00e-9bcf74a39124"
      }
     }
    },
    "0279b5b0-7c00-4c87-badf-5833c97e4fa0": {
     "id": "0279b5b0-7c00-4c87-badf-5833c97e4fa0",
     "prev": "2623cd52-c282-4029-8f6d-dccaf2979e72",
     "regions": {
      "2d1c480c-0345-4e76-a087-554ade6fe352": {
       "attrs": {
        "height": 0.8,
        "width": 0.8,
        "x": 0.1,
        "y": 0.1
       },
       "content": {
        "cell": "c9ee253c-075c-4ac6-9c8a-f73a76458b4b",
        "part": "whole"
       },
       "id": "2d1c480c-0345-4e76-a087-554ade6fe352"
      }
     }
    },
    "04c83db9-c096-4ecd-ac7a-5bcc4b8b33c6": {
     "id": "04c83db9-c096-4ecd-ac7a-5bcc4b8b33c6",
     "prev": "e0f97d89-f0c2-4a9b-b144-fdb3756f1711",
     "regions": {
      "fc497bf3-7ad4-4238-889f-223448b735d9": {
       "attrs": {
        "height": 0.8,
        "width": 0.8,
        "x": 0.1,
        "y": 0.1
       },
       "content": {
        "cell": "191d0287-c838-4dd6-a018-576850087ed8",
        "part": "whole"
       },
       "id": "fc497bf3-7ad4-4238-889f-223448b735d9"
      }
     }
    },
    "0b0c8f9b-0095-44da-be40-40e8048faee1": {
     "id": "0b0c8f9b-0095-44da-be40-40e8048faee1",
     "prev": "0f297c61-3fa0-4f9c-a7fc-1d183134f259",
     "regions": {
      "da94d44e-9716-4e40-9257-896f5de0fe43": {
       "attrs": {
        "height": 0.8,
        "width": 0.8,
        "x": 0.1,
        "y": 0.1
       },
       "content": {
        "cell": "24ca9772-2fc6-4c39-8617-6bcc1468f405",
        "part": "whole"
       },
       "id": "da94d44e-9716-4e40-9257-896f5de0fe43"
      }
     }
    },
    "0bbd665d-ab6b-45a2-aa8b-9b776069545d": {
     "id": "0bbd665d-ab6b-45a2-aa8b-9b776069545d",
     "prev": "a50a810f-937c-4e36-9261-5f940a06ccc6",
     "regions": {
      "647f19b8-321c-4622-968d-f6acf78e96df": {
       "attrs": {
        "height": 0.8,
        "width": 0.8,
        "x": 0.1,
        "y": 0.1
       },
       "content": {
        "cell": "cb136611-9986-4395-b39f-25bcd658b567",
        "part": "whole"
       },
       "id": "647f19b8-321c-4622-968d-f6acf78e96df"
      }
     }
    },
    "0da751fc-ddec-4e7e-9207-2a25d6a98004": {
     "id": "0da751fc-ddec-4e7e-9207-2a25d6a98004",
     "prev": "c5efba75-a150-482d-9454-31cb9a2c52b0",
     "regions": {
      "31300f89-fcd6-46e0-9c8b-c2d60d25c021": {
       "attrs": {
        "height": 0.8,
        "width": 0.8,
        "x": 0.1,
        "y": 0.1
       },
       "content": {
        "cell": "b23d9061-5b6f-45c1-a7d1-c58cbbc59783",
        "part": "whole"
       },
       "id": "31300f89-fcd6-46e0-9c8b-c2d60d25c021"
      }
     }
    },
    "0eedf53a-fb37-4342-b9cb-6380c4373cad": {
     "id": "0eedf53a-fb37-4342-b9cb-6380c4373cad",
     "prev": "9755d762-b65d-4616-8c90-3e0687a18a3f",
     "regions": {
      "62cb109b-c6a8-4b60-b8d9-4a7bef40b52c": {
       "attrs": {
        "height": 0.8,
        "width": 0.8,
        "x": 0.1,
        "y": 0.1
       },
       "content": {
        "cell": "2af959ab-3ca7-48ca-b8ef-d407086f3307",
        "part": "whole"
       },
       "id": "62cb109b-c6a8-4b60-b8d9-4a7bef40b52c"
      }
     }
    },
    "0f297c61-3fa0-4f9c-a7fc-1d183134f259": {
     "id": "0f297c61-3fa0-4f9c-a7fc-1d183134f259",
     "prev": "4cc7ea17-6f48-4daf-9e8e-e19aa728f5ce",
     "regions": {
      "7d105677-3ca1-49d0-a21c-f48935f9c666": {
       "attrs": {
        "height": 0.8,
        "width": 0.8,
        "x": 0.1,
        "y": 0.1
       },
       "content": {
        "cell": "290cbc22-4116-4d94-8542-562dfd5191c3",
        "part": "whole"
       },
       "id": "7d105677-3ca1-49d0-a21c-f48935f9c666"
      }
     }
    },
    "10a78a39-a48b-4f5f-90dc-0d40f7c8f77a": {
     "id": "10a78a39-a48b-4f5f-90dc-0d40f7c8f77a",
     "prev": "ba973311-29ce-437e-8a8e-fa750accf272",
     "regions": {
      "a0cd9ffe-0c7a-464a-bbca-db6dccb3ea01": {
       "attrs": {
        "height": 0.8,
        "width": 0.8,
        "x": 0.1,
        "y": 0.1
       },
       "content": {
        "cell": "38d711b5-274f-4245-8470-641e2a9e49c8",
        "part": "whole"
       },
       "id": "a0cd9ffe-0c7a-464a-bbca-db6dccb3ea01"
      }
     }
    },
    "17095ad6-f7c8-4287-8665-4572206c4339": {
     "id": "17095ad6-f7c8-4287-8665-4572206c4339",
     "prev": "dc7d35ec-88ba-40a8-a21d-eb058ca5993e",
     "regions": {
      "61d76dec-5333-4f65-a826-f131040adc02": {
       "attrs": {
        "height": 0.8,
        "width": 0.8,
        "x": 0.1,
        "y": 0.1
       },
       "content": {
        "cell": "b08e93e4-ba19-4a98-924f-3e142236e0d0",
        "part": "whole"
       },
       "id": "61d76dec-5333-4f65-a826-f131040adc02"
      }
     }
    },
    "1709e6dd-cb66-4e3a-b6b9-f9067fd39ce2": {
     "id": "1709e6dd-cb66-4e3a-b6b9-f9067fd39ce2",
     "prev": "23c03391-ce13-448c-9254-a88c7dc132df",
     "regions": {
      "c107d454-fbcb-4ad1-aadc-fd5293e166ad": {
       "attrs": {
        "height": 0.8,
        "width": 0.8,
        "x": 0.1,
        "y": 0.1
       },
       "content": {
        "cell": "8feecb04-687a-4eca-a7cf-64d5f558374d",
        "part": "whole"
       },
       "id": "c107d454-fbcb-4ad1-aadc-fd5293e166ad"
      }
     }
    },
    "1dac84d8-b95d-47aa-9ba7-83e175c29533": {
     "id": "1dac84d8-b95d-47aa-9ba7-83e175c29533",
     "prev": "0279b5b0-7c00-4c87-badf-5833c97e4fa0",
     "regions": {
      "34762900-10cd-482b-a722-274922f7f210": {
       "attrs": {
        "height": 0.8,
        "width": 0.8,
        "x": 0.1,
        "y": 0.1
       },
       "content": {
        "cell": "ce639023-5d83-4188-a229-b97cd51d16d5",
        "part": "whole"
       },
       "id": "34762900-10cd-482b-a722-274922f7f210"
      }
     }
    },
    "23c03391-ce13-448c-9254-a88c7dc132df": {
     "id": "23c03391-ce13-448c-9254-a88c7dc132df",
     "prev": "00ca083b-7d18-44f1-b516-f0be95142f5b",
     "regions": {
      "9e34216e-9ad6-4c94-a90c-57d10a87278c": {
       "attrs": {
        "height": 0.8,
        "width": 0.8,
        "x": 0.1,
        "y": 0.1
       },
       "content": {
        "cell": "2fc19a37-e6e7-48e1-96ad-3119e82938d6",
        "part": "whole"
       },
       "id": "9e34216e-9ad6-4c94-a90c-57d10a87278c"
      }
     }
    },
    "2623cd52-c282-4029-8f6d-dccaf2979e72": {
     "id": "2623cd52-c282-4029-8f6d-dccaf2979e72",
     "prev": "a588584e-447f-4dc8-85f0-1bb9abe4a26f",
     "regions": {
      "db82bf26-2b03-4c33-b925-4b32a56890fd": {
       "attrs": {
        "height": 0.8,
        "width": 0.8,
        "x": 0.1,
        "y": 0.1
       },
       "content": {
        "cell": "de5257db-1b34-4b53-99de-f4b27731c45f",
        "part": "whole"
       },
       "id": "db82bf26-2b03-4c33-b925-4b32a56890fd"
      }
     }
    },
    "2833774d-bc23-4fce-8adf-29d824b793f2": {
     "id": "2833774d-bc23-4fce-8adf-29d824b793f2",
     "prev": "733ec9b4-a7a5-404d-b58a-40b16b85364a",
     "regions": {
      "2ba92c8e-5ef5-4242-9632-aa85f45c3cc5": {
       "attrs": {
        "height": 0.8,
        "width": 0.8,
        "x": 0.1,
        "y": 0.1
       },
       "content": {
        "cell": "92ad5960-05d8-4ccc-8a96-5826b8c99021",
        "part": "whole"
       },
       "id": "2ba92c8e-5ef5-4242-9632-aa85f45c3cc5"
      }
     }
    },
    "33bb8cfd-7528-4448-9201-d1af819efd57": {
     "id": "33bb8cfd-7528-4448-9201-d1af819efd57",
     "prev": "0da751fc-ddec-4e7e-9207-2a25d6a98004",
     "regions": {
      "4b1a9034-f293-4170-acc7-b27837328545": {
       "attrs": {
        "height": 0.8,
        "width": 0.8,
        "x": 0.1,
        "y": 0.1
       },
       "content": {
        "cell": "63c02e92-2c1b-417a-98b0-2a5ec6aa63cb",
        "part": "whole"
       },
       "id": "4b1a9034-f293-4170-acc7-b27837328545"
      }
     }
    },
    "368e8d85-9a9b-492c-98d7-2ca7730c3f44": {
     "id": "368e8d85-9a9b-492c-98d7-2ca7730c3f44",
     "prev": "b93ea770-0f82-4abb-a389-150e8607b35e",
     "regions": {
      "0785b85a-ee33-4bb6-807c-4fdf990e2eb7": {
       "attrs": {
        "height": 0.8,
        "width": 0.8,
        "x": 0.1,
        "y": 0.1
       },
       "content": {
        "cell": "fd43d30c-00b0-402b-ad71-1e3b14d1b941",
        "part": "whole"
       },
       "id": "0785b85a-ee33-4bb6-807c-4fdf990e2eb7"
      }
     }
    },
    "3b80f1f2-633a-45a8-b52f-0df3814c1259": {
     "id": "3b80f1f2-633a-45a8-b52f-0df3814c1259",
     "prev": "862d34b8-9df3-40be-9b08-c873622bb1d0",
     "regions": {
      "2a08c099-539e-4cf2-acb8-789498296a81": {
       "attrs": {
        "height": 0.8,
        "width": 0.8,
        "x": 0.1,
        "y": 0.1
       },
       "content": {
        "cell": "b2f87d09-d830-4fb4-bb59-f1df835cba2d",
        "part": "whole"
       },
       "id": "2a08c099-539e-4cf2-acb8-789498296a81"
      }
     }
    },
    "42e797d2-b29a-4dfa-b9dc-a9571c1e71cd": {
     "id": "42e797d2-b29a-4dfa-b9dc-a9571c1e71cd",
     "prev": "e2051b8e-0a31-45cf-85e0-b63a8532936d",
     "regions": {
      "d26271a9-af7c-41c4-ba05-a095981dbab2": {
       "attrs": {
        "height": 0.8,
        "width": 0.8,
        "x": 0.1,
        "y": 0.1
       },
       "content": {
        "cell": "f7684801-1414-482e-a58e-990a772fff17",
        "part": "whole"
       },
       "id": "d26271a9-af7c-41c4-ba05-a095981dbab2"
      }
     }
    },
    "43dd2598-df33-4a68-a521-f9aad8156b5f": {
     "id": "43dd2598-df33-4a68-a521-f9aad8156b5f",
     "prev": "9dd30109-03fa-4ccc-b07b-21a8ed5eda70",
     "regions": {
      "fa645470-ae4a-40b5-b478-02788828fa98": {
       "attrs": {
        "height": 0.8,
        "width": 0.8,
        "x": 0.1,
        "y": 0.1
       },
       "content": {
        "cell": "3f2673ba-1aff-4e34-8115-9ea947f1b296",
        "part": "whole"
       },
       "id": "fa645470-ae4a-40b5-b478-02788828fa98"
      }
     }
    },
    "4c9ce3c6-1714-4333-a304-a7c4f4824117": {
     "id": "4c9ce3c6-1714-4333-a304-a7c4f4824117",
     "prev": "1709e6dd-cb66-4e3a-b6b9-f9067fd39ce2",
     "regions": {
      "bea8f3e1-96b8-4a74-97d7-f8086d93e932": {
       "attrs": {
        "height": 0.8,
        "width": 0.8,
        "x": 0.1,
        "y": 0.1
       },
       "content": {
        "cell": "89db9e9b-8d01-42eb-91c1-b738057d97b5",
        "part": "whole"
       },
       "id": "bea8f3e1-96b8-4a74-97d7-f8086d93e932"
      }
     }
    },
    "4cc7ea17-6f48-4daf-9e8e-e19aa728f5ce": {
     "id": "4cc7ea17-6f48-4daf-9e8e-e19aa728f5ce",
     "prev": "0239dd70-736b-49e5-b882-719737e6d8e6",
     "regions": {
      "6213257d-68bf-4c92-af59-f16720413015": {
       "attrs": {
        "height": 0.8,
        "width": 0.8,
        "x": 0.1,
        "y": 0.1
       },
       "content": {
        "cell": "87b15fd6-d1e1-4455-9518-fee1aa78fa75",
        "part": "whole"
       },
       "id": "6213257d-68bf-4c92-af59-f16720413015"
      }
     }
    },
    "501d385a-92f9-4e74-867b-69720cbf941a": {
     "id": "501d385a-92f9-4e74-867b-69720cbf941a",
     "prev": "04c83db9-c096-4ecd-ac7a-5bcc4b8b33c6",
     "regions": {
      "cb874d55-dc3c-4bc8-9c34-5f844a5a600c": {
       "attrs": {
        "height": 0.8,
        "width": 0.8,
        "x": 0.1,
        "y": 0.1
       },
       "content": {
        "cell": "a0121d52-6424-4a32-ac1f-8453f5a2e70d",
        "part": "whole"
       },
       "id": "cb874d55-dc3c-4bc8-9c34-5f844a5a600c"
      }
     }
    },
    "506b3298-d12e-4331-b04f-7d4cf7c22897": {
     "id": "506b3298-d12e-4331-b04f-7d4cf7c22897",
     "prev": "fd7a789a-d042-46d4-b09a-79812cd03f12",
     "regions": {
      "038ba3b0-e10c-442c-a93e-c7879b805a0f": {
       "attrs": {
        "height": 0.8,
        "width": 0.8,
        "x": 0.1,
        "y": 0.1
       },
       "content": {
        "cell": "cd70f500-2138-487d-b89e-f91c453ffdac",
        "part": "whole"
       },
       "id": "038ba3b0-e10c-442c-a93e-c7879b805a0f"
      }
     }
    },
    "58dd56f1-b28b-4b8f-a2b0-0b22d4b58aaf": {
     "id": "58dd56f1-b28b-4b8f-a2b0-0b22d4b58aaf",
     "prev": "6d8cf5f2-3b8b-4550-b072-a3157354b81c",
     "regions": {
      "3b89ac87-57f7-4455-aeb5-fd2c0eba1146": {
       "attrs": {
        "height": 0.8,
        "width": 0.8,
        "x": 0.1,
        "y": 0.1
       },
       "content": {
        "cell": "2d516de6-dbe7-4d27-b40d-e4dd6198b2e7",
        "part": "whole"
       },
       "id": "3b89ac87-57f7-4455-aeb5-fd2c0eba1146"
      }
     }
    },
    "61ad6025-ce44-4be2-91ba-7be65af23d05": {
     "id": "61ad6025-ce44-4be2-91ba-7be65af23d05",
     "prev": "baed7506-6e23-4b17-993e-2df7396e245e",
     "regions": {
      "c97fc4cd-08eb-4fc6-b1d5-8c49bc4fd248": {
       "attrs": {
        "height": 0.8,
        "width": 0.8,
        "x": 0.1,
        "y": 0.1
       },
       "content": {
        "cell": "2cd4b083-b3e2-48b7-b0af-026c79039eba",
        "part": "whole"
       },
       "id": "c97fc4cd-08eb-4fc6-b1d5-8c49bc4fd248"
      }
     }
    },
    "6419b55c-e602-479c-8d97-3390c9ec0888": {
     "id": "6419b55c-e602-479c-8d97-3390c9ec0888",
     "prev": "506b3298-d12e-4331-b04f-7d4cf7c22897",
     "regions": {
      "1a992c92-fd9f-412d-88fd-0e94c9468847": {
       "attrs": {
        "height": 0.8,
        "width": 0.8,
        "x": 0.1,
        "y": 0.1
       },
       "content": {
        "cell": "69ca65a5-ab16-444c-9279-c187e344b7be",
        "part": "whole"
       },
       "id": "1a992c92-fd9f-412d-88fd-0e94c9468847"
      }
     }
    },
    "65eeab5a-23e8-4b60-aa5b-7813311d7652": {
     "id": "65eeab5a-23e8-4b60-aa5b-7813311d7652",
     "prev": "58dd56f1-b28b-4b8f-a2b0-0b22d4b58aaf",
     "regions": {
      "68f969fc-79fe-4613-92e5-f6dc8f63d298": {
       "attrs": {
        "height": 0.8,
        "width": 0.8,
        "x": 0.1,
        "y": 0.1
       },
       "content": {
        "cell": "39c0d823-bf0a-4b7f-be47-417b9730c246",
        "part": "whole"
       },
       "id": "68f969fc-79fe-4613-92e5-f6dc8f63d298"
      }
     }
    },
    "6b22a708-e2ce-42d4-a075-01912c4d9ad8": {
     "id": "6b22a708-e2ce-42d4-a075-01912c4d9ad8",
     "prev": "d45268fd-851e-4d5e-97c5-bc8abb8f47d8",
     "regions": {
      "083cd97f-6489-4c43-a012-760c98a7ca58": {
       "attrs": {
        "height": 0.8,
        "width": 0.8,
        "x": 0.1,
        "y": 0.1
       },
       "content": {
        "cell": "4c68a48f-f43a-4398-a540-3bc77f0618bd",
        "part": "whole"
       },
       "id": "083cd97f-6489-4c43-a012-760c98a7ca58"
      }
     }
    },
    "6d151d87-5434-4f4f-91c4-3676d947cb5b": {
     "id": "6d151d87-5434-4f4f-91c4-3676d947cb5b",
     "prev": "33bb8cfd-7528-4448-9201-d1af819efd57",
     "regions": {
      "03ba1603-86f2-4ee0-9406-a9d79a10655e": {
       "attrs": {
        "height": 0.8,
        "width": 0.8,
        "x": 0.1,
        "y": 0.1
       },
       "content": {
        "cell": "25f5e534-0722-490b-bce5-4004da868b42",
        "part": "whole"
       },
       "id": "03ba1603-86f2-4ee0-9406-a9d79a10655e"
      }
     }
    },
    "6d8cf5f2-3b8b-4550-b072-a3157354b81c": {
     "id": "6d8cf5f2-3b8b-4550-b072-a3157354b81c",
     "prev": "3b80f1f2-633a-45a8-b52f-0df3814c1259",
     "regions": {
      "e33bae1f-f333-449b-a6c2-24159329e86a": {
       "attrs": {
        "height": 0.8,
        "width": 0.8,
        "x": 0.1,
        "y": 0.1
       },
       "content": {
        "cell": "ae4639c7-1705-45b7-9ff7-7833600fab73",
        "part": "whole"
       },
       "id": "e33bae1f-f333-449b-a6c2-24159329e86a"
      }
     }
    },
    "733ec9b4-a7a5-404d-b58a-40b16b85364a": {
     "id": "733ec9b4-a7a5-404d-b58a-40b16b85364a",
     "prev": "10a78a39-a48b-4f5f-90dc-0d40f7c8f77a",
     "regions": {
      "06691eb4-0618-4680-a6ac-669f3be428c1": {
       "attrs": {
        "height": 0.8,
        "width": 0.8,
        "x": 0.1,
        "y": 0.1
       },
       "content": {
        "cell": "feac0c2f-3894-40ec-b6e1-df21556d9926",
        "part": "whole"
       },
       "id": "06691eb4-0618-4680-a6ac-669f3be428c1"
      }
     }
    },
    "7b2c1b3a-e73c-4d78-bdc5-d75d9816ad8e": {
     "id": "7b2c1b3a-e73c-4d78-bdc5-d75d9816ad8e",
     "prev": "61ad6025-ce44-4be2-91ba-7be65af23d05",
     "regions": {
      "a8394005-e463-4109-8391-07ea8301d5c6": {
       "attrs": {
        "height": 0.8,
        "width": 0.8,
        "x": 0.1,
        "y": 0.1
       },
       "content": {
        "cell": "26b8a350-6247-447a-a0fb-cad3cce696e8",
        "part": "whole"
       },
       "id": "a8394005-e463-4109-8391-07ea8301d5c6"
      }
     }
    },
    "7f150b1f-debd-41aa-a330-66367d9f8cc1": {
     "id": "7f150b1f-debd-41aa-a330-66367d9f8cc1",
     "prev": "c053a11a-0f55-41ec-908a-8a656bb6fde1",
     "regions": {
      "a22ad1db-75e5-4e0c-ba75-e5d52404cd73": {
       "attrs": {
        "height": 0.8,
        "width": 0.8,
        "x": 0.1,
        "y": 0.1
       },
       "content": {
        "cell": "60452357-fa76-446d-852e-bc5cc24e5216",
        "part": "whole"
       },
       "id": "a22ad1db-75e5-4e0c-ba75-e5d52404cd73"
      }
     }
    },
    "862d34b8-9df3-40be-9b08-c873622bb1d0": {
     "id": "862d34b8-9df3-40be-9b08-c873622bb1d0",
     "prev": null,
     "regions": {
      "c1411919-3bc9-42ab-a8ff-045e9403465b": {
       "attrs": {
        "height": 0.8,
        "width": 0.8,
        "x": 0.1,
        "y": 0.1
       },
       "content": {
        "cell": "75276eb9-7821-451e-b596-e69ea9049bbe",
        "part": "whole"
       },
       "id": "c1411919-3bc9-42ab-a8ff-045e9403465b"
      }
     }
    },
    "87606ddd-a851-4380-ab02-95b98d8c4b3e": {
     "id": "87606ddd-a851-4380-ab02-95b98d8c4b3e",
     "prev": "91b5756f-6b6e-4b0f-829c-8c3809e346ff",
     "regions": {
      "ff4c1f3c-a24e-4e4f-aea2-3f9f108fe83f": {
       "attrs": {
        "height": 0.8,
        "width": 0.8,
        "x": 0.1,
        "y": 0.1
       },
       "content": {
        "cell": "5be27b4a-2db3-4560-9dc4-cdd3370d6354",
        "part": "whole"
       },
       "id": "ff4c1f3c-a24e-4e4f-aea2-3f9f108fe83f"
      }
     }
    },
    "91b5756f-6b6e-4b0f-829c-8c3809e346ff": {
     "id": "91b5756f-6b6e-4b0f-829c-8c3809e346ff",
     "prev": "6b22a708-e2ce-42d4-a075-01912c4d9ad8",
     "regions": {
      "af8b5ec7-bc12-42f8-ad84-fb7bba15a078": {
       "attrs": {
        "height": 0.8,
        "width": 0.8,
        "x": 0.1,
        "y": 0.1
       },
       "content": {
        "cell": "eb02019d-0da5-4e56-bbf3-9c68a245f81b",
        "part": "whole"
       },
       "id": "af8b5ec7-bc12-42f8-ad84-fb7bba15a078"
      }
     }
    },
    "9755d762-b65d-4616-8c90-3e0687a18a3f": {
     "id": "9755d762-b65d-4616-8c90-3e0687a18a3f",
     "prev": "42e797d2-b29a-4dfa-b9dc-a9571c1e71cd",
     "regions": {
      "dc94d006-4b09-4960-81ea-04d541e04951": {
       "attrs": {
        "height": 0.8,
        "width": 0.8,
        "x": 0.1,
        "y": 0.1
       },
       "content": {
        "cell": "bd6aa16f-2068-4d5c-b127-751894174107",
        "part": "whole"
       },
       "id": "dc94d006-4b09-4960-81ea-04d541e04951"
      }
     }
    },
    "976438a8-b380-4c4f-ba43-5129ce4351f7": {
     "id": "976438a8-b380-4c4f-ba43-5129ce4351f7",
     "prev": "65eeab5a-23e8-4b60-aa5b-7813311d7652",
     "regions": {
      "51788d86-a6d3-4ee1-bc16-5f8b666b86e0": {
       "attrs": {
        "height": 0.8,
        "width": 0.8,
        "x": 0.1,
        "y": 0.1
       },
       "content": {
        "cell": "d8cffd14-b91e-414b-ab29-a902729fe53a",
        "part": "whole"
       },
       "id": "51788d86-a6d3-4ee1-bc16-5f8b666b86e0"
      }
     }
    },
    "9dd30109-03fa-4ccc-b07b-21a8ed5eda70": {
     "id": "9dd30109-03fa-4ccc-b07b-21a8ed5eda70",
     "prev": "7f150b1f-debd-41aa-a330-66367d9f8cc1",
     "regions": {
      "3058e946-c43f-4aa3-970d-2845615bfbce": {
       "attrs": {
        "height": 0.8,
        "width": 0.8,
        "x": 0.1,
        "y": 0.1
       },
       "content": {
        "cell": "f7d16617-3a11-4d9a-8476-96173dbe79ac",
        "part": "whole"
       },
       "id": "3058e946-c43f-4aa3-970d-2845615bfbce"
      }
     }
    },
    "a50a810f-937c-4e36-9261-5f940a06ccc6": {
     "id": "a50a810f-937c-4e36-9261-5f940a06ccc6",
     "prev": "7b2c1b3a-e73c-4d78-bdc5-d75d9816ad8e",
     "regions": {
      "beb76f12-fa6c-49ac-8c60-00e771ba2cd7": {
       "attrs": {
        "height": 0.8,
        "width": 0.8,
        "x": 0.1,
        "y": 0.1
       },
       "content": {
        "cell": "5720a90f-1a8d-407c-8d39-46afb4f3bb2d",
        "part": "whole"
       },
       "id": "beb76f12-fa6c-49ac-8c60-00e771ba2cd7"
      }
     }
    },
    "a588584e-447f-4dc8-85f0-1bb9abe4a26f": {
     "id": "a588584e-447f-4dc8-85f0-1bb9abe4a26f",
     "prev": "2833774d-bc23-4fce-8adf-29d824b793f2",
     "regions": {
      "8d839985-e964-4f08-bfd8-add870034c49": {
       "attrs": {
        "height": 0.8,
        "width": 0.8,
        "x": 0.1,
        "y": 0.1
       },
       "content": {
        "cell": "14235937-c7dc-4853-b893-4061cbbe18af",
        "part": "whole"
       },
       "id": "8d839985-e964-4f08-bfd8-add870034c49"
      }
     }
    },
    "b93ea770-0f82-4abb-a389-150e8607b35e": {
     "id": "b93ea770-0f82-4abb-a389-150e8607b35e",
     "prev": "6419b55c-e602-479c-8d97-3390c9ec0888",
     "regions": {
      "ff0fd0bc-5d36-41c0-b486-0af6256c6ab0": {
       "attrs": {
        "height": 0.8,
        "width": 0.8,
        "x": 0.1,
        "y": 0.1
       },
       "content": {
        "cell": "a3f42f59-4189-4d06-b288-57f3011b229b",
        "part": "whole"
       },
       "id": "ff0fd0bc-5d36-41c0-b486-0af6256c6ab0"
      }
     }
    },
    "ba973311-29ce-437e-8a8e-fa750accf272": {
     "id": "ba973311-29ce-437e-8a8e-fa750accf272",
     "prev": "c8d382b9-80b8-4e5b-ac81-7e937f082857",
     "regions": {
      "fb8c8f47-9769-407f-948a-ddc7015d2af0": {
       "attrs": {
        "height": 0.8,
        "width": 0.8,
        "x": 0.1,
        "y": 0.1
       },
       "content": {
        "cell": "6c87fcab-c6da-42be-8036-5f1a5cd201ae",
        "part": "whole"
       },
       "id": "fb8c8f47-9769-407f-948a-ddc7015d2af0"
      }
     }
    },
    "baed7506-6e23-4b17-993e-2df7396e245e": {
     "id": "baed7506-6e23-4b17-993e-2df7396e245e",
     "prev": "c03278ed-58bb-41cf-9433-342a91725036",
     "regions": {
      "b3fd7a35-65f1-4b0d-9cc8-3372394f5f59": {
       "attrs": {
        "height": 0.8,
        "width": 0.8,
        "x": 0.1,
        "y": 0.1
       },
       "content": {
        "cell": "a011f0a7-32c9-4239-bb9f-dfdb650a029e",
        "part": "whole"
       },
       "id": "b3fd7a35-65f1-4b0d-9cc8-3372394f5f59"
      }
     }
    },
    "bbe4fb8e-dae0-4132-80d7-eea01974884c": {
     "id": "bbe4fb8e-dae0-4132-80d7-eea01974884c",
     "prev": "d8839362-5bc4-4992-b8a9-7a7b39291003",
     "regions": {
      "cde4c2aa-2fd8-4a15-ad53-8e4feccfeffa": {
       "attrs": {
        "height": 0.8,
        "width": 0.8,
        "x": 0.1,
        "y": 0.1
       },
       "content": {
        "cell": "eecf83b2-a59c-41bb-95af-b8c0a5752ed9",
        "part": "whole"
       },
       "id": "cde4c2aa-2fd8-4a15-ad53-8e4feccfeffa"
      }
     }
    },
    "beddb53b-6c08-4281-b393-04c3fc539abf": {
     "id": "beddb53b-6c08-4281-b393-04c3fc539abf",
     "prev": "17095ad6-f7c8-4287-8665-4572206c4339",
     "regions": {
      "796f994a-2311-4d01-99fc-a8e2f2494b7e": {
       "attrs": {
        "height": 0.8,
        "width": 0.8,
        "x": 0.1,
        "y": 0.1
       },
       "content": {
        "cell": "64d41680-225a-438e-b82d-7dc30fbda3a1",
        "part": "whole"
       },
       "id": "796f994a-2311-4d01-99fc-a8e2f2494b7e"
      }
     }
    },
    "c03278ed-58bb-41cf-9433-342a91725036": {
     "id": "c03278ed-58bb-41cf-9433-342a91725036",
     "prev": "bbe4fb8e-dae0-4132-80d7-eea01974884c",
     "regions": {
      "d87c3d33-7e4a-4407-9703-8354d0bad68c": {
       "attrs": {
        "height": 0.8,
        "width": 0.8,
        "x": 0.1,
        "y": 0.1
       },
       "content": {
        "cell": "65667dc9-c0e5-4233-a00c-758dafc80c54",
        "part": "whole"
       },
       "id": "d87c3d33-7e4a-4407-9703-8354d0bad68c"
      }
     }
    },
    "c053a11a-0f55-41ec-908a-8a656bb6fde1": {
     "id": "c053a11a-0f55-41ec-908a-8a656bb6fde1",
     "prev": "0eedf53a-fb37-4342-b9cb-6380c4373cad",
     "regions": {
      "7fe24e04-4e2f-40b9-9df2-a6529ee1bb9d": {
       "attrs": {
        "height": 0.8,
        "width": 0.8,
        "x": 0.1,
        "y": 0.1
       },
       "content": {
        "cell": "f7e10643-3218-49c7-8a96-3f1656f3028a",
        "part": "whole"
       },
       "id": "7fe24e04-4e2f-40b9-9df2-a6529ee1bb9d"
      }
     }
    },
    "c068238d-120f-43ec-8a77-154bf6a6ca62": {
     "id": "c068238d-120f-43ec-8a77-154bf6a6ca62",
     "prev": "4c9ce3c6-1714-4333-a304-a7c4f4824117",
     "regions": {
      "f31c6fed-7d57-4943-8ad1-eae2c1c546a7": {
       "attrs": {
        "height": 0.8,
        "width": 0.8,
        "x": 0.1,
        "y": 0.1
       },
       "content": {
        "cell": "c25bc3b9-cbf3-48a7-ab16-7dbb53227bbf",
        "part": "whole"
       },
       "id": "f31c6fed-7d57-4943-8ad1-eae2c1c546a7"
      }
     }
    },
    "c5efba75-a150-482d-9454-31cb9a2c52b0": {
     "id": "c5efba75-a150-482d-9454-31cb9a2c52b0",
     "prev": "db489861-057a-450c-abaf-ce59bd60a04f",
     "regions": {
      "4d184c07-8ac3-4eb9-aaf3-738ad07efed9": {
       "attrs": {
        "height": 0.8,
        "width": 0.8,
        "x": 0.1,
        "y": 0.1
       },
       "content": {
        "cell": "2c5d241a-a06c-4974-857a-4277e34cc1e1",
        "part": "whole"
       },
       "id": "4d184c07-8ac3-4eb9-aaf3-738ad07efed9"
      }
     }
    },
    "c8d382b9-80b8-4e5b-ac81-7e937f082857": {
     "id": "c8d382b9-80b8-4e5b-ac81-7e937f082857",
     "prev": "501d385a-92f9-4e74-867b-69720cbf941a",
     "regions": {
      "2cd7fb79-f10d-4225-a910-c5897727bac3": {
       "attrs": {
        "height": 0.8,
        "width": 0.8,
        "x": 0.1,
        "y": 0.1
       },
       "content": {
        "cell": "e3c9555d-565d-4415-9820-9d712e6958a8",
        "part": "whole"
       },
       "id": "2cd7fb79-f10d-4225-a910-c5897727bac3"
      }
     }
    },
    "c9bf87b0-e90f-4391-9c8b-fd536a1d9863": {
     "id": "c9bf87b0-e90f-4391-9c8b-fd536a1d9863",
     "prev": "6d151d87-5434-4f4f-91c4-3676d947cb5b",
     "regions": {
      "0bb2e353-97c6-4b4a-bed8-f5037152a8a1": {
       "attrs": {
        "height": 0.8,
        "width": 0.8,
        "x": 0.1,
        "y": 0.1
       },
       "content": {
        "cell": "a594c3d2-a9e4-44b2-8b0a-4ccc23c5cfd1",
        "part": "whole"
       },
       "id": "0bb2e353-97c6-4b4a-bed8-f5037152a8a1"
      }
     }
    },
    "d45268fd-851e-4d5e-97c5-bc8abb8f47d8": {
     "id": "d45268fd-851e-4d5e-97c5-bc8abb8f47d8",
     "prev": "43dd2598-df33-4a68-a521-f9aad8156b5f",
     "regions": {
      "a57cb6f9-b4e9-4c68-8287-10b3430b3033": {
       "attrs": {
        "height": 0.8,
        "width": 0.8,
        "x": 0.1,
        "y": 0.1
       },
       "content": {
        "cell": "8e4b6b70-846d-4c96-9da1-4ca51f3b7a07",
        "part": "whole"
       },
       "id": "a57cb6f9-b4e9-4c68-8287-10b3430b3033"
      }
     }
    },
    "d5807003-28f8-41d1-aa6b-7ce42e057790": {
     "id": "d5807003-28f8-41d1-aa6b-7ce42e057790",
     "prev": "c9bf87b0-e90f-4391-9c8b-fd536a1d9863",
     "regions": {
      "cb729991-05d1-4fc4-8792-60abb1ac8fec": {
       "attrs": {
        "height": 0.8,
        "width": 0.8,
        "x": 0.1,
        "y": 0.1
       },
       "content": {
        "cell": "4b6cdcbf-973c-43ff-acd2-3091efe580be",
        "part": "whole"
       },
       "id": "cb729991-05d1-4fc4-8792-60abb1ac8fec"
      }
     }
    },
    "d8839362-5bc4-4992-b8a9-7a7b39291003": {
     "id": "d8839362-5bc4-4992-b8a9-7a7b39291003",
     "prev": "f8ba0d9b-a0dc-47aa-9d47-ca6045db5be0",
     "regions": {
      "7cdf4e11-5826-4e96-a205-0cfb36ef9c48": {
       "attrs": {
        "height": 0.8,
        "width": 0.8,
        "x": 0.1,
        "y": 0.1
       },
       "content": {
        "cell": "c5b7ec8a-0589-47a4-bb6d-59937e83dc3e",
        "part": "whole"
       },
       "id": "7cdf4e11-5826-4e96-a205-0cfb36ef9c48"
      }
     }
    },
    "db489861-057a-450c-abaf-ce59bd60a04f": {
     "id": "db489861-057a-450c-abaf-ce59bd60a04f",
     "prev": "87606ddd-a851-4380-ab02-95b98d8c4b3e",
     "regions": {
      "acd11e22-ea3a-4e39-a224-40b2a66c4858": {
       "attrs": {
        "height": 0.8,
        "width": 0.8,
        "x": 0.1,
        "y": 0.1
       },
       "content": {
        "cell": "4a0e23af-437b-4ac2-8ede-1c45da127ee4",
        "part": "whole"
       },
       "id": "acd11e22-ea3a-4e39-a224-40b2a66c4858"
      }
     }
    },
    "dc7d35ec-88ba-40a8-a21d-eb058ca5993e": {
     "id": "dc7d35ec-88ba-40a8-a21d-eb058ca5993e",
     "prev": "368e8d85-9a9b-492c-98d7-2ca7730c3f44",
     "regions": {
      "36f24dec-2d15-4515-ba8e-61ac5ad0abf2": {
       "attrs": {
        "height": 0.8,
        "width": 0.8,
        "x": 0.1,
        "y": 0.1
       },
       "content": {
        "cell": "0e14ffd8-418e-4ea8-a429-51fa7853066d",
        "part": "whole"
       },
       "id": "36f24dec-2d15-4515-ba8e-61ac5ad0abf2"
      }
     }
    },
    "e0f97d89-f0c2-4a9b-b144-fdb3756f1711": {
     "id": "e0f97d89-f0c2-4a9b-b144-fdb3756f1711",
     "prev": "0b0c8f9b-0095-44da-be40-40e8048faee1",
     "regions": {
      "5a64215d-adee-43fb-a4ec-1167291b3fb6": {
       "attrs": {
        "height": 0.8,
        "width": 0.8,
        "x": 0.1,
        "y": 0.1
       },
       "content": {
        "cell": "74744393-6a51-471d-acb6-8d082a7d68eb",
        "part": "whole"
       },
       "id": "5a64215d-adee-43fb-a4ec-1167291b3fb6"
      }
     }
    },
    "e2051b8e-0a31-45cf-85e0-b63a8532936d": {
     "id": "e2051b8e-0a31-45cf-85e0-b63a8532936d",
     "prev": "0bbd665d-ab6b-45a2-aa8b-9b776069545d",
     "regions": {
      "5b893621-8393-4241-96bf-2f9993414510": {
       "attrs": {
        "height": 0.8,
        "width": 0.8,
        "x": 0.1,
        "y": 0.1
       },
       "content": {
        "cell": "140eba1e-ade1-49c7-9150-41648f0c4147",
        "part": "whole"
       },
       "id": "5b893621-8393-4241-96bf-2f9993414510"
      }
     }
    },
    "f8ba0d9b-a0dc-47aa-9d47-ca6045db5be0": {
     "id": "f8ba0d9b-a0dc-47aa-9d47-ca6045db5be0",
     "prev": "1dac84d8-b95d-47aa-9ba7-83e175c29533",
     "regions": {
      "43496f74-130d-4171-b810-a9594e30ab02": {
       "attrs": {
        "height": 0.8,
        "width": 0.8,
        "x": 0.1,
        "y": 0.1
       },
       "content": {
        "cell": "e1543a96-eda8-4f1e-9197-92d221f4c8ba",
        "part": "whole"
       },
       "id": "43496f74-130d-4171-b810-a9594e30ab02"
      }
     }
    },
    "fd7a789a-d042-46d4-b09a-79812cd03f12": {
     "id": "fd7a789a-d042-46d4-b09a-79812cd03f12",
     "prev": "c068238d-120f-43ec-8a77-154bf6a6ca62",
     "regions": {
      "3b7ed04d-4870-4697-bf7a-5b476f36af5a": {
       "attrs": {
        "height": 0.8,
        "width": 0.8,
        "x": 0.1,
        "y": 0.1
       },
       "content": {
        "cell": "2909511f-4179-4aad-8f72-167a75a2a7d9",
        "part": "whole"
       },
       "id": "3b7ed04d-4870-4697-bf7a-5b476f36af5a"
      }
     }
    }
   },
   "themes": {}
  },
  "toc": {
   "base_numbering": 1,
   "nav_menu": {
    "height": "518px",
    "width": "278px"
   },
   "number_sections": true,
   "sideBar": true,
   "skip_h1_title": false,
   "title_cell": "Table of Contents",
   "title_sidebar": "Contents",
   "toc_cell": false,
   "toc_position": {
    "height": "calc(100% - 180px)",
    "left": "10px",
    "top": "150px",
    "width": "256px"
   },
   "toc_section_display": true,
   "toc_window_display": true
  }
 },
 "nbformat": 4,
 "nbformat_minor": 4
}
