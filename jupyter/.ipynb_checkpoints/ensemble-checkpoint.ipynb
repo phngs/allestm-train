{
 "cells": [
  {
   "cell_type": "code",
   "execution_count": 293,
   "metadata": {},
   "outputs": [],
   "source": [
    "import pandas as pd\n",
    "import numpy as np\n",
    "import sqlite3\n",
    "\n",
    "from sklearn.linear_model import LinearRegression, LogisticRegression\n",
    "from sklearn.metrics import mean_absolute_error, mean_squared_error, accuracy_score, precision_score, recall_score, f1_score, roc_auc_score, matthews_corrcoef\n",
    "\n",
    "from scipy.stats import pearsonr, spearmanr"
   ]
  },
  {
   "cell_type": "code",
   "execution_count": 239,
   "metadata": {},
   "outputs": [],
   "source": [
    "conn = sqlite3.connect('../data.db')"
   ]
  },
  {
   "cell_type": "markdown",
   "metadata": {},
   "source": [
    "# CONTINUOUS"
   ]
  },
  {
   "cell_type": "code",
   "execution_count": 240,
   "metadata": {},
   "outputs": [],
   "source": [
    "target = 'mllib_features_continuous_ZCoordinates'\n",
    "target_len = 1\n",
    "target_cols = [f'val_{i}' for i in range(target_len)]\n",
    "max_folds = 5"
   ]
  },
  {
   "cell_type": "code",
   "execution_count": 241,
   "metadata": {},
   "outputs": [],
   "source": [
    "experiments = [x[0] for x in conn.cursor().execute(f'select distinct experiment from {target} where '\n",
    "                          '(experiment like \"lstm%\" or '\n",
    "                          'experiment like \"cnn%\" or '\n",
    "                          'experiment like \"xgb%\" or '\n",
    "                          'experiment like \"rf%\") and '\n",
    "                          'experiment not like \"%VALID%\" and experiment not like \"%TEST%\"'\n",
    "                          'order by experiment'\n",
    "                         ).fetchall()]"
   ]
  },
  {
   "cell_type": "code",
   "execution_count": 242,
   "metadata": {},
   "outputs": [
    {
     "name": "stdout",
     "output_type": "stream",
     "text": [
      "['cnn_domain_zcoords', 'lstm_domain_zcoords', 'rf_zcoords_cont', 'xgb_zcoords_cont']\n"
     ]
    }
   ],
   "source": [
    "print(experiments)"
   ]
  },
  {
   "cell_type": "code",
   "execution_count": 243,
   "metadata": {},
   "outputs": [],
   "source": [
    "obss_valid = []\n",
    "obss_test = []\n",
    "for fold in range(max_folds):\n",
    "    obss_valid.append(pd.read_sql_query(f'select * from {target} join datasets using (id) where fold={fold} and kind=\"valid\" and experiment=\"observed\" order by id,resi', conn))\n",
    "    obss_test.append(pd.read_sql_query(f'select * from {target} join datasets using (id) where fold={fold} and kind=\"test\" and experiment=\"observed\" order by id,resi', conn))"
   ]
  },
  {
   "cell_type": "code",
   "execution_count": 244,
   "metadata": {},
   "outputs": [
    {
     "data": {
      "text/html": [
       "<div>\n",
       "<style scoped>\n",
       "    .dataframe tbody tr th:only-of-type {\n",
       "        vertical-align: middle;\n",
       "    }\n",
       "\n",
       "    .dataframe tbody tr th {\n",
       "        vertical-align: top;\n",
       "    }\n",
       "\n",
       "    .dataframe thead th {\n",
       "        text-align: right;\n",
       "    }\n",
       "</style>\n",
       "<table border=\"1\" class=\"dataframe\">\n",
       "  <thead>\n",
       "    <tr style=\"text-align: right;\">\n",
       "      <th></th>\n",
       "      <th>experiment</th>\n",
       "      <th>id</th>\n",
       "      <th>resi</th>\n",
       "      <th>val_0</th>\n",
       "      <th>name</th>\n",
       "      <th>fold</th>\n",
       "      <th>kind</th>\n",
       "    </tr>\n",
       "  </thead>\n",
       "  <tbody>\n",
       "    <tr>\n",
       "      <th>0</th>\n",
       "      <td>observed</td>\n",
       "      <td>1nek_C</td>\n",
       "      <td>0</td>\n",
       "      <td>-25.0</td>\n",
       "      <td>depth</td>\n",
       "      <td>0</td>\n",
       "      <td>valid</td>\n",
       "    </tr>\n",
       "    <tr>\n",
       "      <th>1</th>\n",
       "      <td>observed</td>\n",
       "      <td>1nek_C</td>\n",
       "      <td>1</td>\n",
       "      <td>-25.0</td>\n",
       "      <td>depth</td>\n",
       "      <td>0</td>\n",
       "      <td>valid</td>\n",
       "    </tr>\n",
       "    <tr>\n",
       "      <th>2</th>\n",
       "      <td>observed</td>\n",
       "      <td>1nek_C</td>\n",
       "      <td>2</td>\n",
       "      <td>-25.0</td>\n",
       "      <td>depth</td>\n",
       "      <td>0</td>\n",
       "      <td>valid</td>\n",
       "    </tr>\n",
       "    <tr>\n",
       "      <th>3</th>\n",
       "      <td>observed</td>\n",
       "      <td>1nek_C</td>\n",
       "      <td>3</td>\n",
       "      <td>-25.0</td>\n",
       "      <td>depth</td>\n",
       "      <td>0</td>\n",
       "      <td>valid</td>\n",
       "    </tr>\n",
       "    <tr>\n",
       "      <th>4</th>\n",
       "      <td>observed</td>\n",
       "      <td>1nek_C</td>\n",
       "      <td>4</td>\n",
       "      <td>-25.0</td>\n",
       "      <td>depth</td>\n",
       "      <td>0</td>\n",
       "      <td>valid</td>\n",
       "    </tr>\n",
       "  </tbody>\n",
       "</table>\n",
       "</div>"
      ],
      "text/plain": [
       "  experiment      id  resi  val_0   name  fold   kind\n",
       "0   observed  1nek_C     0  -25.0  depth     0  valid\n",
       "1   observed  1nek_C     1  -25.0  depth     0  valid\n",
       "2   observed  1nek_C     2  -25.0  depth     0  valid\n",
       "3   observed  1nek_C     3  -25.0  depth     0  valid\n",
       "4   observed  1nek_C     4  -25.0  depth     0  valid"
      ]
     },
     "execution_count": 244,
     "metadata": {},
     "output_type": "execute_result"
    }
   ],
   "source": [
    "obss_valid[0].head()"
   ]
  },
  {
   "cell_type": "code",
   "execution_count": 245,
   "metadata": {},
   "outputs": [],
   "source": [
    "preds_valid = []\n",
    "preds_test = []\n",
    "for fold in range(max_folds):\n",
    "    preds_valid.append([])\n",
    "    preds_test.append([])\n",
    "    for experiment in experiments:\n",
    "        preds_valid[-1].append(pd.read_sql_query(f'select * from {target} where experiment=\"{experiment}_VALID_{fold}\" order by id,resi', conn))\n",
    "        preds_test[-1].append(pd.read_sql_query(f'select * from {target} join datasets using (id) where experiment=\"{experiment}\" and kind=\"test\" and fold={fold} order by id,resi', conn))"
   ]
  },
  {
   "cell_type": "code",
   "execution_count": 246,
   "metadata": {},
   "outputs": [],
   "source": [
    "dfs_valid = []\n",
    "dfs_test = []\n",
    "for fold in range(max_folds):\n",
    "    dfs_valid.append(pd.concat(preds_valid[fold] + [obss_valid[fold]], axis=1)[target_cols])\n",
    "    dfs_valid[-1].columns = experiments + ['observed']\n",
    "    dfs_test.append(pd.concat(preds_test[fold] + [obss_test[fold]], axis=1)[target_cols])\n",
    "    dfs_test[-1].columns = experiments + ['observed']"
   ]
  },
  {
   "cell_type": "code",
   "execution_count": 247,
   "metadata": {},
   "outputs": [
    {
     "data": {
      "text/html": [
       "<div>\n",
       "<style scoped>\n",
       "    .dataframe tbody tr th:only-of-type {\n",
       "        vertical-align: middle;\n",
       "    }\n",
       "\n",
       "    .dataframe tbody tr th {\n",
       "        vertical-align: top;\n",
       "    }\n",
       "\n",
       "    .dataframe thead th {\n",
       "        text-align: right;\n",
       "    }\n",
       "</style>\n",
       "<table border=\"1\" class=\"dataframe\">\n",
       "  <thead>\n",
       "    <tr style=\"text-align: right;\">\n",
       "      <th></th>\n",
       "      <th>cnn_domain_zcoords</th>\n",
       "      <th>lstm_domain_zcoords</th>\n",
       "      <th>rf_zcoords_cont</th>\n",
       "      <th>xgb_zcoords_cont</th>\n",
       "      <th>observed</th>\n",
       "    </tr>\n",
       "  </thead>\n",
       "  <tbody>\n",
       "    <tr>\n",
       "      <th>0</th>\n",
       "      <td>-17.043632</td>\n",
       "      <td>-19.805127</td>\n",
       "      <td>-12.578974</td>\n",
       "      <td>-13.059041</td>\n",
       "      <td>-25.0</td>\n",
       "    </tr>\n",
       "    <tr>\n",
       "      <th>1</th>\n",
       "      <td>-22.117513</td>\n",
       "      <td>-20.962265</td>\n",
       "      <td>-12.664031</td>\n",
       "      <td>-18.813404</td>\n",
       "      <td>-25.0</td>\n",
       "    </tr>\n",
       "    <tr>\n",
       "      <th>2</th>\n",
       "      <td>-24.309620</td>\n",
       "      <td>-22.045821</td>\n",
       "      <td>-11.721556</td>\n",
       "      <td>-13.982627</td>\n",
       "      <td>-25.0</td>\n",
       "    </tr>\n",
       "    <tr>\n",
       "      <th>3</th>\n",
       "      <td>-22.558057</td>\n",
       "      <td>-22.598574</td>\n",
       "      <td>-11.748129</td>\n",
       "      <td>-10.240783</td>\n",
       "      <td>-25.0</td>\n",
       "    </tr>\n",
       "    <tr>\n",
       "      <th>4</th>\n",
       "      <td>-24.289432</td>\n",
       "      <td>-22.849461</td>\n",
       "      <td>-12.560366</td>\n",
       "      <td>-20.070454</td>\n",
       "      <td>-25.0</td>\n",
       "    </tr>\n",
       "  </tbody>\n",
       "</table>\n",
       "</div>"
      ],
      "text/plain": [
       "   cnn_domain_zcoords  lstm_domain_zcoords  rf_zcoords_cont  xgb_zcoords_cont  \\\n",
       "0          -17.043632           -19.805127       -12.578974        -13.059041   \n",
       "1          -22.117513           -20.962265       -12.664031        -18.813404   \n",
       "2          -24.309620           -22.045821       -11.721556        -13.982627   \n",
       "3          -22.558057           -22.598574       -11.748129        -10.240783   \n",
       "4          -24.289432           -22.849461       -12.560366        -20.070454   \n",
       "\n",
       "   observed  \n",
       "0     -25.0  \n",
       "1     -25.0  \n",
       "2     -25.0  \n",
       "3     -25.0  \n",
       "4     -25.0  "
      ]
     },
     "execution_count": 247,
     "metadata": {},
     "output_type": "execute_result"
    }
   ],
   "source": [
    "dfs_valid[0].head()"
   ]
  },
  {
   "cell_type": "code",
   "execution_count": 248,
   "metadata": {},
   "outputs": [],
   "source": [
    "lrs = []\n",
    "for fold in range(max_folds):\n",
    "    lrs.append(LinearRegression().fit(dfs_valid[fold][experiments], dfs_valid[fold]['observed']))"
   ]
  },
  {
   "cell_type": "code",
   "execution_count": 249,
   "metadata": {},
   "outputs": [],
   "source": [
    "obs_valid = np.concatenate([df['observed'] for df in dfs_valid])"
   ]
  },
  {
   "cell_type": "code",
   "execution_count": 250,
   "metadata": {},
   "outputs": [
    {
     "name": "stdout",
     "output_type": "stream",
     "text": [
      "[-25. -25. -25. ...  11.  14.  14.]\n"
     ]
    }
   ],
   "source": [
    "print(obs_valid)"
   ]
  },
  {
   "cell_type": "code",
   "execution_count": 251,
   "metadata": {},
   "outputs": [],
   "source": [
    "pred_valid = np.concatenate([lrs[fold].predict(dfs_valid[fold][experiments]) for fold in range(max_folds)])"
   ]
  },
  {
   "cell_type": "code",
   "execution_count": 252,
   "metadata": {},
   "outputs": [
    {
     "name": "stdout",
     "output_type": "stream",
     "text": [
      "[-19.65381556 -20.53113363 -21.43666584 ...  11.28181507  13.40923066\n",
      "  13.50911748]\n"
     ]
    }
   ],
   "source": [
    "print(pred_valid)"
   ]
  },
  {
   "cell_type": "code",
   "execution_count": 253,
   "metadata": {},
   "outputs": [
    {
     "name": "stdout",
     "output_type": "stream",
     "text": [
      "[0.948, 0.942, 3.526, 34.354]\n"
     ]
    }
   ],
   "source": [
    "mse_valid = mean_squared_error(obs_valid, pred_valid)\n",
    "mae_valid = mean_absolute_error(obs_valid, pred_valid)\n",
    "pr_valid = pearsonr(obs_valid, pred_valid)\n",
    "sp_valid = spearmanr(obs_valid, pred_valid)\n",
    "\n",
    "print(list(map(lambda x: round(x, 3), [pr_valid[0], sp_valid[0], mae_valid, mse_valid])))"
   ]
  },
  {
   "cell_type": "code",
   "execution_count": 254,
   "metadata": {},
   "outputs": [],
   "source": [
    "obs_test = np.concatenate([df['observed'] for df in dfs_test])"
   ]
  },
  {
   "cell_type": "code",
   "execution_count": 255,
   "metadata": {},
   "outputs": [
    {
     "name": "stdout",
     "output_type": "stream",
     "text": [
      "[-15.24400043 -12.18799973 -13.01900005 ...  25.          25.\n",
      "  25.        ]\n"
     ]
    }
   ],
   "source": [
    "print(obs_test)"
   ]
  },
  {
   "cell_type": "code",
   "execution_count": 256,
   "metadata": {},
   "outputs": [],
   "source": [
    "pred_test = np.concatenate([lrs[fold].predict(dfs_test[fold][experiments]) for fold in range(max_folds)])"
   ]
  },
  {
   "cell_type": "code",
   "execution_count": 257,
   "metadata": {},
   "outputs": [
    {
     "name": "stdout",
     "output_type": "stream",
     "text": [
      "[-13.55311078 -13.10448993 -12.47658741 ...   7.14068941   5.09855448\n",
      "   4.13684788]\n"
     ]
    }
   ],
   "source": [
    "print(pred_test)"
   ]
  },
  {
   "cell_type": "code",
   "execution_count": 258,
   "metadata": {},
   "outputs": [
    {
     "name": "stdout",
     "output_type": "stream",
     "text": [
      "[0.807, 0.804, 5.723, 114.677]\n"
     ]
    }
   ],
   "source": [
    "mse_test = mean_squared_error(obs_test, pred_test)\n",
    "mae_test = mean_absolute_error(obs_test, pred_test)\n",
    "pr_test = pearsonr(obs_test, pred_test)\n",
    "sp_test = spearmanr(obs_test, pred_test)\n",
    "\n",
    "print(list(map(lambda x: round(x, 3), [pr_test[0], sp_test[0], mae_test, mse_test])))"
   ]
  },
  {
   "cell_type": "code",
   "execution_count": 259,
   "metadata": {},
   "outputs": [
    {
     "name": "stdout",
     "output_type": "stream",
     "text": [
      "Fold 0\n",
      "experiment: cnn_domain_zcoords, coef: -0.05, intercept: -1.23\n",
      "experiment: lstm_domain_zcoords, coef: 0.96, intercept: -1.23\n",
      "experiment: rf_zcoords_cont, coef: 0.02, intercept: -1.23\n",
      "experiment: xgb_zcoords_cont, coef: 0.00, intercept: -1.23\n",
      "Fold 1\n",
      "experiment: cnn_domain_zcoords, coef: 0.01, intercept: 0.18\n",
      "experiment: lstm_domain_zcoords, coef: 1.01, intercept: 0.18\n",
      "experiment: rf_zcoords_cont, coef: 0.16, intercept: 0.18\n",
      "experiment: xgb_zcoords_cont, coef: -0.06, intercept: 0.18\n",
      "Fold 2\n",
      "experiment: cnn_domain_zcoords, coef: 0.02, intercept: 1.20\n",
      "experiment: lstm_domain_zcoords, coef: 0.98, intercept: 1.20\n",
      "experiment: rf_zcoords_cont, coef: 0.06, intercept: 1.20\n",
      "experiment: xgb_zcoords_cont, coef: -0.12, intercept: 1.20\n",
      "Fold 3\n",
      "experiment: cnn_domain_zcoords, coef: -0.02, intercept: -1.51\n",
      "experiment: lstm_domain_zcoords, coef: 0.97, intercept: -1.51\n",
      "experiment: rf_zcoords_cont, coef: -0.06, intercept: -1.51\n",
      "experiment: xgb_zcoords_cont, coef: 0.06, intercept: -1.51\n",
      "Fold 4\n",
      "experiment: cnn_domain_zcoords, coef: -0.13, intercept: 1.41\n",
      "experiment: lstm_domain_zcoords, coef: 1.04, intercept: 1.41\n",
      "experiment: rf_zcoords_cont, coef: 0.07, intercept: 1.41\n",
      "experiment: xgb_zcoords_cont, coef: -0.01, intercept: 1.41\n"
     ]
    }
   ],
   "source": [
    "for fold in range(max_folds):\n",
    "    print(f'Fold {fold}')\n",
    "    for experiment, coef in zip(experiments, lrs[fold].coef_):\n",
    "        print(f'experiment: {experiment}, coef: {coef:.2f}, intercept: {lrs[fold].intercept_:.2f}')"
   ]
  },
  {
   "cell_type": "markdown",
   "metadata": {},
   "source": [
    "# BINARY"
   ]
  },
  {
   "cell_type": "code",
   "execution_count": 260,
   "metadata": {},
   "outputs": [],
   "source": [
    "target = 'mllib_features_binary_Bfactors'\n",
    "target_len = 1\n",
    "target_cols = [f'val_{i}' for i in range(target_len)]\n",
    "max_folds = 5"
   ]
  },
  {
   "cell_type": "code",
   "execution_count": 261,
   "metadata": {},
   "outputs": [],
   "source": [
    "experiments = [x[0] for x in conn.cursor().execute(f'select distinct experiment from {target} where '\n",
    "                          '(experiment like \"lstm%\" or '\n",
    "                          'experiment like \"cnn%\" or '\n",
    "                          'experiment like \"xgb%\" or '\n",
    "                          'experiment like \"rf%\") and '\n",
    "                          'experiment not like \"%VALID%\" and experiment not like \"%TEST%\"'\n",
    "                          'order by experiment'\n",
    "                         ).fetchall()]"
   ]
  },
  {
   "cell_type": "code",
   "execution_count": 262,
   "metadata": {},
   "outputs": [
    {
     "name": "stdout",
     "output_type": "stream",
     "text": [
      "['cnn_domain_bfactors', 'lstm_domain_bfactors', 'rf_bfactors_bin', 'xgb_bfactors_bin']\n"
     ]
    }
   ],
   "source": [
    "print(experiments)"
   ]
  },
  {
   "cell_type": "code",
   "execution_count": 263,
   "metadata": {},
   "outputs": [],
   "source": [
    "obss_valid = []\n",
    "obss_test = []\n",
    "for fold in range(max_folds):\n",
    "    obss_valid.append(pd.read_sql_query(f'select * from {target} join datasets using (id) where fold={fold} and kind=\"valid\" and experiment=\"observed\" order by id,resi', conn))\n",
    "    obss_test.append(pd.read_sql_query(f'select * from {target} join datasets using (id) where fold={fold} and kind=\"test\" and experiment=\"observed\" order by id,resi', conn))"
   ]
  },
  {
   "cell_type": "code",
   "execution_count": 264,
   "metadata": {},
   "outputs": [
    {
     "data": {
      "text/html": [
       "<div>\n",
       "<style scoped>\n",
       "    .dataframe tbody tr th:only-of-type {\n",
       "        vertical-align: middle;\n",
       "    }\n",
       "\n",
       "    .dataframe tbody tr th {\n",
       "        vertical-align: top;\n",
       "    }\n",
       "\n",
       "    .dataframe thead th {\n",
       "        text-align: right;\n",
       "    }\n",
       "</style>\n",
       "<table border=\"1\" class=\"dataframe\">\n",
       "  <thead>\n",
       "    <tr style=\"text-align: right;\">\n",
       "      <th></th>\n",
       "      <th>experiment</th>\n",
       "      <th>id</th>\n",
       "      <th>resi</th>\n",
       "      <th>val_0</th>\n",
       "      <th>name</th>\n",
       "      <th>fold</th>\n",
       "      <th>kind</th>\n",
       "    </tr>\n",
       "  </thead>\n",
       "  <tbody>\n",
       "    <tr>\n",
       "      <th>0</th>\n",
       "      <td>observed</td>\n",
       "      <td>1nek_C</td>\n",
       "      <td>0</td>\n",
       "      <td>1.0</td>\n",
       "      <td>depth</td>\n",
       "      <td>0</td>\n",
       "      <td>valid</td>\n",
       "    </tr>\n",
       "    <tr>\n",
       "      <th>1</th>\n",
       "      <td>observed</td>\n",
       "      <td>1nek_C</td>\n",
       "      <td>1</td>\n",
       "      <td>1.0</td>\n",
       "      <td>depth</td>\n",
       "      <td>0</td>\n",
       "      <td>valid</td>\n",
       "    </tr>\n",
       "    <tr>\n",
       "      <th>2</th>\n",
       "      <td>observed</td>\n",
       "      <td>1nek_C</td>\n",
       "      <td>2</td>\n",
       "      <td>1.0</td>\n",
       "      <td>depth</td>\n",
       "      <td>0</td>\n",
       "      <td>valid</td>\n",
       "    </tr>\n",
       "    <tr>\n",
       "      <th>3</th>\n",
       "      <td>observed</td>\n",
       "      <td>1nek_C</td>\n",
       "      <td>3</td>\n",
       "      <td>1.0</td>\n",
       "      <td>depth</td>\n",
       "      <td>0</td>\n",
       "      <td>valid</td>\n",
       "    </tr>\n",
       "    <tr>\n",
       "      <th>4</th>\n",
       "      <td>observed</td>\n",
       "      <td>1nek_C</td>\n",
       "      <td>4</td>\n",
       "      <td>1.0</td>\n",
       "      <td>depth</td>\n",
       "      <td>0</td>\n",
       "      <td>valid</td>\n",
       "    </tr>\n",
       "  </tbody>\n",
       "</table>\n",
       "</div>"
      ],
      "text/plain": [
       "  experiment      id  resi  val_0   name  fold   kind\n",
       "0   observed  1nek_C     0    1.0  depth     0  valid\n",
       "1   observed  1nek_C     1    1.0  depth     0  valid\n",
       "2   observed  1nek_C     2    1.0  depth     0  valid\n",
       "3   observed  1nek_C     3    1.0  depth     0  valid\n",
       "4   observed  1nek_C     4    1.0  depth     0  valid"
      ]
     },
     "execution_count": 264,
     "metadata": {},
     "output_type": "execute_result"
    }
   ],
   "source": [
    "obss_valid[0].head()"
   ]
  },
  {
   "cell_type": "code",
   "execution_count": 265,
   "metadata": {},
   "outputs": [],
   "source": [
    "preds_valid = []\n",
    "preds_test = []\n",
    "for fold in range(max_folds):\n",
    "    preds_valid.append([])\n",
    "    preds_test.append([])\n",
    "    for experiment in experiments:\n",
    "        preds_valid[-1].append(pd.read_sql_query(f'select * from {target} where experiment=\"{experiment}_VALID_{fold}\" order by id,resi', conn))\n",
    "        preds_test[-1].append(pd.read_sql_query(f'select * from {target} join datasets using (id) where experiment=\"{experiment}\" and kind=\"test\" and fold={fold} order by id,resi', conn))"
   ]
  },
  {
   "cell_type": "code",
   "execution_count": 266,
   "metadata": {},
   "outputs": [],
   "source": [
    "dfs_valid = []\n",
    "dfs_test = []\n",
    "for fold in range(max_folds):\n",
    "    dfs_valid.append(pd.concat(preds_valid[fold] + [obss_valid[fold]], axis=1)[target_cols])\n",
    "    dfs_valid[-1].columns = experiments + ['observed']\n",
    "    dfs_test.append(pd.concat(preds_test[fold] + [obss_test[fold]], axis=1)[target_cols])\n",
    "    dfs_test[-1].columns = experiments + ['observed']"
   ]
  },
  {
   "cell_type": "code",
   "execution_count": 267,
   "metadata": {},
   "outputs": [
    {
     "data": {
      "text/html": [
       "<div>\n",
       "<style scoped>\n",
       "    .dataframe tbody tr th:only-of-type {\n",
       "        vertical-align: middle;\n",
       "    }\n",
       "\n",
       "    .dataframe tbody tr th {\n",
       "        vertical-align: top;\n",
       "    }\n",
       "\n",
       "    .dataframe thead th {\n",
       "        text-align: right;\n",
       "    }\n",
       "</style>\n",
       "<table border=\"1\" class=\"dataframe\">\n",
       "  <thead>\n",
       "    <tr style=\"text-align: right;\">\n",
       "      <th></th>\n",
       "      <th>cnn_domain_bfactors</th>\n",
       "      <th>lstm_domain_bfactors</th>\n",
       "      <th>rf_bfactors_bin</th>\n",
       "      <th>xgb_bfactors_bin</th>\n",
       "      <th>observed</th>\n",
       "    </tr>\n",
       "  </thead>\n",
       "  <tbody>\n",
       "    <tr>\n",
       "      <th>0</th>\n",
       "      <td>0.697402</td>\n",
       "      <td>0.797277</td>\n",
       "      <td>0.665</td>\n",
       "      <td>0.734198</td>\n",
       "      <td>1.0</td>\n",
       "    </tr>\n",
       "    <tr>\n",
       "      <th>1</th>\n",
       "      <td>0.706198</td>\n",
       "      <td>0.794890</td>\n",
       "      <td>0.578</td>\n",
       "      <td>0.713786</td>\n",
       "      <td>1.0</td>\n",
       "    </tr>\n",
       "    <tr>\n",
       "      <th>2</th>\n",
       "      <td>0.729441</td>\n",
       "      <td>0.835546</td>\n",
       "      <td>0.563</td>\n",
       "      <td>0.607813</td>\n",
       "      <td>1.0</td>\n",
       "    </tr>\n",
       "    <tr>\n",
       "      <th>3</th>\n",
       "      <td>0.690561</td>\n",
       "      <td>0.850896</td>\n",
       "      <td>0.517</td>\n",
       "      <td>0.563066</td>\n",
       "      <td>1.0</td>\n",
       "    </tr>\n",
       "    <tr>\n",
       "      <th>4</th>\n",
       "      <td>0.672404</td>\n",
       "      <td>0.839514</td>\n",
       "      <td>0.507</td>\n",
       "      <td>0.638690</td>\n",
       "      <td>1.0</td>\n",
       "    </tr>\n",
       "  </tbody>\n",
       "</table>\n",
       "</div>"
      ],
      "text/plain": [
       "   cnn_domain_bfactors  lstm_domain_bfactors  rf_bfactors_bin  \\\n",
       "0             0.697402              0.797277            0.665   \n",
       "1             0.706198              0.794890            0.578   \n",
       "2             0.729441              0.835546            0.563   \n",
       "3             0.690561              0.850896            0.517   \n",
       "4             0.672404              0.839514            0.507   \n",
       "\n",
       "   xgb_bfactors_bin  observed  \n",
       "0          0.734198       1.0  \n",
       "1          0.713786       1.0  \n",
       "2          0.607813       1.0  \n",
       "3          0.563066       1.0  \n",
       "4          0.638690       1.0  "
      ]
     },
     "execution_count": 267,
     "metadata": {},
     "output_type": "execute_result"
    }
   ],
   "source": [
    "dfs_valid[0].head()"
   ]
  },
  {
   "cell_type": "code",
   "execution_count": 270,
   "metadata": {},
   "outputs": [],
   "source": [
    "lrs = []\n",
    "for fold in range(max_folds):\n",
    "    lrs.append(LogisticRegression().fit(dfs_valid[fold][experiments], dfs_valid[fold]['observed']))"
   ]
  },
  {
   "cell_type": "code",
   "execution_count": 271,
   "metadata": {},
   "outputs": [],
   "source": [
    "obs_valid = np.concatenate([df['observed'] for df in dfs_valid])"
   ]
  },
  {
   "cell_type": "code",
   "execution_count": 272,
   "metadata": {},
   "outputs": [
    {
     "name": "stdout",
     "output_type": "stream",
     "text": [
      "[1. 1. 1. ... 1. 1. 1.]\n"
     ]
    }
   ],
   "source": [
    "print(obs_valid)"
   ]
  },
  {
   "cell_type": "code",
   "execution_count": 284,
   "metadata": {},
   "outputs": [],
   "source": [
    "pred_valid = np.concatenate([lrs[fold].predict_proba(dfs_valid[fold][experiments])[:, 1] for fold in range(max_folds)])"
   ]
  },
  {
   "cell_type": "code",
   "execution_count": 285,
   "metadata": {},
   "outputs": [
    {
     "name": "stdout",
     "output_type": "stream",
     "text": [
      "[0.80424121 0.80350017 0.8175293  ... 0.75780174 0.79064733 0.80580833]\n"
     ]
    }
   ],
   "source": [
    "print(pred_valid)"
   ]
  },
  {
   "cell_type": "code",
   "execution_count": 300,
   "metadata": {},
   "outputs": [
    {
     "name": "stdout",
     "output_type": "stream",
     "text": [
      "acc 0.684\n",
      "p 0.635\n",
      "r 0.486\n",
      "f1 0.55\n",
      "auc 0.735\n",
      "mcc 0.321\n"
     ]
    }
   ],
   "source": [
    "measures = [('acc', lambda o, p: accuracy_score(o, np.round(p))), \n",
    "            ('p', lambda o, p: precision_score(o, np.round(p))), \n",
    "            ('r', lambda o, p: recall_score(o, np.round(p))), \n",
    "            ('f1', lambda o, p: f1_score(o, np.round(p))), \n",
    "            ('auc', roc_auc_score), \n",
    "            ('mcc', lambda o, p: matthews_corrcoef(o, np.round(p)))\n",
    "           ]\n",
    "\n",
    "for name, measure in measures:\n",
    "    print(name, round(measure(obs_valid, pred_valid), 3))"
   ]
  },
  {
   "cell_type": "code",
   "execution_count": 301,
   "metadata": {},
   "outputs": [],
   "source": [
    "obs_test = np.concatenate([df['observed'] for df in dfs_test])"
   ]
  },
  {
   "cell_type": "code",
   "execution_count": 302,
   "metadata": {},
   "outputs": [
    {
     "name": "stdout",
     "output_type": "stream",
     "text": [
      "[1. 1. 1. ... 0. 1. 1.]\n"
     ]
    }
   ],
   "source": [
    "print(obs_test)"
   ]
  },
  {
   "cell_type": "code",
   "execution_count": 303,
   "metadata": {},
   "outputs": [],
   "source": [
    "pred_test = np.concatenate([lrs[fold].predict_proba(dfs_test[fold][experiments])[:, 1] for fold in range(max_folds)])"
   ]
  },
  {
   "cell_type": "code",
   "execution_count": 304,
   "metadata": {},
   "outputs": [
    {
     "name": "stdout",
     "output_type": "stream",
     "text": [
      "[0.70620855 0.73938313 0.70434053 ... 0.59602524 0.76995504 0.77514956]\n"
     ]
    }
   ],
   "source": [
    "print(pred_test)"
   ]
  },
  {
   "cell_type": "code",
   "execution_count": 305,
   "metadata": {},
   "outputs": [
    {
     "name": "stdout",
     "output_type": "stream",
     "text": [
      "acc 0.686\n",
      "p 0.638\n",
      "r 0.475\n",
      "f1 0.544\n",
      "auc 0.73\n",
      "mcc 0.321\n"
     ]
    }
   ],
   "source": [
    "measures = [('acc', lambda o, p: accuracy_score(o, np.round(p))), \n",
    "            ('p', lambda o, p: precision_score(o, np.round(p))), \n",
    "            ('r', lambda o, p: recall_score(o, np.round(p))), \n",
    "            ('f1', lambda o, p: f1_score(o, np.round(p))), \n",
    "            ('auc', roc_auc_score), \n",
    "            ('mcc', lambda o, p: matthews_corrcoef(o, np.round(p)))\n",
    "           ]\n",
    "\n",
    "for name, measure in measures:\n",
    "    print(name, round(measure(obs_test, pred_test), 3))"
   ]
  },
  {
   "cell_type": "code",
   "execution_count": 310,
   "metadata": {},
   "outputs": [],
   "source": [
    "#for fold in range(max_folds):\n",
    "#    print(f'Fold {fold}')\n",
    "#    for experiment, coef in zip(experiments, lrs[fold].coef_):\n",
    "#        print(f'experiment: {experiment}#, coef: {coef:.2f}, intercept: {lrs[fold].intercept_:.2f}')"
   ]
  },
  {
   "cell_type": "markdown",
   "metadata": {},
   "source": [
    "# CATEGORICAL"
   ]
  },
  {
   "cell_type": "code",
   "execution_count": 329,
   "metadata": {},
   "outputs": [],
   "source": [
    "target = 'mllib_features_categorical_Topology'\n",
    "target_len = 4\n",
    "target_cols = [f'val_{i}' for i in range(target_len)]\n",
    "max_folds = 5"
   ]
  },
  {
   "cell_type": "code",
   "execution_count": 315,
   "metadata": {},
   "outputs": [],
   "source": [
    "experiments = [x[0] for x in conn.cursor().execute(f'select distinct experiment from {target} where '\n",
    "                          '(experiment like \"lstm%\" or '\n",
    "                          'experiment like \"cnn%\" or '\n",
    "                          'experiment like \"xgb%\" or '\n",
    "                          'experiment like \"rf%\") and '\n",
    "                          'experiment not like \"%VALID%\" and experiment not like \"%TEST%\"'\n",
    "                          'order by experiment'\n",
    "                         ).fetchall()]"
   ]
  },
  {
   "cell_type": "code",
   "execution_count": 316,
   "metadata": {},
   "outputs": [
    {
     "name": "stdout",
     "output_type": "stream",
     "text": [
      "['cnn_domain_zcoords', 'lstm_domain_zcoords', 'rf_topo', 'xgb_topo']\n"
     ]
    }
   ],
   "source": [
    "print(experiments)"
   ]
  },
  {
   "cell_type": "code",
   "execution_count": 317,
   "metadata": {},
   "outputs": [],
   "source": [
    "obss_valid = []\n",
    "obss_test = []\n",
    "for fold in range(max_folds):\n",
    "    obss_valid.append(pd.read_sql_query(f'select * from {target} join datasets using (id) where fold={fold} and kind=\"valid\" and experiment=\"observed\" order by id,resi', conn))\n",
    "    obss_test.append(pd.read_sql_query(f'select * from {target} join datasets using (id) where fold={fold} and kind=\"test\" and experiment=\"observed\" order by id,resi', conn))"
   ]
  },
  {
   "cell_type": "code",
   "execution_count": 318,
   "metadata": {},
   "outputs": [
    {
     "data": {
      "text/html": [
       "<div>\n",
       "<style scoped>\n",
       "    .dataframe tbody tr th:only-of-type {\n",
       "        vertical-align: middle;\n",
       "    }\n",
       "\n",
       "    .dataframe tbody tr th {\n",
       "        vertical-align: top;\n",
       "    }\n",
       "\n",
       "    .dataframe thead th {\n",
       "        text-align: right;\n",
       "    }\n",
       "</style>\n",
       "<table border=\"1\" class=\"dataframe\">\n",
       "  <thead>\n",
       "    <tr style=\"text-align: right;\">\n",
       "      <th></th>\n",
       "      <th>experiment</th>\n",
       "      <th>id</th>\n",
       "      <th>resi</th>\n",
       "      <th>val_0</th>\n",
       "      <th>val_1</th>\n",
       "      <th>val_2</th>\n",
       "      <th>val_3</th>\n",
       "      <th>name</th>\n",
       "      <th>fold</th>\n",
       "      <th>kind</th>\n",
       "    </tr>\n",
       "  </thead>\n",
       "  <tbody>\n",
       "    <tr>\n",
       "      <th>0</th>\n",
       "      <td>observed</td>\n",
       "      <td>1nek_C</td>\n",
       "      <td>0</td>\n",
       "      <td>1.0</td>\n",
       "      <td>0.0</td>\n",
       "      <td>0.0</td>\n",
       "      <td>0.0</td>\n",
       "      <td>depth</td>\n",
       "      <td>0</td>\n",
       "      <td>valid</td>\n",
       "    </tr>\n",
       "    <tr>\n",
       "      <th>1</th>\n",
       "      <td>observed</td>\n",
       "      <td>1nek_C</td>\n",
       "      <td>1</td>\n",
       "      <td>1.0</td>\n",
       "      <td>0.0</td>\n",
       "      <td>0.0</td>\n",
       "      <td>0.0</td>\n",
       "      <td>depth</td>\n",
       "      <td>0</td>\n",
       "      <td>valid</td>\n",
       "    </tr>\n",
       "    <tr>\n",
       "      <th>2</th>\n",
       "      <td>observed</td>\n",
       "      <td>1nek_C</td>\n",
       "      <td>2</td>\n",
       "      <td>1.0</td>\n",
       "      <td>0.0</td>\n",
       "      <td>0.0</td>\n",
       "      <td>0.0</td>\n",
       "      <td>depth</td>\n",
       "      <td>0</td>\n",
       "      <td>valid</td>\n",
       "    </tr>\n",
       "    <tr>\n",
       "      <th>3</th>\n",
       "      <td>observed</td>\n",
       "      <td>1nek_C</td>\n",
       "      <td>3</td>\n",
       "      <td>1.0</td>\n",
       "      <td>0.0</td>\n",
       "      <td>0.0</td>\n",
       "      <td>0.0</td>\n",
       "      <td>depth</td>\n",
       "      <td>0</td>\n",
       "      <td>valid</td>\n",
       "    </tr>\n",
       "    <tr>\n",
       "      <th>4</th>\n",
       "      <td>observed</td>\n",
       "      <td>1nek_C</td>\n",
       "      <td>4</td>\n",
       "      <td>1.0</td>\n",
       "      <td>0.0</td>\n",
       "      <td>0.0</td>\n",
       "      <td>0.0</td>\n",
       "      <td>depth</td>\n",
       "      <td>0</td>\n",
       "      <td>valid</td>\n",
       "    </tr>\n",
       "  </tbody>\n",
       "</table>\n",
       "</div>"
      ],
      "text/plain": [
       "  experiment      id  resi  val_0  val_1  val_2  val_3   name  fold   kind\n",
       "0   observed  1nek_C     0    1.0    0.0    0.0    0.0  depth     0  valid\n",
       "1   observed  1nek_C     1    1.0    0.0    0.0    0.0  depth     0  valid\n",
       "2   observed  1nek_C     2    1.0    0.0    0.0    0.0  depth     0  valid\n",
       "3   observed  1nek_C     3    1.0    0.0    0.0    0.0  depth     0  valid\n",
       "4   observed  1nek_C     4    1.0    0.0    0.0    0.0  depth     0  valid"
      ]
     },
     "execution_count": 318,
     "metadata": {},
     "output_type": "execute_result"
    }
   ],
   "source": [
    "obss_valid[0].head()"
   ]
  },
  {
   "cell_type": "code",
   "execution_count": 322,
   "metadata": {},
   "outputs": [],
   "source": [
    "preds_valid = []\n",
    "preds_test = []\n",
    "for fold in range(max_folds):\n",
    "    preds_valid.append([])\n",
    "    preds_test.append([])\n",
    "    for experiment in experiments:\n",
    "        preds_valid[-1].append(pd.read_sql_query(f'select * from {target} where experiment=\"{experiment}_VALID_{fold}\" order by id,resi', conn))\n",
    "        preds_test[-1].append(pd.read_sql_query(f'select * from {target} join datasets using (id) where experiment=\"{experiment}\" and kind=\"test\" and fold={fold} order by id,resi', conn))"
   ]
  },
  {
   "cell_type": "code",
   "execution_count": 334,
   "metadata": {},
   "outputs": [],
   "source": [
    "dfs_valid = []\n",
    "dfs_test = []\n",
    "for fold in range(max_folds):\n",
    "    dfs_valid.append(pd.concat(preds_valid[fold] + [obss_valid[fold]], axis=1)[target_cols])\n",
    "    #dfs_valid[-1].columns = experiments + ['observed']\n",
    "    dfs_test.append(pd.concat(preds_test[fold] + [obss_test[fold]], axis=1)[target_cols])\n",
    "    #dfs_test[-1].columns = experiments + ['observed']"
   ]
  },
  {
   "cell_type": "code",
   "execution_count": 335,
   "metadata": {},
   "outputs": [
    {
     "data": {
      "text/html": [
       "<div>\n",
       "<style scoped>\n",
       "    .dataframe tbody tr th:only-of-type {\n",
       "        vertical-align: middle;\n",
       "    }\n",
       "\n",
       "    .dataframe tbody tr th {\n",
       "        vertical-align: top;\n",
       "    }\n",
       "\n",
       "    .dataframe thead th {\n",
       "        text-align: right;\n",
       "    }\n",
       "</style>\n",
       "<table border=\"1\" class=\"dataframe\">\n",
       "  <thead>\n",
       "    <tr style=\"text-align: right;\">\n",
       "      <th></th>\n",
       "      <th>val_0</th>\n",
       "      <th>val_0</th>\n",
       "      <th>val_0</th>\n",
       "      <th>val_0</th>\n",
       "      <th>val_0</th>\n",
       "      <th>val_1</th>\n",
       "      <th>val_1</th>\n",
       "      <th>val_1</th>\n",
       "      <th>val_1</th>\n",
       "      <th>val_1</th>\n",
       "      <th>val_2</th>\n",
       "      <th>val_2</th>\n",
       "      <th>val_2</th>\n",
       "      <th>val_2</th>\n",
       "      <th>val_2</th>\n",
       "      <th>val_3</th>\n",
       "      <th>val_3</th>\n",
       "      <th>val_3</th>\n",
       "      <th>val_3</th>\n",
       "      <th>val_3</th>\n",
       "    </tr>\n",
       "  </thead>\n",
       "  <tbody>\n",
       "    <tr>\n",
       "      <th>0</th>\n",
       "      <td>0.906432</td>\n",
       "      <td>0.901406</td>\n",
       "      <td>0.738</td>\n",
       "      <td>0.954485</td>\n",
       "      <td>1.0</td>\n",
       "      <td>0.009265</td>\n",
       "      <td>0.016593</td>\n",
       "      <td>0.040</td>\n",
       "      <td>0.000868</td>\n",
       "      <td>0.0</td>\n",
       "      <td>0.080684</td>\n",
       "      <td>0.061896</td>\n",
       "      <td>0.218</td>\n",
       "      <td>0.043141</td>\n",
       "      <td>0.0</td>\n",
       "      <td>0.003619</td>\n",
       "      <td>0.020104</td>\n",
       "      <td>0.004</td>\n",
       "      <td>0.001506</td>\n",
       "      <td>0.0</td>\n",
       "    </tr>\n",
       "    <tr>\n",
       "      <th>1</th>\n",
       "      <td>0.944222</td>\n",
       "      <td>0.918366</td>\n",
       "      <td>0.727</td>\n",
       "      <td>0.952290</td>\n",
       "      <td>1.0</td>\n",
       "      <td>0.004310</td>\n",
       "      <td>0.007558</td>\n",
       "      <td>0.036</td>\n",
       "      <td>0.000667</td>\n",
       "      <td>0.0</td>\n",
       "      <td>0.049833</td>\n",
       "      <td>0.062944</td>\n",
       "      <td>0.227</td>\n",
       "      <td>0.046025</td>\n",
       "      <td>0.0</td>\n",
       "      <td>0.001635</td>\n",
       "      <td>0.011133</td>\n",
       "      <td>0.010</td>\n",
       "      <td>0.001018</td>\n",
       "      <td>0.0</td>\n",
       "    </tr>\n",
       "    <tr>\n",
       "      <th>2</th>\n",
       "      <td>0.946508</td>\n",
       "      <td>0.928710</td>\n",
       "      <td>0.731</td>\n",
       "      <td>0.962640</td>\n",
       "      <td>1.0</td>\n",
       "      <td>0.001961</td>\n",
       "      <td>0.003742</td>\n",
       "      <td>0.053</td>\n",
       "      <td>0.001082</td>\n",
       "      <td>0.0</td>\n",
       "      <td>0.050773</td>\n",
       "      <td>0.061128</td>\n",
       "      <td>0.202</td>\n",
       "      <td>0.035319</td>\n",
       "      <td>0.0</td>\n",
       "      <td>0.000757</td>\n",
       "      <td>0.006419</td>\n",
       "      <td>0.014</td>\n",
       "      <td>0.000959</td>\n",
       "      <td>0.0</td>\n",
       "    </tr>\n",
       "    <tr>\n",
       "      <th>3</th>\n",
       "      <td>0.961855</td>\n",
       "      <td>0.926088</td>\n",
       "      <td>0.772</td>\n",
       "      <td>0.970711</td>\n",
       "      <td>1.0</td>\n",
       "      <td>0.000691</td>\n",
       "      <td>0.002452</td>\n",
       "      <td>0.039</td>\n",
       "      <td>0.000588</td>\n",
       "      <td>0.0</td>\n",
       "      <td>0.037070</td>\n",
       "      <td>0.066654</td>\n",
       "      <td>0.178</td>\n",
       "      <td>0.028244</td>\n",
       "      <td>0.0</td>\n",
       "      <td>0.000384</td>\n",
       "      <td>0.004806</td>\n",
       "      <td>0.011</td>\n",
       "      <td>0.000457</td>\n",
       "      <td>0.0</td>\n",
       "    </tr>\n",
       "    <tr>\n",
       "      <th>4</th>\n",
       "      <td>0.974665</td>\n",
       "      <td>0.922259</td>\n",
       "      <td>0.749</td>\n",
       "      <td>0.968932</td>\n",
       "      <td>1.0</td>\n",
       "      <td>0.000328</td>\n",
       "      <td>0.001816</td>\n",
       "      <td>0.046</td>\n",
       "      <td>0.000811</td>\n",
       "      <td>0.0</td>\n",
       "      <td>0.024852</td>\n",
       "      <td>0.071929</td>\n",
       "      <td>0.189</td>\n",
       "      <td>0.029429</td>\n",
       "      <td>0.0</td>\n",
       "      <td>0.000155</td>\n",
       "      <td>0.003996</td>\n",
       "      <td>0.016</td>\n",
       "      <td>0.000828</td>\n",
       "      <td>0.0</td>\n",
       "    </tr>\n",
       "  </tbody>\n",
       "</table>\n",
       "</div>"
      ],
      "text/plain": [
       "      val_0     val_0  val_0     val_0  val_0     val_1     val_1  val_1  \\\n",
       "0  0.906432  0.901406  0.738  0.954485    1.0  0.009265  0.016593  0.040   \n",
       "1  0.944222  0.918366  0.727  0.952290    1.0  0.004310  0.007558  0.036   \n",
       "2  0.946508  0.928710  0.731  0.962640    1.0  0.001961  0.003742  0.053   \n",
       "3  0.961855  0.926088  0.772  0.970711    1.0  0.000691  0.002452  0.039   \n",
       "4  0.974665  0.922259  0.749  0.968932    1.0  0.000328  0.001816  0.046   \n",
       "\n",
       "      val_1  val_1     val_2     val_2  val_2     val_2  val_2     val_3  \\\n",
       "0  0.000868    0.0  0.080684  0.061896  0.218  0.043141    0.0  0.003619   \n",
       "1  0.000667    0.0  0.049833  0.062944  0.227  0.046025    0.0  0.001635   \n",
       "2  0.001082    0.0  0.050773  0.061128  0.202  0.035319    0.0  0.000757   \n",
       "3  0.000588    0.0  0.037070  0.066654  0.178  0.028244    0.0  0.000384   \n",
       "4  0.000811    0.0  0.024852  0.071929  0.189  0.029429    0.0  0.000155   \n",
       "\n",
       "      val_3  val_3     val_3  val_3  \n",
       "0  0.020104  0.004  0.001506    0.0  \n",
       "1  0.011133  0.010  0.001018    0.0  \n",
       "2  0.006419  0.014  0.000959    0.0  \n",
       "3  0.004806  0.011  0.000457    0.0  \n",
       "4  0.003996  0.016  0.000828    0.0  "
      ]
     },
     "execution_count": 335,
     "metadata": {},
     "output_type": "execute_result"
    }
   ],
   "source": [
    "dfs_valid[0].head()"
   ]
  },
  {
   "cell_type": "code",
   "execution_count": 270,
   "metadata": {},
   "outputs": [],
   "source": [
    "lrs = []\n",
    "for fold in range(max_folds):\n",
    "    lrs.append(LogisticRegression().fit(dfs_valid[fold][experiments], dfs_valid[fold]['observed']))"
   ]
  },
  {
   "cell_type": "code",
   "execution_count": 271,
   "metadata": {},
   "outputs": [],
   "source": [
    "obs_valid = np.concatenate([df['observed'] for df in dfs_valid])"
   ]
  },
  {
   "cell_type": "code",
   "execution_count": 272,
   "metadata": {},
   "outputs": [
    {
     "name": "stdout",
     "output_type": "stream",
     "text": [
      "[1. 1. 1. ... 1. 1. 1.]\n"
     ]
    }
   ],
   "source": [
    "print(obs_valid)"
   ]
  },
  {
   "cell_type": "code",
   "execution_count": 284,
   "metadata": {},
   "outputs": [],
   "source": [
    "pred_valid = np.concatenate([lrs[fold].predict_proba(dfs_valid[fold][experiments])[:, 1] for fold in range(max_folds)])"
   ]
  },
  {
   "cell_type": "code",
   "execution_count": 285,
   "metadata": {},
   "outputs": [
    {
     "name": "stdout",
     "output_type": "stream",
     "text": [
      "[0.80424121 0.80350017 0.8175293  ... 0.75780174 0.79064733 0.80580833]\n"
     ]
    }
   ],
   "source": [
    "print(pred_valid)"
   ]
  },
  {
   "cell_type": "code",
   "execution_count": 300,
   "metadata": {},
   "outputs": [
    {
     "name": "stdout",
     "output_type": "stream",
     "text": [
      "acc 0.684\n",
      "p 0.635\n",
      "r 0.486\n",
      "f1 0.55\n",
      "auc 0.735\n",
      "mcc 0.321\n"
     ]
    }
   ],
   "source": [
    "measures = [('acc', lambda o, p: accuracy_score(o, np.round(p))), \n",
    "            ('p', lambda o, p: precision_score(o, np.round(p))), \n",
    "            ('r', lambda o, p: recall_score(o, np.round(p))), \n",
    "            ('f1', lambda o, p: f1_score(o, np.round(p))), \n",
    "            ('auc', roc_auc_score), \n",
    "            ('mcc', lambda o, p: matthews_corrcoef(o, np.round(p)))\n",
    "           ]\n",
    "\n",
    "for name, measure in measures:\n",
    "    print(name, round(measure(obs_valid, pred_valid), 3))"
   ]
  },
  {
   "cell_type": "code",
   "execution_count": 301,
   "metadata": {},
   "outputs": [],
   "source": [
    "obs_test = np.concatenate([df['observed'] for df in dfs_test])"
   ]
  },
  {
   "cell_type": "code",
   "execution_count": 302,
   "metadata": {},
   "outputs": [
    {
     "name": "stdout",
     "output_type": "stream",
     "text": [
      "[1. 1. 1. ... 0. 1. 1.]\n"
     ]
    }
   ],
   "source": [
    "print(obs_test)"
   ]
  },
  {
   "cell_type": "code",
   "execution_count": 303,
   "metadata": {},
   "outputs": [],
   "source": [
    "pred_test = np.concatenate([lrs[fold].predict_proba(dfs_test[fold][experiments])[:, 1] for fold in range(max_folds)])"
   ]
  },
  {
   "cell_type": "code",
   "execution_count": 304,
   "metadata": {},
   "outputs": [
    {
     "name": "stdout",
     "output_type": "stream",
     "text": [
      "[0.70620855 0.73938313 0.70434053 ... 0.59602524 0.76995504 0.77514956]\n"
     ]
    }
   ],
   "source": [
    "print(pred_test)"
   ]
  },
  {
   "cell_type": "code",
   "execution_count": 305,
   "metadata": {},
   "outputs": [
    {
     "name": "stdout",
     "output_type": "stream",
     "text": [
      "acc 0.686\n",
      "p 0.638\n",
      "r 0.475\n",
      "f1 0.544\n",
      "auc 0.73\n",
      "mcc 0.321\n"
     ]
    }
   ],
   "source": [
    "measures = [('acc', lambda o, p: accuracy_score(o, np.round(p))), \n",
    "            ('p', lambda o, p: precision_score(o, np.round(p))), \n",
    "            ('r', lambda o, p: recall_score(o, np.round(p))), \n",
    "            ('f1', lambda o, p: f1_score(o, np.round(p))), \n",
    "            ('auc', roc_auc_score), \n",
    "            ('mcc', lambda o, p: matthews_corrcoef(o, np.round(p)))\n",
    "           ]\n",
    "\n",
    "for name, measure in measures:\n",
    "    print(name, round(measure(obs_test, pred_test), 3))"
   ]
  },
  {
   "cell_type": "code",
   "execution_count": 310,
   "metadata": {},
   "outputs": [],
   "source": [
    "#for fold in range(max_folds):\n",
    "#    print(f'Fold {fold}')\n",
    "#    for experiment, coef in zip(experiments, lrs[fold].coef_):\n",
    "#        print(f'experiment: {experiment}#, coef: {coef:.2f}, intercept: {lrs[fold].intercept_:.2f}')"
   ]
  },
  {
   "cell_type": "code",
   "execution_count": null,
   "metadata": {},
   "outputs": [],
   "source": []
  }
 ],
 "metadata": {
  "kernelspec": {
   "display_name": "Python [conda env:jupyter]",
   "language": "python",
   "name": "conda-env-jupyter-py"
  },
  "language_info": {
   "codemirror_mode": {
    "name": "ipython",
    "version": 3
   },
   "file_extension": ".py",
   "mimetype": "text/x-python",
   "name": "python",
   "nbconvert_exporter": "python",
   "pygments_lexer": "ipython3",
   "version": "3.6.6"
  }
 },
 "nbformat": 4,
 "nbformat_minor": 2
}
