{
 "cells": [
  {
   "cell_type": "code",
   "execution_count": 1,
   "metadata": {},
   "outputs": [],
   "source": [
    "%matplotlib inline\n",
    "%load_ext autoreload\n",
    "%autoreload 2\n",
    "import matplotlib.pyplot as plt\n",
    "import sqlite3\n",
    "import pandas as pd\n",
    "import sys\n",
    "sys.path.append(\"/Users/peter/PycharmProjects/depth/\")"
   ]
  },
  {
   "cell_type": "code",
   "execution_count": 2,
   "metadata": {},
   "outputs": [],
   "source": [
    "conn = sqlite3.connect(\"../data.db\")\n",
    "cur = conn.cursor()"
   ]
  },
  {
   "cell_type": "code",
   "execution_count": 3,
   "metadata": {},
   "outputs": [],
   "source": [
    "protein_df_all = pd.read_sql_query(\"select * from proteins\", conn)"
   ]
  },
  {
   "cell_type": "code",
   "execution_count": 4,
   "metadata": {},
   "outputs": [],
   "source": [
    "protein_df = protein_df_all[(protein_df_all.method.str.match(\"x-ray\")) & (protein_df_all.cov_trimmed == 100) & (protein_df_all.cov_total >= 80) & (protein_df_all.resolution <= 3.5) & (protein_df_all.length >= 30)]"
   ]
  },
  {
   "cell_type": "code",
   "execution_count": 5,
   "metadata": {},
   "outputs": [],
   "source": [
    "df_raw_data = pd.read_sql_query(\"select * from (select distinct id from datasets) a join raw_data using (id)\", conn)"
   ]
  },
  {
   "cell_type": "code",
   "execution_count": 6,
   "metadata": {},
   "outputs": [
    {
     "data": {
      "text/plain": [
       "array([[<matplotlib.axes._subplots.AxesSubplot object at 0x111ab3a20>,\n",
       "        <matplotlib.axes._subplots.AxesSubplot object at 0x1117b00f0>],\n",
       "       [<matplotlib.axes._subplots.AxesSubplot object at 0x111748780>,\n",
       "        <matplotlib.axes._subplots.AxesSubplot object at 0x1118aee10>]],\n",
       "      dtype=object)"
      ]
     },
     "execution_count": 6,
     "metadata": {},
     "output_type": "execute_result"
    },
    {
     "data": {
      "image/png": "[encoded data removed]",
      "text/plain": [
       "<Figure size 432x288 with 4 Axes>"
      ]
     },
     "metadata": {},
     "output_type": "display_data"
    }
   ],
   "source": [
    "df_raw_data[[\"bfactor\", \"ca_z\", \"phi\", \"psi\"]].hist(bins=100)"
   ]
  },
  {
   "cell_type": "code",
   "execution_count": 7,
   "metadata": {},
   "outputs": [],
   "source": [
    "from sklearn.pipeline import Pipeline\n",
    "from sklearn.preprocessing import FunctionTransformer\n",
    "import numpy as np\n",
    "from numpy import vectorize\n",
    "import math\n",
    "from time import time"
   ]
  },
  {
   "cell_type": "code",
   "execution_count": 8,
   "metadata": {},
   "outputs": [],
   "source": [
    "raw_values = df_raw_data[\"phi\"].values.reshape(-1,1)"
   ]
  },
  {
   "cell_type": "code",
   "execution_count": 9,
   "metadata": {},
   "outputs": [],
   "source": [
    "degree_normalizer = FunctionTransformer(np.vectorize(lambda x: max(min(x/math.pi, 1.0), -1.0)))\n",
    "res = degree_normalizer.transform(raw_values)"
   ]
  },
  {
   "cell_type": "code",
   "execution_count": 10,
   "metadata": {},
   "outputs": [
    {
     "name": "stdout",
     "output_type": "stream",
     "text": [
      "6.370889902114868\n"
     ]
    }
   ],
   "source": [
    "start = time()\n",
    "for pdb_id in cur.execute(\"select distinct id from datasets\"):\n",
    "    test = pd.read_sql_query(\"select phi from raw_data where id=?\", conn, params=pdb_id)\n",
    "    for i in range(100):\n",
    "        test2 = degree_normalizer.transform(test[\"phi\"].values.reshape(-1,1))\n",
    "print((time() - start))   "
   ]
  },
  {
   "cell_type": "code",
   "execution_count": 12,
   "metadata": {},
   "outputs": [],
   "source": [
    "from mllib.transformers import SQLRetriever"
   ]
  },
  {
   "cell_type": "code",
   "execution_count": null,
   "metadata": {},
   "outputs": [],
   "source": []
  }
 ],
 "metadata": {
  "kernelspec": {
   "display_name": "Python 3",
   "language": "python",
   "name": "python3"
  },
  "language_info": {
   "codemirror_mode": {
    "name": "ipython",
    "version": 3
   },
   "file_extension": ".py",
   "mimetype": "text/x-python",
   "name": "python",
   "nbconvert_exporter": "python",
   "pygments_lexer": "ipython3",
   "version": "3.6.5"
  }
 },
 "nbformat": 4,
 "nbformat_minor": 1
}
