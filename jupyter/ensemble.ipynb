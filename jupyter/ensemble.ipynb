{
 "cells": [
  {
   "cell_type": "code",
   "execution_count": 500,
   "metadata": {},
   "outputs": [],
   "source": [
    "import pandas as pd\n",
    "import numpy as np\n",
    "import sqlite3\n",
    "\n",
    "from sklearn.linear_model import LinearRegression, LogisticRegression\n",
    "from sklearn.metrics import mean_absolute_error, mean_squared_error, accuracy_score, precision_score, recall_score, f1_score, roc_auc_score, matthews_corrcoef\n",
    "\n",
    "from scipy.stats import pearsonr, spearmanr"
   ]
  },
  {
   "cell_type": "code",
   "execution_count": 501,
   "metadata": {},
   "outputs": [],
   "source": [
    "conn = sqlite3.connect('../data.db')"
   ]
  },
  {
   "cell_type": "markdown",
   "metadata": {},
   "source": [
    "# CONTINUOUS"
   ]
  },
  {
   "cell_type": "code",
   "execution_count": 502,
   "metadata": {},
   "outputs": [],
   "source": [
    "target = 'mllib_features_continuous_ZCoordinates'\n",
    "target_len = 1\n",
    "target_cols = [f'val_{i}' for i in range(target_len)]\n",
    "max_folds = 5"
   ]
  },
  {
   "cell_type": "code",
   "execution_count": 503,
   "metadata": {},
   "outputs": [],
   "source": [
    "experiments = [x[0] for x in conn.cursor().execute(f'select distinct experiment from {target} where '\n",
    "                          '(experiment glob \"lstm_*\" or '\n",
    "                          'experiment glob \"cnn_*\" or '\n",
    "                          'experiment glob \"xgb_*\" or '\n",
    "                          'experiment glob \"rf_*\") and '\n",
    "                          'experiment not like \"%VALID%\" and experiment not like \"%TEST%\"'\n",
    "                          'order by experiment'\n",
    "                         ).fetchall()]"
   ]
  },
  {
   "cell_type": "code",
   "execution_count": 504,
   "metadata": {},
   "outputs": [
    {
     "name": "stdout",
     "output_type": "stream",
     "text": [
      "['cnn_domain_zcoords', 'lstm_domain_zcoords', 'rf_zcoords_cont', 'xgb_zcoords_cont']\n"
     ]
    }
   ],
   "source": [
    "print(experiments)"
   ]
  },
  {
   "cell_type": "code",
   "execution_count": 505,
   "metadata": {},
   "outputs": [],
   "source": [
    "obss_valid = []\n",
    "obss_test = []\n",
    "for fold in range(max_folds):\n",
    "    obss_valid.append(pd.read_sql_query(f'select * from {target} join datasets using (id) where fold={fold} and kind=\"valid\" and experiment=\"observed\" order by id,resi', conn))\n",
    "    obss_test.append(pd.read_sql_query(f'select * from {target} join datasets using (id) where fold={fold} and kind=\"test\" and experiment=\"observed\" order by id,resi', conn))"
   ]
  },
  {
   "cell_type": "code",
   "execution_count": 506,
   "metadata": {},
   "outputs": [
    {
     "data": {
      "text/html": [
       "<div>\n",
       "<style scoped>\n",
       "    .dataframe tbody tr th:only-of-type {\n",
       "        vertical-align: middle;\n",
       "    }\n",
       "\n",
       "    .dataframe tbody tr th {\n",
       "        vertical-align: top;\n",
       "    }\n",
       "\n",
       "    .dataframe thead th {\n",
       "        text-align: right;\n",
       "    }\n",
       "</style>\n",
       "<table border=\"1\" class=\"dataframe\">\n",
       "  <thead>\n",
       "    <tr style=\"text-align: right;\">\n",
       "      <th></th>\n",
       "      <th>experiment</th>\n",
       "      <th>id</th>\n",
       "      <th>resi</th>\n",
       "      <th>val_0</th>\n",
       "      <th>name</th>\n",
       "      <th>fold</th>\n",
       "      <th>kind</th>\n",
       "    </tr>\n",
       "  </thead>\n",
       "  <tbody>\n",
       "    <tr>\n",
       "      <th>0</th>\n",
       "      <td>observed</td>\n",
       "      <td>1nek_C</td>\n",
       "      <td>0</td>\n",
       "      <td>-25.0</td>\n",
       "      <td>depth</td>\n",
       "      <td>0</td>\n",
       "      <td>valid</td>\n",
       "    </tr>\n",
       "    <tr>\n",
       "      <th>1</th>\n",
       "      <td>observed</td>\n",
       "      <td>1nek_C</td>\n",
       "      <td>1</td>\n",
       "      <td>-25.0</td>\n",
       "      <td>depth</td>\n",
       "      <td>0</td>\n",
       "      <td>valid</td>\n",
       "    </tr>\n",
       "    <tr>\n",
       "      <th>2</th>\n",
       "      <td>observed</td>\n",
       "      <td>1nek_C</td>\n",
       "      <td>2</td>\n",
       "      <td>-25.0</td>\n",
       "      <td>depth</td>\n",
       "      <td>0</td>\n",
       "      <td>valid</td>\n",
       "    </tr>\n",
       "    <tr>\n",
       "      <th>3</th>\n",
       "      <td>observed</td>\n",
       "      <td>1nek_C</td>\n",
       "      <td>3</td>\n",
       "      <td>-25.0</td>\n",
       "      <td>depth</td>\n",
       "      <td>0</td>\n",
       "      <td>valid</td>\n",
       "    </tr>\n",
       "    <tr>\n",
       "      <th>4</th>\n",
       "      <td>observed</td>\n",
       "      <td>1nek_C</td>\n",
       "      <td>4</td>\n",
       "      <td>-25.0</td>\n",
       "      <td>depth</td>\n",
       "      <td>0</td>\n",
       "      <td>valid</td>\n",
       "    </tr>\n",
       "  </tbody>\n",
       "</table>\n",
       "</div>"
      ],
      "text/plain": [
       "  experiment      id  resi  val_0   name  fold   kind\n",
       "0   observed  1nek_C     0  -25.0  depth     0  valid\n",
       "1   observed  1nek_C     1  -25.0  depth     0  valid\n",
       "2   observed  1nek_C     2  -25.0  depth     0  valid\n",
       "3   observed  1nek_C     3  -25.0  depth     0  valid\n",
       "4   observed  1nek_C     4  -25.0  depth     0  valid"
      ]
     },
     "execution_count": 506,
     "metadata": {},
     "output_type": "execute_result"
    }
   ],
   "source": [
    "obss_valid[0].head()"
   ]
  },
  {
   "cell_type": "code",
   "execution_count": 507,
   "metadata": {},
   "outputs": [],
   "source": [
    "preds_valid = []\n",
    "preds_test = []\n",
    "for fold in range(max_folds):\n",
    "    preds_valid.append([])\n",
    "    preds_test.append([])\n",
    "    for experiment in experiments:\n",
    "        preds_valid[-1].append(pd.read_sql_query(f'select * from {target} where experiment=\"{experiment}_VALID_{fold}\" order by id,resi', conn))\n",
    "        preds_test[-1].append(pd.read_sql_query(f'select * from {target} join datasets using (id) where experiment=\"{experiment}\" and kind=\"test\" and fold={fold} order by id,resi', conn))"
   ]
  },
  {
   "cell_type": "code",
   "execution_count": 508,
   "metadata": {},
   "outputs": [],
   "source": [
    "dfs_valid = []\n",
    "dfs_test = []\n",
    "for fold in range(max_folds):\n",
    "    dfs_valid.append(pd.concat(preds_valid[fold] + [obss_valid[fold]], axis=1)[target_cols])\n",
    "    dfs_valid[-1].columns = experiments + ['observed']\n",
    "    dfs_test.append(pd.concat(preds_test[fold] + [obss_test[fold]], axis=1)[target_cols])\n",
    "    dfs_test[-1].columns = experiments + ['observed']"
   ]
  },
  {
   "cell_type": "code",
   "execution_count": 509,
   "metadata": {},
   "outputs": [
    {
     "data": {
      "text/html": [
       "<div>\n",
       "<style scoped>\n",
       "    .dataframe tbody tr th:only-of-type {\n",
       "        vertical-align: middle;\n",
       "    }\n",
       "\n",
       "    .dataframe tbody tr th {\n",
       "        vertical-align: top;\n",
       "    }\n",
       "\n",
       "    .dataframe thead th {\n",
       "        text-align: right;\n",
       "    }\n",
       "</style>\n",
       "<table border=\"1\" class=\"dataframe\">\n",
       "  <thead>\n",
       "    <tr style=\"text-align: right;\">\n",
       "      <th></th>\n",
       "      <th>cnn_domain_zcoords</th>\n",
       "      <th>lstm_domain_zcoords</th>\n",
       "      <th>rf_zcoords_cont</th>\n",
       "      <th>xgb_zcoords_cont</th>\n",
       "      <th>observed</th>\n",
       "    </tr>\n",
       "  </thead>\n",
       "  <tbody>\n",
       "    <tr>\n",
       "      <th>0</th>\n",
       "      <td>-20.143442</td>\n",
       "      <td>-19.319791</td>\n",
       "      <td>-12.578974</td>\n",
       "      <td>-13.059041</td>\n",
       "      <td>-25.0</td>\n",
       "    </tr>\n",
       "    <tr>\n",
       "      <th>1</th>\n",
       "      <td>-21.910083</td>\n",
       "      <td>-21.595019</td>\n",
       "      <td>-12.664031</td>\n",
       "      <td>-18.813404</td>\n",
       "      <td>-25.0</td>\n",
       "    </tr>\n",
       "    <tr>\n",
       "      <th>2</th>\n",
       "      <td>-23.870161</td>\n",
       "      <td>-24.109092</td>\n",
       "      <td>-11.721556</td>\n",
       "      <td>-13.982627</td>\n",
       "      <td>-25.0</td>\n",
       "    </tr>\n",
       "    <tr>\n",
       "      <th>3</th>\n",
       "      <td>-24.186015</td>\n",
       "      <td>-25.000000</td>\n",
       "      <td>-11.748129</td>\n",
       "      <td>-10.240783</td>\n",
       "      <td>-25.0</td>\n",
       "    </tr>\n",
       "    <tr>\n",
       "      <th>4</th>\n",
       "      <td>-21.088664</td>\n",
       "      <td>-25.000000</td>\n",
       "      <td>-12.560366</td>\n",
       "      <td>-20.070454</td>\n",
       "      <td>-25.0</td>\n",
       "    </tr>\n",
       "  </tbody>\n",
       "</table>\n",
       "</div>"
      ],
      "text/plain": [
       "   cnn_domain_zcoords  lstm_domain_zcoords  rf_zcoords_cont  xgb_zcoords_cont  \\\n",
       "0          -20.143442           -19.319791       -12.578974        -13.059041   \n",
       "1          -21.910083           -21.595019       -12.664031        -18.813404   \n",
       "2          -23.870161           -24.109092       -11.721556        -13.982627   \n",
       "3          -24.186015           -25.000000       -11.748129        -10.240783   \n",
       "4          -21.088664           -25.000000       -12.560366        -20.070454   \n",
       "\n",
       "   observed  \n",
       "0     -25.0  \n",
       "1     -25.0  \n",
       "2     -25.0  \n",
       "3     -25.0  \n",
       "4     -25.0  "
      ]
     },
     "execution_count": 509,
     "metadata": {},
     "output_type": "execute_result"
    }
   ],
   "source": [
    "dfs_valid[0].head()"
   ]
  },
  {
   "cell_type": "code",
   "execution_count": 510,
   "metadata": {},
   "outputs": [],
   "source": [
    "lrs = []\n",
    "for fold in range(max_folds):\n",
    "    lrs.append(LinearRegression().fit(dfs_valid[fold][experiments], dfs_valid[fold]['observed']))"
   ]
  },
  {
   "cell_type": "code",
   "execution_count": 511,
   "metadata": {},
   "outputs": [],
   "source": [
    "obs_valid = np.concatenate([df['observed'] for df in dfs_valid])"
   ]
  },
  {
   "cell_type": "code",
   "execution_count": 512,
   "metadata": {},
   "outputs": [
    {
     "name": "stdout",
     "output_type": "stream",
     "text": [
      "[-25. -25. -25. ...  25.  25.  25.]\n"
     ]
    }
   ],
   "source": [
    "print(obs_valid)"
   ]
  },
  {
   "cell_type": "code",
   "execution_count": 513,
   "metadata": {},
   "outputs": [],
   "source": [
    "pred_valid = np.concatenate([lrs[fold].predict(dfs_valid[fold][experiments]) for fold in range(max_folds)])"
   ]
  },
  {
   "cell_type": "code",
   "execution_count": 514,
   "metadata": {},
   "outputs": [
    {
     "name": "stdout",
     "output_type": "stream",
     "text": [
      "[-22.41299257 -24.83797613 -27.28364207 ...  12.38142982  14.48248321\n",
      "  14.57924854]\n"
     ]
    }
   ],
   "source": [
    "print(pred_valid)"
   ]
  },
  {
   "cell_type": "code",
   "execution_count": 515,
   "metadata": {},
   "outputs": [
    {
     "name": "stdout",
     "output_type": "stream",
     "text": [
      "[0.891, 0.857, 6.768, 101.449]\n"
     ]
    }
   ],
   "source": [
    "mse_valid = mean_squared_error(obs_valid, pred_valid)\n",
    "mae_valid = mean_absolute_error(obs_valid, pred_valid)\n",
    "pr_valid = pearsonr(obs_valid, pred_valid)\n",
    "sp_valid = spearmanr(obs_valid, pred_valid)\n",
    "\n",
    "print(list(map(lambda x: round(x, 3), [pr_valid[0], sp_valid[0], mae_valid, mse_valid])))"
   ]
  },
  {
   "cell_type": "code",
   "execution_count": 516,
   "metadata": {},
   "outputs": [],
   "source": [
    "obs_test = np.concatenate([df['observed'] for df in dfs_test])"
   ]
  },
  {
   "cell_type": "code",
   "execution_count": 517,
   "metadata": {},
   "outputs": [
    {
     "name": "stdout",
     "output_type": "stream",
     "text": [
      "[-25. -25. -25. ...  25.  25.  25.]\n"
     ]
    }
   ],
   "source": [
    "print(obs_test)"
   ]
  },
  {
   "cell_type": "code",
   "execution_count": 518,
   "metadata": {},
   "outputs": [],
   "source": [
    "pred_test = np.concatenate([lrs[fold].predict(dfs_test[fold][experiments]) for fold in range(max_folds)])"
   ]
  },
  {
   "cell_type": "code",
   "execution_count": 519,
   "metadata": {},
   "outputs": [
    {
     "name": "stdout",
     "output_type": "stream",
     "text": [
      "[-4.31559664 -3.43432918 -2.59324601 ...  4.78688396  2.66807502\n",
      "  1.33622439]\n"
     ]
    }
   ],
   "source": [
    "print(pred_test)"
   ]
  },
  {
   "cell_type": "code",
   "execution_count": 520,
   "metadata": {},
   "outputs": [
    {
     "name": "stdout",
     "output_type": "stream",
     "text": [
      "[0.792, 0.766, 9.589, 198.082]\n"
     ]
    }
   ],
   "source": [
    "mse_test = mean_squared_error(obs_test, pred_test)\n",
    "mae_test = mean_absolute_error(obs_test, pred_test)\n",
    "pr_test = pearsonr(obs_test, pred_test)\n",
    "sp_test = spearmanr(obs_test, pred_test)\n",
    "\n",
    "print(list(map(lambda x: round(x, 3), [pr_test[0], sp_test[0], mae_test, mse_test])))"
   ]
  },
  {
   "cell_type": "code",
   "execution_count": 521,
   "metadata": {},
   "outputs": [
    {
     "name": "stdout",
     "output_type": "stream",
     "text": [
      "Fold 0\n",
      "experiment: cnn_domain_zcoords, coef: 0.04, intercept: 0.88\n",
      "experiment: lstm_domain_zcoords, coef: 1.03, intercept: 0.88\n",
      "experiment: rf_zcoords_cont, coef: 0.22, intercept: 0.88\n",
      "experiment: xgb_zcoords_cont, coef: 0.00, intercept: 0.88\n",
      "Fold 1\n",
      "experiment: cnn_domain_zcoords, coef: 0.12, intercept: 1.05\n",
      "experiment: lstm_domain_zcoords, coef: 1.04, intercept: 1.05\n",
      "experiment: rf_zcoords_cont, coef: 0.24, intercept: 1.05\n",
      "experiment: xgb_zcoords_cont, coef: 0.07, intercept: 1.05\n",
      "Fold 2\n",
      "experiment: cnn_domain_zcoords, coef: 0.02, intercept: 1.17\n",
      "experiment: lstm_domain_zcoords, coef: 0.98, intercept: 1.17\n",
      "experiment: rf_zcoords_cont, coef: 0.07, intercept: 1.17\n",
      "experiment: xgb_zcoords_cont, coef: -0.12, intercept: 1.17\n",
      "Fold 3\n",
      "experiment: cnn_domain_zcoords, coef: 0.08, intercept: -0.04\n",
      "experiment: lstm_domain_zcoords, coef: 1.04, intercept: -0.04\n",
      "experiment: rf_zcoords_cont, coef: 0.08, intercept: -0.04\n",
      "experiment: xgb_zcoords_cont, coef: 0.12, intercept: -0.04\n",
      "Fold 4\n",
      "experiment: cnn_domain_zcoords, coef: -0.05, intercept: 1.27\n",
      "experiment: lstm_domain_zcoords, coef: 1.11, intercept: 1.27\n",
      "experiment: rf_zcoords_cont, coef: -0.02, intercept: 1.27\n",
      "experiment: xgb_zcoords_cont, coef: 0.09, intercept: 1.27\n"
     ]
    }
   ],
   "source": [
    "for fold in range(max_folds):\n",
    "    print(f'Fold {fold}')\n",
    "    for experiment, coef in zip(experiments, lrs[fold].coef_):\n",
    "        print(f'experiment: {experiment}, coef: {coef:.2f}, intercept: {lrs[fold].intercept_:.2f}')"
   ]
  },
  {
   "cell_type": "markdown",
   "metadata": {},
   "source": [
    "# BINARY"
   ]
  },
  {
   "cell_type": "code",
   "execution_count": 260,
   "metadata": {},
   "outputs": [],
   "source": [
    "target = 'mllib_features_binary_Bfactors'\n",
    "target_len = 1\n",
    "target_cols = [f'val_{i}' for i in range(target_len)]\n",
    "max_folds = 5"
   ]
  },
  {
   "cell_type": "code",
   "execution_count": 261,
   "metadata": {},
   "outputs": [],
   "source": [
    "experiments = [x[0] for x in conn.cursor().execute(f'select distinct experiment from {target} where '\n",
    "                          '(experiment like \"lstm%\" or '\n",
    "                          'experiment like \"cnn%\" or '\n",
    "                          'experiment like \"xgb%\" or '\n",
    "                          'experiment like \"rf%\") and '\n",
    "                          'experiment not like \"%VALID%\" and experiment not like \"%TEST%\"'\n",
    "                          'order by experiment'\n",
    "                         ).fetchall()]"
   ]
  },
  {
   "cell_type": "code",
   "execution_count": 262,
   "metadata": {},
   "outputs": [
    {
     "name": "stdout",
     "output_type": "stream",
     "text": [
      "['cnn_domain_bfactors', 'lstm_domain_bfactors', 'rf_bfactors_bin', 'xgb_bfactors_bin']\n"
     ]
    }
   ],
   "source": [
    "print(experiments)"
   ]
  },
  {
   "cell_type": "code",
   "execution_count": 263,
   "metadata": {},
   "outputs": [],
   "source": [
    "obss_valid = []\n",
    "obss_test = []\n",
    "for fold in range(max_folds):\n",
    "    obss_valid.append(pd.read_sql_query(f'select * from {target} join datasets using (id) where fold={fold} and kind=\"valid\" and experiment=\"observed\" order by id,resi', conn))\n",
    "    obss_test.append(pd.read_sql_query(f'select * from {target} join datasets using (id) where fold={fold} and kind=\"test\" and experiment=\"observed\" order by id,resi', conn))"
   ]
  },
  {
   "cell_type": "code",
   "execution_count": 264,
   "metadata": {},
   "outputs": [
    {
     "data": {
      "text/html": [
       "<div>\n",
       "<style scoped>\n",
       "    .dataframe tbody tr th:only-of-type {\n",
       "        vertical-align: middle;\n",
       "    }\n",
       "\n",
       "    .dataframe tbody tr th {\n",
       "        vertical-align: top;\n",
       "    }\n",
       "\n",
       "    .dataframe thead th {\n",
       "        text-align: right;\n",
       "    }\n",
       "</style>\n",
       "<table border=\"1\" class=\"dataframe\">\n",
       "  <thead>\n",
       "    <tr style=\"text-align: right;\">\n",
       "      <th></th>\n",
       "      <th>experiment</th>\n",
       "      <th>id</th>\n",
       "      <th>resi</th>\n",
       "      <th>val_0</th>\n",
       "      <th>name</th>\n",
       "      <th>fold</th>\n",
       "      <th>kind</th>\n",
       "    </tr>\n",
       "  </thead>\n",
       "  <tbody>\n",
       "    <tr>\n",
       "      <th>0</th>\n",
       "      <td>observed</td>\n",
       "      <td>1nek_C</td>\n",
       "      <td>0</td>\n",
       "      <td>1.0</td>\n",
       "      <td>depth</td>\n",
       "      <td>0</td>\n",
       "      <td>valid</td>\n",
       "    </tr>\n",
       "    <tr>\n",
       "      <th>1</th>\n",
       "      <td>observed</td>\n",
       "      <td>1nek_C</td>\n",
       "      <td>1</td>\n",
       "      <td>1.0</td>\n",
       "      <td>depth</td>\n",
       "      <td>0</td>\n",
       "      <td>valid</td>\n",
       "    </tr>\n",
       "    <tr>\n",
       "      <th>2</th>\n",
       "      <td>observed</td>\n",
       "      <td>1nek_C</td>\n",
       "      <td>2</td>\n",
       "      <td>1.0</td>\n",
       "      <td>depth</td>\n",
       "      <td>0</td>\n",
       "      <td>valid</td>\n",
       "    </tr>\n",
       "    <tr>\n",
       "      <th>3</th>\n",
       "      <td>observed</td>\n",
       "      <td>1nek_C</td>\n",
       "      <td>3</td>\n",
       "      <td>1.0</td>\n",
       "      <td>depth</td>\n",
       "      <td>0</td>\n",
       "      <td>valid</td>\n",
       "    </tr>\n",
       "    <tr>\n",
       "      <th>4</th>\n",
       "      <td>observed</td>\n",
       "      <td>1nek_C</td>\n",
       "      <td>4</td>\n",
       "      <td>1.0</td>\n",
       "      <td>depth</td>\n",
       "      <td>0</td>\n",
       "      <td>valid</td>\n",
       "    </tr>\n",
       "  </tbody>\n",
       "</table>\n",
       "</div>"
      ],
      "text/plain": [
       "  experiment      id  resi  val_0   name  fold   kind\n",
       "0   observed  1nek_C     0    1.0  depth     0  valid\n",
       "1   observed  1nek_C     1    1.0  depth     0  valid\n",
       "2   observed  1nek_C     2    1.0  depth     0  valid\n",
       "3   observed  1nek_C     3    1.0  depth     0  valid\n",
       "4   observed  1nek_C     4    1.0  depth     0  valid"
      ]
     },
     "execution_count": 264,
     "metadata": {},
     "output_type": "execute_result"
    }
   ],
   "source": [
    "obss_valid[0].head()"
   ]
  },
  {
   "cell_type": "code",
   "execution_count": 265,
   "metadata": {},
   "outputs": [],
   "source": [
    "preds_valid = []\n",
    "preds_test = []\n",
    "for fold in range(max_folds):\n",
    "    preds_valid.append([])\n",
    "    preds_test.append([])\n",
    "    for experiment in experiments:\n",
    "        preds_valid[-1].append(pd.read_sql_query(f'select * from {target} where experiment=\"{experiment}_VALID_{fold}\" order by id,resi', conn))\n",
    "        preds_test[-1].append(pd.read_sql_query(f'select * from {target} join datasets using (id) where experiment=\"{experiment}\" and kind=\"test\" and fold={fold} order by id,resi', conn))"
   ]
  },
  {
   "cell_type": "code",
   "execution_count": 266,
   "metadata": {},
   "outputs": [],
   "source": [
    "dfs_valid = []\n",
    "dfs_test = []\n",
    "for fold in range(max_folds):\n",
    "    dfs_valid.append(pd.concat(preds_valid[fold] + [obss_valid[fold]], axis=1)[target_cols])\n",
    "    dfs_valid[-1].columns = experiments + ['observed']\n",
    "    dfs_test.append(pd.concat(preds_test[fold] + [obss_test[fold]], axis=1)[target_cols])\n",
    "    dfs_test[-1].columns = experiments + ['observed']"
   ]
  },
  {
   "cell_type": "code",
   "execution_count": 267,
   "metadata": {},
   "outputs": [
    {
     "data": {
      "text/html": [
       "<div>\n",
       "<style scoped>\n",
       "    .dataframe tbody tr th:only-of-type {\n",
       "        vertical-align: middle;\n",
       "    }\n",
       "\n",
       "    .dataframe tbody tr th {\n",
       "        vertical-align: top;\n",
       "    }\n",
       "\n",
       "    .dataframe thead th {\n",
       "        text-align: right;\n",
       "    }\n",
       "</style>\n",
       "<table border=\"1\" class=\"dataframe\">\n",
       "  <thead>\n",
       "    <tr style=\"text-align: right;\">\n",
       "      <th></th>\n",
       "      <th>cnn_domain_bfactors</th>\n",
       "      <th>lstm_domain_bfactors</th>\n",
       "      <th>rf_bfactors_bin</th>\n",
       "      <th>xgb_bfactors_bin</th>\n",
       "      <th>observed</th>\n",
       "    </tr>\n",
       "  </thead>\n",
       "  <tbody>\n",
       "    <tr>\n",
       "      <th>0</th>\n",
       "      <td>0.697402</td>\n",
       "      <td>0.797277</td>\n",
       "      <td>0.665</td>\n",
       "      <td>0.734198</td>\n",
       "      <td>1.0</td>\n",
       "    </tr>\n",
       "    <tr>\n",
       "      <th>1</th>\n",
       "      <td>0.706198</td>\n",
       "      <td>0.794890</td>\n",
       "      <td>0.578</td>\n",
       "      <td>0.713786</td>\n",
       "      <td>1.0</td>\n",
       "    </tr>\n",
       "    <tr>\n",
       "      <th>2</th>\n",
       "      <td>0.729441</td>\n",
       "      <td>0.835546</td>\n",
       "      <td>0.563</td>\n",
       "      <td>0.607813</td>\n",
       "      <td>1.0</td>\n",
       "    </tr>\n",
       "    <tr>\n",
       "      <th>3</th>\n",
       "      <td>0.690561</td>\n",
       "      <td>0.850896</td>\n",
       "      <td>0.517</td>\n",
       "      <td>0.563066</td>\n",
       "      <td>1.0</td>\n",
       "    </tr>\n",
       "    <tr>\n",
       "      <th>4</th>\n",
       "      <td>0.672404</td>\n",
       "      <td>0.839514</td>\n",
       "      <td>0.507</td>\n",
       "      <td>0.638690</td>\n",
       "      <td>1.0</td>\n",
       "    </tr>\n",
       "  </tbody>\n",
       "</table>\n",
       "</div>"
      ],
      "text/plain": [
       "   cnn_domain_bfactors  lstm_domain_bfactors  rf_bfactors_bin  \\\n",
       "0             0.697402              0.797277            0.665   \n",
       "1             0.706198              0.794890            0.578   \n",
       "2             0.729441              0.835546            0.563   \n",
       "3             0.690561              0.850896            0.517   \n",
       "4             0.672404              0.839514            0.507   \n",
       "\n",
       "   xgb_bfactors_bin  observed  \n",
       "0          0.734198       1.0  \n",
       "1          0.713786       1.0  \n",
       "2          0.607813       1.0  \n",
       "3          0.563066       1.0  \n",
       "4          0.638690       1.0  "
      ]
     },
     "execution_count": 267,
     "metadata": {},
     "output_type": "execute_result"
    }
   ],
   "source": [
    "dfs_valid[0].head()"
   ]
  },
  {
   "cell_type": "code",
   "execution_count": 270,
   "metadata": {},
   "outputs": [],
   "source": [
    "lrs = []\n",
    "for fold in range(max_folds):\n",
    "    lrs.append(LogisticRegression().fit(dfs_valid[fold][experiments], dfs_valid[fold]['observed']))"
   ]
  },
  {
   "cell_type": "code",
   "execution_count": 271,
   "metadata": {},
   "outputs": [],
   "source": [
    "obs_valid = np.concatenate([df['observed'] for df in dfs_valid])"
   ]
  },
  {
   "cell_type": "code",
   "execution_count": 272,
   "metadata": {},
   "outputs": [
    {
     "name": "stdout",
     "output_type": "stream",
     "text": [
      "[1. 1. 1. ... 1. 1. 1.]\n"
     ]
    }
   ],
   "source": [
    "print(obs_valid)"
   ]
  },
  {
   "cell_type": "code",
   "execution_count": 284,
   "metadata": {},
   "outputs": [],
   "source": [
    "pred_valid = np.concatenate([lrs[fold].predict_proba(dfs_valid[fold][experiments])[:, 1] for fold in range(max_folds)])"
   ]
  },
  {
   "cell_type": "code",
   "execution_count": 285,
   "metadata": {},
   "outputs": [
    {
     "name": "stdout",
     "output_type": "stream",
     "text": [
      "[0.80424121 0.80350017 0.8175293  ... 0.75780174 0.79064733 0.80580833]\n"
     ]
    }
   ],
   "source": [
    "print(pred_valid)"
   ]
  },
  {
   "cell_type": "code",
   "execution_count": 300,
   "metadata": {},
   "outputs": [
    {
     "name": "stdout",
     "output_type": "stream",
     "text": [
      "acc 0.684\n",
      "p 0.635\n",
      "r 0.486\n",
      "f1 0.55\n",
      "auc 0.735\n",
      "mcc 0.321\n"
     ]
    }
   ],
   "source": [
    "measures = [('acc', lambda o, p: accuracy_score(o, np.round(p))), \n",
    "            ('p', lambda o, p: precision_score(o, np.round(p))), \n",
    "            ('r', lambda o, p: recall_score(o, np.round(p))), \n",
    "            ('f1', lambda o, p: f1_score(o, np.round(p))), \n",
    "            ('auc', roc_auc_score), \n",
    "            ('mcc', lambda o, p: matthews_corrcoef(o, np.round(p)))\n",
    "           ]\n",
    "\n",
    "for name, measure in measures:\n",
    "    print(name, round(measure(obs_valid, pred_valid), 3))"
   ]
  },
  {
   "cell_type": "code",
   "execution_count": 301,
   "metadata": {},
   "outputs": [],
   "source": [
    "obs_test = np.concatenate([df['observed'] for df in dfs_test])"
   ]
  },
  {
   "cell_type": "code",
   "execution_count": 302,
   "metadata": {},
   "outputs": [
    {
     "name": "stdout",
     "output_type": "stream",
     "text": [
      "[1. 1. 1. ... 0. 1. 1.]\n"
     ]
    }
   ],
   "source": [
    "print(obs_test)"
   ]
  },
  {
   "cell_type": "code",
   "execution_count": 303,
   "metadata": {},
   "outputs": [],
   "source": [
    "pred_test = np.concatenate([lrs[fold].predict_proba(dfs_test[fold][experiments])[:, 1] for fold in range(max_folds)])"
   ]
  },
  {
   "cell_type": "code",
   "execution_count": 304,
   "metadata": {},
   "outputs": [
    {
     "name": "stdout",
     "output_type": "stream",
     "text": [
      "[0.70620855 0.73938313 0.70434053 ... 0.59602524 0.76995504 0.77514956]\n"
     ]
    }
   ],
   "source": [
    "print(pred_test)"
   ]
  },
  {
   "cell_type": "code",
   "execution_count": 305,
   "metadata": {},
   "outputs": [
    {
     "name": "stdout",
     "output_type": "stream",
     "text": [
      "acc 0.686\n",
      "p 0.638\n",
      "r 0.475\n",
      "f1 0.544\n",
      "auc 0.73\n",
      "mcc 0.321\n"
     ]
    }
   ],
   "source": [
    "measures = [('acc', lambda o, p: accuracy_score(o, np.round(p))), \n",
    "            ('p', lambda o, p: precision_score(o, np.round(p))), \n",
    "            ('r', lambda o, p: recall_score(o, np.round(p))), \n",
    "            ('f1', lambda o, p: f1_score(o, np.round(p))), \n",
    "            ('auc', roc_auc_score), \n",
    "            ('mcc', lambda o, p: matthews_corrcoef(o, np.round(p)))\n",
    "           ]\n",
    "\n",
    "for name, measure in measures:\n",
    "    print(name, round(measure(obs_test, pred_test), 3))"
   ]
  },
  {
   "cell_type": "code",
   "execution_count": 310,
   "metadata": {},
   "outputs": [],
   "source": [
    "#for fold in range(max_folds):\n",
    "#    print(f'Fold {fold}')\n",
    "#    for experiment, coef in zip(experiments, lrs[fold].coef_):\n",
    "#        print(f'experiment: {experiment}#, coef: {coef:.2f}, intercept: {lrs[fold].intercept_:.2f}')"
   ]
  },
  {
   "cell_type": "markdown",
   "metadata": {},
   "source": [
    "# CATEGORICAL"
   ]
  },
  {
   "cell_type": "code",
   "execution_count": 375,
   "metadata": {},
   "outputs": [],
   "source": [
    "target = 'mllib_features_categorical_SecStruc'\n",
    "target_len = 3\n",
    "target_cols = [f'val_{i}' for i in range(target_len)]\n",
    "max_folds = 5"
   ]
  },
  {
   "cell_type": "code",
   "execution_count": 376,
   "metadata": {},
   "outputs": [],
   "source": [
    "experiments = [x[0] for x in conn.cursor().execute(f'select distinct experiment from {target} where '\n",
    "                          '(experiment like \"lstm%\" or '\n",
    "                          'experiment like \"cnn%\" or '\n",
    "                          'experiment like \"xgb%\" or '\n",
    "                          'experiment like \"rf%\") and '\n",
    "                          'experiment not like \"%VALID%\" and experiment not like \"%TEST%\"'\n",
    "                          'order by experiment'\n",
    "                         ).fetchall()]"
   ]
  },
  {
   "cell_type": "code",
   "execution_count": 377,
   "metadata": {},
   "outputs": [
    {
     "name": "stdout",
     "output_type": "stream",
     "text": [
      "['cnn_sec', 'lstm_sec', 'rf_sec', 'xgb_sec']\n"
     ]
    }
   ],
   "source": [
    "print(experiments)"
   ]
  },
  {
   "cell_type": "code",
   "execution_count": 378,
   "metadata": {},
   "outputs": [
    {
     "data": {
      "text/plain": [
       "['cnn_sec_val_0',\n",
       " 'cnn_sec_val_1',\n",
       " 'cnn_sec_val_2',\n",
       " 'lstm_sec_val_0',\n",
       " 'lstm_sec_val_1',\n",
       " 'lstm_sec_val_2',\n",
       " 'rf_sec_val_0',\n",
       " 'rf_sec_val_1',\n",
       " 'rf_sec_val_2',\n",
       " 'xgb_sec_val_0',\n",
       " 'xgb_sec_val_1',\n",
       " 'xgb_sec_val_2']"
      ]
     },
     "execution_count": 378,
     "metadata": {},
     "output_type": "execute_result"
    }
   ],
   "source": [
    "feature_cols = []\n",
    "for experiment in experiments:\n",
    "    for target_col in target_cols:\n",
    "        feature_cols.append(f'{experiment}_{target_col}')\n",
    "        \n",
    "feature_cols"
   ]
  },
  {
   "cell_type": "code",
   "execution_count": 379,
   "metadata": {},
   "outputs": [],
   "source": [
    "obss_valid = []\n",
    "obss_test = []\n",
    "for fold in range(max_folds):\n",
    "    obss_valid.append(pd.read_sql_query(f'select id, {\",\".join(target_cols)} from {target} join datasets using (id) where fold={fold} and kind=\"valid\" and experiment=\"observed\" order by id,resi', conn))\n",
    "    obss_test.append(pd.read_sql_query(f'select id, {\",\".join(target_cols)} from {target} join datasets using (id) where fold={fold} and kind=\"test\" and experiment=\"observed\" order by id,resi', conn))"
   ]
  },
  {
   "cell_type": "code",
   "execution_count": 380,
   "metadata": {},
   "outputs": [
    {
     "data": {
      "text/html": [
       "<div>\n",
       "<style scoped>\n",
       "    .dataframe tbody tr th:only-of-type {\n",
       "        vertical-align: middle;\n",
       "    }\n",
       "\n",
       "    .dataframe tbody tr th {\n",
       "        vertical-align: top;\n",
       "    }\n",
       "\n",
       "    .dataframe thead th {\n",
       "        text-align: right;\n",
       "    }\n",
       "</style>\n",
       "<table border=\"1\" class=\"dataframe\">\n",
       "  <thead>\n",
       "    <tr style=\"text-align: right;\">\n",
       "      <th></th>\n",
       "      <th>id</th>\n",
       "      <th>val_0</th>\n",
       "      <th>val_1</th>\n",
       "      <th>val_2</th>\n",
       "    </tr>\n",
       "  </thead>\n",
       "  <tbody>\n",
       "    <tr>\n",
       "      <th>0</th>\n",
       "      <td>1nek_C</td>\n",
       "      <td>0.0</td>\n",
       "      <td>0.0</td>\n",
       "      <td>1.0</td>\n",
       "    </tr>\n",
       "    <tr>\n",
       "      <th>1</th>\n",
       "      <td>1nek_C</td>\n",
       "      <td>0.0</td>\n",
       "      <td>0.0</td>\n",
       "      <td>1.0</td>\n",
       "    </tr>\n",
       "    <tr>\n",
       "      <th>2</th>\n",
       "      <td>1nek_C</td>\n",
       "      <td>0.0</td>\n",
       "      <td>0.0</td>\n",
       "      <td>1.0</td>\n",
       "    </tr>\n",
       "    <tr>\n",
       "      <th>3</th>\n",
       "      <td>1nek_C</td>\n",
       "      <td>0.0</td>\n",
       "      <td>0.0</td>\n",
       "      <td>1.0</td>\n",
       "    </tr>\n",
       "    <tr>\n",
       "      <th>4</th>\n",
       "      <td>1nek_C</td>\n",
       "      <td>0.0</td>\n",
       "      <td>0.0</td>\n",
       "      <td>1.0</td>\n",
       "    </tr>\n",
       "  </tbody>\n",
       "</table>\n",
       "</div>"
      ],
      "text/plain": [
       "       id  val_0  val_1  val_2\n",
       "0  1nek_C    0.0    0.0    1.0\n",
       "1  1nek_C    0.0    0.0    1.0\n",
       "2  1nek_C    0.0    0.0    1.0\n",
       "3  1nek_C    0.0    0.0    1.0\n",
       "4  1nek_C    0.0    0.0    1.0"
      ]
     },
     "execution_count": 380,
     "metadata": {},
     "output_type": "execute_result"
    }
   ],
   "source": [
    "obss_valid[0].head()"
   ]
  },
  {
   "cell_type": "code",
   "execution_count": 381,
   "metadata": {},
   "outputs": [],
   "source": [
    "preds_valid = []\n",
    "preds_test = []\n",
    "for fold in range(max_folds):\n",
    "    preds_valid.append([])\n",
    "    preds_test.append([])\n",
    "    for experiment in experiments:\n",
    "        val = pd.read_sql_query(f'select {\",\".join(target_cols)} from {target} where experiment=\"{experiment}_VALID_{fold}\" order by id,resi', conn)\n",
    "        val.columns = [f'{experiment}_{col}' for col in val.columns]\n",
    "        preds_valid[-1].append(val)\n",
    "        tst = pd.read_sql_query(f'select {\",\".join(target_cols)} from {target} join datasets using (id) where experiment=\"{experiment}\" and kind=\"test\" and fold={fold} order by id,resi', conn)\n",
    "        tst.columns = [f'{experiment}_{col}' for col in tst.columns]\n",
    "        preds_test[-1].append(tst)"
   ]
  },
  {
   "cell_type": "code",
   "execution_count": 382,
   "metadata": {},
   "outputs": [],
   "source": [
    "dfs_valid = []\n",
    "dfs_test = []\n",
    "for fold in range(max_folds):\n",
    "    dfs_valid.append(pd.concat([obss_valid[fold]] + preds_valid[fold], axis=1))\n",
    "    #dfs_valid[-1].columns = experiments + ['observed']\n",
    "    dfs_test.append(pd.concat([obss_test[fold]] + preds_test[fold], axis=1))\n",
    "    #dfs_test[-1].columns = experiments + ['observed']"
   ]
  },
  {
   "cell_type": "code",
   "execution_count": 383,
   "metadata": {},
   "outputs": [
    {
     "data": {
      "text/html": [
       "<div>\n",
       "<style scoped>\n",
       "    .dataframe tbody tr th:only-of-type {\n",
       "        vertical-align: middle;\n",
       "    }\n",
       "\n",
       "    .dataframe tbody tr th {\n",
       "        vertical-align: top;\n",
       "    }\n",
       "\n",
       "    .dataframe thead th {\n",
       "        text-align: right;\n",
       "    }\n",
       "</style>\n",
       "<table border=\"1\" class=\"dataframe\">\n",
       "  <thead>\n",
       "    <tr style=\"text-align: right;\">\n",
       "      <th></th>\n",
       "      <th>id</th>\n",
       "      <th>val_0</th>\n",
       "      <th>val_1</th>\n",
       "      <th>val_2</th>\n",
       "      <th>cnn_sec_val_0</th>\n",
       "      <th>cnn_sec_val_1</th>\n",
       "      <th>cnn_sec_val_2</th>\n",
       "      <th>lstm_sec_val_0</th>\n",
       "      <th>lstm_sec_val_1</th>\n",
       "      <th>lstm_sec_val_2</th>\n",
       "      <th>rf_sec_val_0</th>\n",
       "      <th>rf_sec_val_1</th>\n",
       "      <th>rf_sec_val_2</th>\n",
       "      <th>xgb_sec_val_0</th>\n",
       "      <th>xgb_sec_val_1</th>\n",
       "      <th>xgb_sec_val_2</th>\n",
       "    </tr>\n",
       "  </thead>\n",
       "  <tbody>\n",
       "    <tr>\n",
       "      <th>0</th>\n",
       "      <td>1nek_C</td>\n",
       "      <td>0.0</td>\n",
       "      <td>0.0</td>\n",
       "      <td>1.0</td>\n",
       "      <td>0.200287</td>\n",
       "      <td>0.024883</td>\n",
       "      <td>0.774830</td>\n",
       "      <td>0.762536</td>\n",
       "      <td>0.006304</td>\n",
       "      <td>0.231160</td>\n",
       "      <td>0.441</td>\n",
       "      <td>0.141</td>\n",
       "      <td>0.418</td>\n",
       "      <td>0.520793</td>\n",
       "      <td>0.075567</td>\n",
       "      <td>0.403640</td>\n",
       "    </tr>\n",
       "    <tr>\n",
       "      <th>1</th>\n",
       "      <td>1nek_C</td>\n",
       "      <td>0.0</td>\n",
       "      <td>0.0</td>\n",
       "      <td>1.0</td>\n",
       "      <td>0.375613</td>\n",
       "      <td>0.020773</td>\n",
       "      <td>0.603614</td>\n",
       "      <td>0.819807</td>\n",
       "      <td>0.003242</td>\n",
       "      <td>0.176951</td>\n",
       "      <td>0.473</td>\n",
       "      <td>0.079</td>\n",
       "      <td>0.448</td>\n",
       "      <td>0.579424</td>\n",
       "      <td>0.080823</td>\n",
       "      <td>0.339753</td>\n",
       "    </tr>\n",
       "    <tr>\n",
       "      <th>2</th>\n",
       "      <td>1nek_C</td>\n",
       "      <td>0.0</td>\n",
       "      <td>0.0</td>\n",
       "      <td>1.0</td>\n",
       "      <td>0.759209</td>\n",
       "      <td>0.007068</td>\n",
       "      <td>0.233723</td>\n",
       "      <td>0.690405</td>\n",
       "      <td>0.005289</td>\n",
       "      <td>0.304305</td>\n",
       "      <td>0.445</td>\n",
       "      <td>0.090</td>\n",
       "      <td>0.465</td>\n",
       "      <td>0.366286</td>\n",
       "      <td>0.022460</td>\n",
       "      <td>0.611254</td>\n",
       "    </tr>\n",
       "    <tr>\n",
       "      <th>3</th>\n",
       "      <td>1nek_C</td>\n",
       "      <td>0.0</td>\n",
       "      <td>0.0</td>\n",
       "      <td>1.0</td>\n",
       "      <td>0.764356</td>\n",
       "      <td>0.011984</td>\n",
       "      <td>0.223660</td>\n",
       "      <td>0.474070</td>\n",
       "      <td>0.004591</td>\n",
       "      <td>0.521339</td>\n",
       "      <td>0.492</td>\n",
       "      <td>0.068</td>\n",
       "      <td>0.440</td>\n",
       "      <td>0.377420</td>\n",
       "      <td>0.041910</td>\n",
       "      <td>0.580670</td>\n",
       "    </tr>\n",
       "    <tr>\n",
       "      <th>4</th>\n",
       "      <td>1nek_C</td>\n",
       "      <td>0.0</td>\n",
       "      <td>0.0</td>\n",
       "      <td>1.0</td>\n",
       "      <td>0.774572</td>\n",
       "      <td>0.018595</td>\n",
       "      <td>0.206832</td>\n",
       "      <td>0.403448</td>\n",
       "      <td>0.004784</td>\n",
       "      <td>0.591768</td>\n",
       "      <td>0.482</td>\n",
       "      <td>0.067</td>\n",
       "      <td>0.451</td>\n",
       "      <td>0.335889</td>\n",
       "      <td>0.034939</td>\n",
       "      <td>0.629173</td>\n",
       "    </tr>\n",
       "  </tbody>\n",
       "</table>\n",
       "</div>"
      ],
      "text/plain": [
       "       id  val_0  val_1  val_2  cnn_sec_val_0  cnn_sec_val_1  cnn_sec_val_2  \\\n",
       "0  1nek_C    0.0    0.0    1.0       0.200287       0.024883       0.774830   \n",
       "1  1nek_C    0.0    0.0    1.0       0.375613       0.020773       0.603614   \n",
       "2  1nek_C    0.0    0.0    1.0       0.759209       0.007068       0.233723   \n",
       "3  1nek_C    0.0    0.0    1.0       0.764356       0.011984       0.223660   \n",
       "4  1nek_C    0.0    0.0    1.0       0.774572       0.018595       0.206832   \n",
       "\n",
       "   lstm_sec_val_0  lstm_sec_val_1  lstm_sec_val_2  rf_sec_val_0  rf_sec_val_1  \\\n",
       "0        0.762536        0.006304        0.231160         0.441         0.141   \n",
       "1        0.819807        0.003242        0.176951         0.473         0.079   \n",
       "2        0.690405        0.005289        0.304305         0.445         0.090   \n",
       "3        0.474070        0.004591        0.521339         0.492         0.068   \n",
       "4        0.403448        0.004784        0.591768         0.482         0.067   \n",
       "\n",
       "   rf_sec_val_2  xgb_sec_val_0  xgb_sec_val_1  xgb_sec_val_2  \n",
       "0         0.418       0.520793       0.075567       0.403640  \n",
       "1         0.448       0.579424       0.080823       0.339753  \n",
       "2         0.465       0.366286       0.022460       0.611254  \n",
       "3         0.440       0.377420       0.041910       0.580670  \n",
       "4         0.451       0.335889       0.034939       0.629173  "
      ]
     },
     "execution_count": 383,
     "metadata": {},
     "output_type": "execute_result"
    }
   ],
   "source": [
    "dfs_valid[0].head()"
   ]
  },
  {
   "cell_type": "code",
   "execution_count": 463,
   "metadata": {},
   "outputs": [
    {
     "name": "stdout",
     "output_type": "stream",
     "text": [
      "[8]\n",
      "[7]\n",
      "[7]\n",
      "[7]\n",
      "[7]\n"
     ]
    }
   ],
   "source": [
    "lrs = []\n",
    "for fold in range(max_folds):\n",
    "    # solver= str, {‘newton-cg’, ‘lbfgs’, ‘liblinear’, ‘sag’, ‘saga’}, default: ‘liblinear’.\n",
    "    #multi_class = 'ovr' 'multinomial'\n",
    "    lrs.append(LogisticRegression().fit(dfs_valid[fold][feature_cols], np.argmax(dfs_valid[fold][target_cols].values, axis=1)))\n",
    "    print(lrs[-1].n_iter_)"
   ]
  },
  {
   "cell_type": "code",
   "execution_count": 464,
   "metadata": {},
   "outputs": [],
   "source": [
    "obs_valid = np.concatenate([df[target_cols] for df in dfs_valid])"
   ]
  },
  {
   "cell_type": "code",
   "execution_count": 465,
   "metadata": {},
   "outputs": [
    {
     "name": "stdout",
     "output_type": "stream",
     "text": [
      "[[0. 0. 1.]\n",
      " [0. 0. 1.]\n",
      " [0. 0. 1.]\n",
      " ...\n",
      " [1. 0. 0.]\n",
      " [1. 0. 0.]\n",
      " [0. 0. 1.]]\n"
     ]
    }
   ],
   "source": [
    "print(obs_valid)"
   ]
  },
  {
   "cell_type": "code",
   "execution_count": 466,
   "metadata": {},
   "outputs": [],
   "source": [
    "pred_valid = np.concatenate([lrs[fold].predict_proba(dfs_valid[fold][feature_cols]) for fold in range(max_folds)])"
   ]
  },
  {
   "cell_type": "code",
   "execution_count": 467,
   "metadata": {},
   "outputs": [
    {
     "name": "stdout",
     "output_type": "stream",
     "text": [
      "[[0.34105271 0.01041344 0.64853385]\n",
      " [0.53801763 0.00772666 0.45425571]\n",
      " [0.71604401 0.00970109 0.2742549 ]\n",
      " ...\n",
      " [0.93587763 0.01217407 0.05194829]\n",
      " [0.89262182 0.01671146 0.09066671]\n",
      " [0.70572231 0.03113135 0.26314634]]\n"
     ]
    }
   ],
   "source": [
    "print(pred_valid)"
   ]
  },
  {
   "cell_type": "code",
   "execution_count": 468,
   "metadata": {},
   "outputs": [
    {
     "name": "stdout",
     "output_type": "stream",
     "text": [
      "auc 0.951\n",
      "auc 0.955\n",
      "auc 0.919\n"
     ]
    }
   ],
   "source": [
    "for i in range(target_len):\n",
    "    print('auc', round(roc_auc_score(obs_valid[:, i], pred_valid[:, i]), 3))"
   ]
  },
  {
   "cell_type": "code",
   "execution_count": 469,
   "metadata": {},
   "outputs": [],
   "source": [
    "obs_test = np.concatenate([df[target_cols] for df in dfs_test])"
   ]
  },
  {
   "cell_type": "code",
   "execution_count": 470,
   "metadata": {},
   "outputs": [
    {
     "name": "stdout",
     "output_type": "stream",
     "text": [
      "[[0. 0. 1.]\n",
      " [1. 0. 0.]\n",
      " [1. 0. 0.]\n",
      " ...\n",
      " [1. 0. 0.]\n",
      " [1. 0. 0.]\n",
      " [0. 0. 1.]]\n"
     ]
    }
   ],
   "source": [
    "print(obs_test)"
   ]
  },
  {
   "cell_type": "code",
   "execution_count": 471,
   "metadata": {},
   "outputs": [],
   "source": [
    "pred_test = np.concatenate([lrs[fold].predict_proba(dfs_test[fold][feature_cols]) for fold in range(max_folds)])"
   ]
  },
  {
   "cell_type": "code",
   "execution_count": 472,
   "metadata": {},
   "outputs": [
    {
     "name": "stdout",
     "output_type": "stream",
     "text": [
      "[[0.882346   0.00437122 0.11328278]\n",
      " [0.95678715 0.00346388 0.03974897]\n",
      " [0.96006899 0.00308199 0.03684902]\n",
      " ...\n",
      " [0.85823407 0.01851061 0.12325532]\n",
      " [0.54157473 0.0319469  0.42647837]\n",
      " [0.29400877 0.07513022 0.63086102]]\n"
     ]
    }
   ],
   "source": [
    "print(pred_test)"
   ]
  },
  {
   "cell_type": "code",
   "execution_count": 473,
   "metadata": {},
   "outputs": [
    {
     "name": "stdout",
     "output_type": "stream",
     "text": [
      "auc 0.939\n",
      "auc 0.947\n",
      "auc 0.909\n"
     ]
    }
   ],
   "source": [
    "for i in range(target_len):\n",
    "    print('auc', round(roc_auc_score(obs_test[:, i], pred_test[:, i]), 3))"
   ]
  },
  {
   "cell_type": "code",
   "execution_count": 474,
   "metadata": {},
   "outputs": [],
   "source": [
    "#for fold in range(max_folds):\n",
    "#    print(f'Fold {fold}')\n",
    "#    for experiment, coef in zip(experiments, lrs[fold].coef_):\n",
    "#        print(f'experiment: {experiment}#, coef: {coef:.2f}, intercept: {lrs[fold].intercept_:.2f}')"
   ]
  },
  {
   "cell_type": "code",
   "execution_count": 475,
   "metadata": {},
   "outputs": [
    {
     "ename": "SyntaxError",
     "evalue": "invalid syntax (<ipython-input-475-585db11f694e>, line 1)",
     "output_type": "error",
     "traceback": [
      "\u001b[0;36m  File \u001b[0;32m\"<ipython-input-475-585db11f694e>\"\u001b[0;36m, line \u001b[0;32m1\u001b[0m\n\u001b[0;31m    auc 0.939\u001b[0m\n\u001b[0m            ^\u001b[0m\n\u001b[0;31mSyntaxError\u001b[0m\u001b[0;31m:\u001b[0m invalid syntax\n"
     ]
    }
   ],
   "source": [
    "auc 0.939\n",
    "auc 0.947\n",
    "auc 0.909"
   ]
  },
  {
   "cell_type": "code",
   "execution_count": 499,
   "metadata": {},
   "outputs": [
    {
     "data": {
      "text/plain": [
       "513"
      ]
     },
     "execution_count": 499,
     "metadata": {},
     "output_type": "execute_result"
    }
   ],
   "source": [
    "dfs_test[0].id.value_counts()['2z5x_A']"
   ]
  },
  {
   "cell_type": "code",
   "execution_count": null,
   "metadata": {},
   "outputs": [],
   "source": []
  },
  {
   "cell_type": "code",
   "execution_count": null,
   "metadata": {},
   "outputs": [],
   "source": []
  }
 ],
 "metadata": {
  "kernelspec": {
   "display_name": "Python [conda env:jupyter]",
   "language": "python",
   "name": "conda-env-jupyter-py"
  },
  "language_info": {
   "codemirror_mode": {
    "name": "ipython",
    "version": 3
   },
   "file_extension": ".py",
   "mimetype": "text/x-python",
   "name": "python",
   "nbconvert_exporter": "python",
   "pygments_lexer": "ipython3",
   "version": "3.6.6"
  }
 },
 "nbformat": 4,
 "nbformat_minor": 2
}
